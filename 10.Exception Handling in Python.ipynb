{
 "cells": [
  {
   "cell_type": "markdown",
   "id": "a2f145ed-1ba0-4964-8612-67cef0b331ec",
   "metadata": {},
   "source": [
    "# 10. Exception Handling in Python\n",
    "\n",
    "* __An exception is an event, which occurs during the execution of a program that disrupts the normal flow of the program's instructions.__\n",
    "* __In general, when a Python scripts encounters a situation that it cannot cope with, it raises an exception.__\n",
    "* __An exception is a Python object that represents an error.__\n",
    "* __When a Python scripts raises an exeption, it must either handle the exception immediately otherwise it terminates and quits.__\n",
    "* __If you have some suspicious code that may raises an exception, you can defend your program by placing the suspicious code in a try:block.__\n",
    "* __After the try: block, include an except: statement, followed by a block of code which handles the problem as elegantly as possible.__\n",
    "\n",
    "# Common exceptions\n",
    " * __ZeroDivisionError__\n",
    " * __NameError__\n",
    " * __IOError__\n",
    " * __EOFError__\n",
    " * __IdentationError__"
   ]
  },
  {
   "cell_type": "code",
   "execution_count": null,
   "id": "b69a2cbd-defe-49a7-bb10-f6da54dc2c86",
   "metadata": {},
   "outputs": [],
   "source": []
  }
 ],
 "metadata": {
  "kernelspec": {
   "display_name": "Python 3 (ipykernel)",
   "language": "python",
   "name": "python3"
  },
  "language_info": {
   "codemirror_mode": {
    "name": "ipython",
    "version": 3
   },
   "file_extension": ".py",
   "mimetype": "text/x-python",
   "name": "python",
   "nbconvert_exporter": "python",
   "pygments_lexer": "ipython3",
   "version": "3.11.4"
  }
 },
 "nbformat": 4,
 "nbformat_minor": 5
}
