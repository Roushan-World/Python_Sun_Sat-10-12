{
 "cells": [
  {
   "cell_type": "markdown",
   "id": "a2f145ed-1ba0-4964-8612-67cef0b331ec",
   "metadata": {},
   "source": [
    "# 10. Exception Handling in Python\n",
    "\n",
    "* __An exception is an event, which occurs during the execution of a program that disrupts the normal flow of the program's instructions.__\n",
    "* __In general, when a Python scripts encounters a situation that it cannot cope with, it raises an exception.__\n",
    "* __An exception is a Python object that represents an error.__\n",
    "* __When a Python scripts raises an exeption, it must either handle the exception immediately otherwise it terminates and quits.__\n",
    "* __If you have some suspicious code that may raises an exception, you can defend your program by placing the suspicious code in a try:block.__\n",
    "* __After the try: block, include an except: statement, followed by a block of code which handles the problem as elegantly as possible.__\n",
    "\n",
    "# Common exceptions\n",
    " * __ZeroDivisionError__\n",
    " * __NameError__\n",
    " * __IOError__\n",
    " * __EOFError__\n",
    " * __IdentationError__"
   ]
  },
  {
   "cell_type": "code",
   "execution_count": 19,
   "id": "b69a2cbd-defe-49a7-bb10-f6da54dc2c86",
   "metadata": {},
   "outputs": [
    {
     "name": "stdin",
     "output_type": "stream",
     "text": [
      "Enter your range: 50\n",
      "Enter your end range: 70\n"
     ]
    },
    {
     "name": "stdout",
     "output_type": "stream",
     "text": [
      "[50, 51, 52, 53, 54, 55, 56, 57, 58, 59, 60, 61, 62, 63, 64, 65, 66, 67, 68, 69, 70] \n",
      " [50, 52, 54, 56, 58, 60, 62, 64, 66, 68, 70] = 660 , AVG= 60.0 \n",
      " [51, 53, 55, 57, 59, 61, 63, 65, 67, 69] = 600 , AVG= 60.0\n"
     ]
    }
   ],
   "source": [
    "try:\n",
    "    x=int(input('Enter your range:'))\n",
    "    y=int(input('Enter your end range:'))\n",
    "    list1=[]\n",
    "    even_list=[]\n",
    "    even_sum=0\n",
    "    odd_list=[]\n",
    "    odd_sum=0\n",
    "    if x>0 and y>0:\n",
    "        while x<=y:\n",
    "            list1.append(x)\n",
    "            if x%2==0:\n",
    "                even_list.append(x)\n",
    "                even_sum+=x\n",
    "            elif x%2!=0:\n",
    "                odd_list.append(x)\n",
    "                odd_sum+=x\n",
    "            x+=1\n",
    "        \n",
    "        print(list1,'\\n',even_list,'=',even_sum,', AVG=',even_sum/len(even_list),'\\n',odd_list,'=',odd_sum,', AVG=',odd_sum/len(odd_list))\n",
    "    \n",
    "    else:\n",
    "        print('Enter only positive value.')\n",
    "except ValueError:\n",
    "    print('Enter only Numbers value')"
   ]
  },
  {
   "cell_type": "code",
   "execution_count": 32,
   "id": "70eb1215-6f22-4c9e-b185-2b4a947c05bd",
   "metadata": {},
   "outputs": [
    {
     "name": "stdin",
     "output_type": "stream",
     "text": [
      "Enter your total unit: 720\n",
      "Enter your total time used: 24\n"
     ]
    },
    {
     "name": "stdout",
     "output_type": "stream",
     "text": [
      "Total Energy is: 17.28 Kwh\n",
      "Total Cost is: ₹ 172.8\n"
     ]
    }
   ],
   "source": [
    "unit=int(input('Enter your total unit:'))\n",
    "time=int(input('Enter your total time used:'))\n",
    "unit_cost=10\n",
    "if unit>0 and time>0:\n",
    "    \n",
    "    energy= (unit)/1000*time\n",
    "    print('Total Energy is:',energy,'Kwh')\n",
    "    if energy>0 and unit>0:\n",
    "        energy_consuption=energy*unit_cost\n",
    "        print('Total Cost is:',\"₹\",energy_consuption)\n",
    "    else:\n",
    "        print('Enter Valid Hours. Hours Not be in 0')\n",
    "\n",
    "else: \n",
    "    print('Units Should be more then 0')"
   ]
  },
  {
   "cell_type": "code",
   "execution_count": null,
   "id": "8bc0a638-af82-4fe1-b47c-61e77573bbf4",
   "metadata": {},
   "outputs": [],
   "source": []
  }
 ],
 "metadata": {
  "kernelspec": {
   "display_name": "Python 3 (ipykernel)",
   "language": "python",
   "name": "python3"
  },
  "language_info": {
   "codemirror_mode": {
    "name": "ipython",
    "version": 3
   },
   "file_extension": ".py",
   "mimetype": "text/x-python",
   "name": "python",
   "nbconvert_exporter": "python",
   "pygments_lexer": "ipython3",
   "version": "3.11.4"
  }
 },
 "nbformat": 4,
 "nbformat_minor": 5
}
