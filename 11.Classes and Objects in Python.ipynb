{
 "cells": [
  {
   "cell_type": "markdown",
   "id": "75dd92e6-4c09-4764-b94c-7cc657e6ae92",
   "metadata": {},
   "source": [
    "# 11. Classes and Objects in Python\n",
    "\n",
    " * __Python is an object-orented programming language.__\n",
    " * __Unlike procedure-oriented programming, where the main emphasis is on funcitons, obejct-oriented programming stresses on object.__\n",
    " * __An object is simply a colleciton of data (variables) and methods (functions) that act on those data.__\n",
    " * __Similarly, a class is a blueprint for that object.__\n",
    " * __Like funciton definitions begin with the def keyword in Python, class definitions begin with a class keyword.__\n",
    " * __The first string inside the class is called docsting and has a bried description of the class.__\n",
    " * __Although not mandatory, this highly recommended.__"
   ]
  },
  {
   "cell_type": "code",
   "execution_count": 2,
   "id": "c98b8771-182c-4f56-bdad-fba5aa339dc3",
   "metadata": {},
   "outputs": [
    {
     "name": "stdout",
     "output_type": "stream",
     "text": [
      "Aditi Kute\n",
      "45\n",
      "Pune\n"
     ]
    }
   ],
   "source": [
    "class student:\n",
    "    def __init__(self,name,age,address):\n",
    "        self.name=name\n",
    "        self.age=age\n",
    "        self.address=address\n",
    "\n",
    "x=student('Aditi Kute',45,'Pune')\n",
    "print(x.name)\n",
    "print(x.age)\n",
    "print(x.address)\n"
   ]
  },
  {
   "cell_type": "code",
   "execution_count": 5,
   "id": "c42741fa-49fb-458a-878b-ca51ee9fad44",
   "metadata": {},
   "outputs": [
    {
     "name": "stdout",
     "output_type": "stream",
     "text": [
      "Thar\n",
      "Red\n",
      "20 Lacs\n"
     ]
    }
   ],
   "source": [
    "class mahindra:\n",
    "    def __init__(aditi,name,color,price):\n",
    "        aditi.name=name\n",
    "        aditi.color=color\n",
    "        aditi.price=price\n",
    "\n",
    "car=mahindra(\"Thar\",\"Red\",\"20 Lacs\")\n",
    "print(car.name)\n",
    "print(car.color)\n",
    "print(car.price)"
   ]
  },
  {
   "cell_type": "code",
   "execution_count": 8,
   "id": "7c7116dd-d98a-4d10-8a54-37b33a1e585a",
   "metadata": {},
   "outputs": [
    {
     "name": "stdout",
     "output_type": "stream",
     "text": [
      "Thar\n",
      "Pink\n",
      "25 Lacs\n"
     ]
    }
   ],
   "source": [
    "rupali=mahindra('Thar','Pink','25 Lacs')\n",
    "print(rupali.name)\n",
    "print(rupali.color)\n",
    "print(rupali.price)"
   ]
  },
  {
   "cell_type": "code",
   "execution_count": 14,
   "id": "c2c4f8f9-e7ba-4b2c-bbd5-ccd468002727",
   "metadata": {},
   "outputs": [
    {
     "name": "stdout",
     "output_type": "stream",
     "text": [
      "Your Car model is:Thar\n",
      "Your Car Color is:Red\n",
      "You Car Price is:20 Lacs\n"
     ]
    }
   ],
   "source": [
    "class mahindra:\n",
    "    def __init__(aditi,name,color,price): # constructor\n",
    "        aditi.name=name\n",
    "        aditi.color=color\n",
    "        aditi.price=price\n",
    "\n",
    "    def details(aditi):\n",
    "        print(f'Your Car model is:{aditi.name}')\n",
    "        print(f'Your Car Color is:{aditi.color}')\n",
    "        print(f'You Car Price is:{aditi.price}')\n",
    "\n",
    "car=mahindra(\"Thar\",\"Red\",\"20 Lacs\")\n",
    "car.details()"
   ]
  },
  {
   "cell_type": "code",
   "execution_count": 15,
   "id": "2cbf7cc5-eca2-42f5-8983-68e80adc809f",
   "metadata": {},
   "outputs": [
    {
     "name": "stdout",
     "output_type": "stream",
     "text": [
      "Your Car model is:Thar\n",
      "Your Car Color is:Pink\n",
      "You Car Price is:40 Lacs\n"
     ]
    }
   ],
   "source": [
    "x=mahindra('Thar','Pink','40 Lacs')\n",
    "x.details()"
   ]
  },
  {
   "cell_type": "code",
   "execution_count": 17,
   "id": "78f0c85b-5346-428c-b9d7-8b20ff870825",
   "metadata": {},
   "outputs": [
    {
     "name": "stdout",
     "output_type": "stream",
     "text": [
      "Your name is : Sidhhika\n",
      "Your age is : 26 years\n",
      "Your roll no is : 21\n",
      "Your college name  is : Fergusson college\n",
      "Your email id is : sidhhika@gmail.com\n",
      "Your address is : Pune\n",
      "Your phone number is : 12344566\n"
     ]
    }
   ],
   "source": [
    "# Class studen (name,age, roll no, subject,college, email,address,phone,)\n",
    "\n",
    "class student:\n",
    "    def __init__(self,name,age,roll_no,college,email,add,phone):\n",
    "        self.name = name\n",
    "        self.age = age\n",
    "        self.roll_no = roll_no\n",
    "        self.college = college\n",
    "        self.email = email\n",
    "        self.add = add\n",
    "        self.phone = phone\n",
    "    def details(self):\n",
    "         print(f\"Your name is : {self.name}\")\n",
    "         print(f\"Your age is : {self.age}\")\n",
    "         print(f\"Your roll no is : {self.roll_no}\")\n",
    "         print(f\"Your college name  is : {self.college}\")\n",
    "         print(f\"Your email id is : {self.email}\")\n",
    "         print(f\"Your address is : {self.add}\")\n",
    "         print(f\"Your phone number is : {self.phone}\")\n",
    "\n",
    "student_1 = student(\"Sidhhika\",\"26 years\", \"21\", \"Fergusson college\", \"sidhhika@gmail.com\", \"Pune\", \"12344566\")\n",
    "student_1.details()"
   ]
  },
  {
   "cell_type": "code",
   "execution_count": 18,
   "id": "4df4e75f-7fac-4406-99e7-c8a78bb3e7fb",
   "metadata": {},
   "outputs": [
    {
     "data": {
      "text/plain": [
       "'Sidhhika'"
      ]
     },
     "execution_count": 18,
     "metadata": {},
     "output_type": "execute_result"
    }
   ],
   "source": [
    "student_1.name"
   ]
  },
  {
   "cell_type": "code",
   "execution_count": 27,
   "id": "9ce5b073-0718-4f24-a3f7-8ad17e378415",
   "metadata": {},
   "outputs": [
    {
     "name": "stdout",
     "output_type": "stream",
     "text": [
      "your name is:Aditi kute\n",
      "your age is:28\n",
      "your roll no is:18\n",
      "your subject is:python\n",
      "your college is:symbiosis\n"
     ]
    }
   ],
   "source": [
    "class student:\n",
    "    def __init__(self,name,age,rollno,subject,college):\n",
    "        self.name=name\n",
    "        self.age=age\n",
    "        self.rollno=rollno\n",
    "        self.subject=subject\n",
    "        self.college=college\n",
    "\n",
    "    \n",
    "    def details(self):\n",
    "        print(f'your name is:{self.name}')\n",
    "        print(f'your age is:{self.age}')\n",
    "        print(f'your roll no is:{self.rollno}') \n",
    "        print(f'your subject is:{self.subject}')\n",
    "        print(f'your college is:{self.college}')\n",
    "        \n",
    "aditi=student(\"Aditi kute\",28,18,\"python\",\"symbiosis\")\n",
    "aditi.details()"
   ]
  },
  {
   "cell_type": "code",
   "execution_count": 26,
   "id": "b06402b0-58fd-4699-a0d1-d12b809a6336",
   "metadata": {},
   "outputs": [
    {
     "name": "stdout",
     "output_type": "stream",
     "text": [
      "Name of student is:\n",
      "sahil\n",
      "Age of student is:\n",
      "21\n",
      "Roll no of student is:\n",
      "22\n",
      "subject which student learns :\n",
      "Maths\n",
      "Name of college where student is learning:\n",
      "D.Y. patil\n",
      "Email adress of student is:\n",
      "sahilr32@gmail.com\n",
      "Adress of student is:\n",
      "Pune\n",
      "Phone number of student is :\n",
      "914567342\n"
     ]
    }
   ],
   "source": [
    "class student:\n",
    "    def __init__(self,name,age,roll_no,subject,college,email,adress,phone):\n",
    "        self.name=name\n",
    "        self.age=age\n",
    "        self.roll_no=roll_no\n",
    "        self.subject=subject\n",
    "        self.college=college\n",
    "        self.email=email\n",
    "        self.adress=adress\n",
    "        self.phone=phone\n",
    "    def details(self):\n",
    "        print(f\"Name of student is:\\n{self.name}\")\n",
    "        print(f\"Age of student is:\\n{self.age}\")\n",
    "        print(f\"Roll no of student is:\\n{self.roll_no}\")\n",
    "        print(f\"subject which student learns :\\n{self.subject}\")\n",
    "        print(f\"Name of college where student is learning:\\n{self.college}\")\n",
    "        print(f\"Email adress of student is:\\n{self.email}\")\n",
    "        print(f\"Adress of student is:\\n{self.adress}\")\n",
    "        print(f\"Phone number of student is :\\n{self.phone}\")\n",
    "value=student('sahil',21,22,'Maths','D.Y. patil','sahilr32@gmail.com','Pune',914567342)\n",
    "value.details()"
   ]
  },
  {
   "cell_type": "code",
   "execution_count": 32,
   "id": "60d32bd8-dadc-434b-baae-39ae68f3a686",
   "metadata": {},
   "outputs": [
    {
     "name": "stdin",
     "output_type": "stream",
     "text": [
      "Enter your name: rupali\n",
      "Enter your age name: 78\n",
      "Enter your Roll no.: 1\n",
      "Enter your college name: fergussion\n",
      "Enter your email: xyz@gmail.com\n",
      "Enter your address: pune\n",
      "Enter your phone no.: 100\n"
     ]
    },
    {
     "name": "stdout",
     "output_type": "stream",
     "text": [
      "your name is:rupali\n",
      "your age is:78\n",
      "your roll no is:1\n"
     ]
    },
    {
     "ename": "AttributeError",
     "evalue": "'student' object has no attribute 'subject'",
     "output_type": "error",
     "traceback": [
      "\u001b[1;31m---------------------------------------------------------------------------\u001b[0m",
      "\u001b[1;31mAttributeError\u001b[0m                            Traceback (most recent call last)",
      "Cell \u001b[1;32mIn[32], line 26\u001b[0m\n\u001b[0;32m     24\u001b[0m phone\u001b[38;5;241m=\u001b[39m\u001b[38;5;28minput\u001b[39m(\u001b[38;5;124m'\u001b[39m\u001b[38;5;124mEnter your phone no.:\u001b[39m\u001b[38;5;124m'\u001b[39m)\n\u001b[0;32m     25\u001b[0m student_1 \u001b[38;5;241m=\u001b[39m student(name,age,roll_no,college,email,add,phone)\n\u001b[1;32m---> 26\u001b[0m \u001b[43mstudent_1\u001b[49m\u001b[38;5;241;43m.\u001b[39;49m\u001b[43mfill_details\u001b[49m\u001b[43m(\u001b[49m\u001b[43m)\u001b[49m\n",
      "Cell \u001b[1;32mIn[32], line 15\u001b[0m, in \u001b[0;36mstudent.fill_details\u001b[1;34m(self)\u001b[0m\n\u001b[0;32m     13\u001b[0m \u001b[38;5;28mprint\u001b[39m(\u001b[38;5;124mf\u001b[39m\u001b[38;5;124m'\u001b[39m\u001b[38;5;124myour age is:\u001b[39m\u001b[38;5;132;01m{\u001b[39;00m\u001b[38;5;28mself\u001b[39m\u001b[38;5;241m.\u001b[39mage\u001b[38;5;132;01m}\u001b[39;00m\u001b[38;5;124m'\u001b[39m)\n\u001b[0;32m     14\u001b[0m \u001b[38;5;28mprint\u001b[39m(\u001b[38;5;124mf\u001b[39m\u001b[38;5;124m'\u001b[39m\u001b[38;5;124myour roll no is:\u001b[39m\u001b[38;5;132;01m{\u001b[39;00m\u001b[38;5;28mself\u001b[39m\u001b[38;5;241m.\u001b[39mroll_no\u001b[38;5;132;01m}\u001b[39;00m\u001b[38;5;124m'\u001b[39m) \n\u001b[1;32m---> 15\u001b[0m \u001b[38;5;28mprint\u001b[39m(\u001b[38;5;124mf\u001b[39m\u001b[38;5;124m'\u001b[39m\u001b[38;5;124myour subject is:\u001b[39m\u001b[38;5;132;01m{\u001b[39;00m\u001b[38;5;28;43mself\u001b[39;49m\u001b[38;5;241;43m.\u001b[39;49m\u001b[43msubject\u001b[49m\u001b[38;5;132;01m}\u001b[39;00m\u001b[38;5;124m'\u001b[39m)\n\u001b[0;32m     16\u001b[0m \u001b[38;5;28mprint\u001b[39m(\u001b[38;5;124mf\u001b[39m\u001b[38;5;124m'\u001b[39m\u001b[38;5;124myour college is:\u001b[39m\u001b[38;5;132;01m{\u001b[39;00m\u001b[38;5;28mself\u001b[39m\u001b[38;5;241m.\u001b[39mcollege\u001b[38;5;132;01m}\u001b[39;00m\u001b[38;5;124m'\u001b[39m)\n",
      "\u001b[1;31mAttributeError\u001b[0m: 'student' object has no attribute 'subject'"
     ]
    }
   ],
   "source": [
    "class student:\n",
    "    def __init__(self,name,age,roll_no,college,email,add,phone):\n",
    "        self.name = name\n",
    "        self.age = age\n",
    "        self.roll_no = roll_no\n",
    "        self.college = college\n",
    "        self.email = email\n",
    "        self.add = add\n",
    "        self.phone = phone\n",
    "    \n",
    "    def fill_details(self):\n",
    "        print(f'your name is:{self.name}')\n",
    "        print(f'your age is:{self.age}')\n",
    "        print(f'your roll no is:{self.roll_no}') \n",
    "        print(f'your subject is:{self.subject}')\n",
    "        print(f'your college is:{self.college}')\n",
    "        \n",
    "name=input('Enter your name:')\n",
    "age=int(input('Enter your age name:'))\n",
    "roll_no=int(input('Enter your Roll no.:'))\n",
    "college=input('Enter your college name:')\n",
    "email=input('Enter your email:')\n",
    "add=input('Enter your address:')\n",
    "phone=input('Enter your phone no.:')\n",
    "student_1 = student(name,age,roll_no,college,email,add,phone)\n",
    "student_1.fill_details()"
   ]
  },
  {
   "cell_type": "code",
   "execution_count": 36,
   "id": "88671178-cfe6-4e80-b95d-bfb9523ea706",
   "metadata": {},
   "outputs": [
    {
     "name": "stdin",
     "output_type": "stream",
     "text": [
      "Enter your name xyz\n",
      "Enter your age 10\n",
      "Enter your roll_number 45\n",
      "Enter your college name xyz\n",
      "Enter your email address @gmail.com\n",
      "Enter your address pune\n",
      "Enter your phone number 100\n"
     ]
    },
    {
     "name": "stdout",
     "output_type": "stream",
     "text": [
      "--------------------------------------\n",
      "Your name is : xyz\n",
      "Your age is : 10\n",
      "Your roll no is : 45\n",
      "Your college name  is : xyz\n",
      "Your email id is : @gmail.com\n",
      "Your address is : pune\n",
      "Your phone number is : 100\n"
     ]
    }
   ],
   "source": [
    "class student:\n",
    "    def __init__(self,name,age,roll_no,college,email,add,phone):\n",
    "        self.name = name\n",
    "        self.age = age\n",
    "        self.roll_no = roll_no\n",
    "        self.college = college\n",
    "        self.email = email\n",
    "        self.add = add\n",
    "        self.phone = phone\n",
    "    \n",
    "    def fill_details(self,):\n",
    "        print('--------------------------------------')\n",
    "        print(f\"Your name is : {self.name}\")\n",
    "        print(f\"Your age is : {self.age}\")\n",
    "        print(f\"Your roll no is : {self.roll_no}\")\n",
    "        print(f\"Your college name  is : {self.college}\")\n",
    "        print(f\"Your email id is : {self.email}\")\n",
    "        print(f\"Your address is : {self.add}\")\n",
    "        print(f\"Your phone number is : {self.phone}\")\n",
    "        \n",
    "name = input(\"Enter your name\")\n",
    "age = input(\"Enter your age\")\n",
    "roll_no = input(\"Enter your roll_number\")\n",
    "college = input(\"Enter your college name\")\n",
    "email = input(\"Enter your email address\")\n",
    "add = input(\"Enter your address\")\n",
    "phone = input(\"Enter your phone number\")\n",
    "student_1 = student(name,age,roll_no,college,email,add,phone)\n",
    "student_1.fill_details()"
   ]
  },
  {
   "cell_type": "code",
   "execution_count": 1,
   "id": "4de180f4-4b09-4a28-a6af-eab09a506f8e",
   "metadata": {},
   "outputs": [
    {
     "name": "stdout",
     "output_type": "stream",
     "text": [
      "Book name is : Nagraj\n",
      "Book is written by: Parshuram Sharma\n",
      "The Nagraj is published by : Raj Comics\n",
      "\n",
      "---------------------------------------------------------\n",
      "\n",
      "Book name is : Wings of fire\n",
      "Book is written by: A.P.J.Abdul Kalam\n",
      "The Wings of fire is published by : Universities Press\n",
      "\n",
      "---------------------------------------------------------\n",
      "\n",
      "Book name is : Wise and Otherwise\n",
      "Book is written by: Sudha Murty\n",
      "The Wise and Otherwise is published by : Mehta Publishing House\n",
      "\n",
      "---------------------------------------------------------\n",
      "\n",
      "Book name is : Harry Potter and Philosopher's Stone\n",
      "Book is written by: J.K.Rowling\n",
      "The Harry Potter and Philosopher's Stone is published by : Bloomsbury\n",
      "\n",
      "---------------------------------------------------------\n",
      "\n",
      "Book name is : Half Girlfriend\n",
      "Book is written by: Chetan Bahgat\n",
      "The Half Girlfriend is published by : Rupa and Co.\n"
     ]
    }
   ],
   "source": [
    "# find the class: book : panchantantra, Comic: Nagraaj, author, publised by name  bio\n",
    "\n",
    "\n",
    "class book:\n",
    "    def __init__(self,name,author,publish):\n",
    "        self.name = name\n",
    "        self.author = author\n",
    "        self.publish = publish\n",
    "    def details(self):\n",
    "        print(f\"Book name is : {self.name}\")\n",
    "        print(f\"Book is written by: {self.author}\")\n",
    "        print(f\"The {self.name} is published by : {self.publish}\")\n",
    "comic = book(\"Nagraj\",\"Parshuram Sharma\",\"Raj Comics\")\n",
    "autobiography = book(\"Wings of fire\",\"A.P.J.Abdul Kalam\",\"Universities Press\")\n",
    "novel = book(\"Wise and Otherwise\",\"Sudha Murty\",\"Mehta Publishing House\")\n",
    "fiction =book(\"Harry Potter and Philosopher's Stone\",\"J.K.Rowling\",\"Bloomsbury\")\n",
    "romance =book(\"Half Girlfriend\",\"Chetan Bahgat\",\"Rupa and Co.\")\n",
    "\n",
    "comic.details()\n",
    "print(\"\\n---------------------------------------------------------\\n\")\n",
    "autobiography.details()\n",
    "print(\"\\n---------------------------------------------------------\\n\")\n",
    "novel.details()\n",
    "print(\"\\n---------------------------------------------------------\\n\")\n",
    "fiction.details()\n",
    "print(\"\\n---------------------------------------------------------\\n\")\n",
    "romance.details()"
   ]
  },
  {
   "cell_type": "code",
   "execution_count": 2,
   "id": "838f4ce5-e47d-419f-8885-ca1408cfad9d",
   "metadata": {},
   "outputs": [
    {
     "name": "stdout",
     "output_type": "stream",
     "text": [
      "* Comic->>\n",
      "Book name is : Nagraj\n",
      "Book is written by: Parshuram Sharma\n",
      "The Nagraj is published by : Raj Comics\n",
      "\n",
      "---------------------------------------------------------\n",
      "\n",
      "* Autobiography->>\n",
      "Book name is : Wings of fire\n",
      "Book is written by: A.P.J.Abdul Kalam\n",
      "The Wings of fire is published by : Universities Press\n",
      "\n",
      "---------------------------------------------------------\n",
      "\n",
      "* Novel->>\n",
      "Book name is : Wise and Otherwise\n",
      "Book is written by: Sudha Murty\n",
      "The Wise and Otherwise is published by : Mehta Publishing House\n",
      "\n",
      "---------------------------------------------------------\n",
      "\n",
      "* Fiction->>\n",
      "Book name is : Harry Potter and Philosopher's Stone\n",
      "Book is written by: J.K.Rowling\n",
      "The Harry Potter and Philosopher's Stone is published by : Bloomsbury\n",
      "\n",
      "---------------------------------------------------------\n",
      "\n",
      "* Romance->>\n",
      "Book name is : Half Girlfriend\n",
      "Book is written by: Chetan Bahgat\n",
      "The Half Girlfriend is published by : Rupa and Co.\n"
     ]
    }
   ],
   "source": [
    "class book:\n",
    "    def __init__(self,name,author,publish):\n",
    "        self.name = name\n",
    "        self.author = author\n",
    "        self.publish = publish\n",
    "    def details(self):\n",
    "        print(f\"Book name is : {self.name}\")\n",
    "        print(f\"Book is written by: {self.author}\")\n",
    "        print(f\"The {self.name} is published by : {self.publish}\")\n",
    "comic = book(\"Nagraj\",\"Parshuram Sharma\",\"Raj Comics\")\n",
    "autobiography = book(\"Wings of fire\",\"A.P.J.Abdul Kalam\",\"Universities Press\")\n",
    "novel = book(\"Wise and Otherwise\",\"Sudha Murty\",\"Mehta Publishing House\")\n",
    "fiction =book(\"Harry Potter and Philosopher's Stone\",\"J.K.Rowling\",\"Bloomsbury\")\n",
    "romance =book(\"Half Girlfriend\",\"Chetan Bahgat\",\"Rupa and Co.\")\n",
    "\n",
    "print(\"* Comic->>\")\n",
    "comic.details()\n",
    "print(\"\\n---------------------------------------------------------\\n\")\n",
    "print(\"* Autobiography->>\")\n",
    "autobiography.details()\n",
    "print(\"\\n---------------------------------------------------------\\n\")\n",
    "print(\"* Novel->>\")\n",
    "novel.details()\n",
    "print(\"\\n---------------------------------------------------------\\n\")\n",
    "print(\"* Fiction->>\")\n",
    "fiction.details()\n",
    "print(\"\\n---------------------------------------------------------\\n\")\n",
    "print(\"* Romance->>\")\n",
    "romance.details()"
   ]
  },
  {
   "cell_type": "code",
   "execution_count": 3,
   "id": "69e6ee1f-400d-45e7-af3e-85c686517023",
   "metadata": {},
   "outputs": [
    {
     "name": "stdout",
     "output_type": "stream",
     "text": [
      "\n",
      "----------------------------------------------------------------------------------------------------------------------------------\n",
      "\n",
      "* Tiger -->>\n",
      "\n",
      "Scientific name of animal is : Panthera tigris\n",
      "kingdom of animal is : Animalia\n",
      "phylum of animal is : Chordata\n",
      "class1 of animal is : Mammalia\n",
      "order of animal is : Carnivora\n",
      "family of animal is : Felidae\n",
      "genus of animal is : Panthera\n",
      "species of animal is : tigris\n",
      "\n",
      "----------------------------------------------------------------------------------------------------------------------------------\n",
      "\n",
      "* Horsee -->>\n",
      "\n",
      "Scientific name of animal is : Equus caballus\n",
      "kingdom of animal is : Animalia\n",
      "phylum of animal is : Chordata\n",
      "class1 of animal is : Mammalia\n",
      "order of animal is : Perissodactyla\n",
      "family of animal is : Equidae\n",
      "genus of animal is : Equus\n",
      "species of animal is : E. ferus\n",
      "\n",
      "----------------------------------------------------------------------------------------------------------------------------------\n",
      "\n",
      "* Dog -->>\n",
      "\n",
      "Scientific name of animal is : Canis lupus familiarise\n",
      "kingdom of animal is : Animalia\n",
      "phylum of animal is : Chordata\n",
      "class1 of animal is : Mammalia\n",
      "order of animal is : Carnivora\n",
      "family of animal is : Canidae\n",
      "genus of animal is : Canis\n",
      "species of animal is : Canis lupus\n",
      "\n",
      "----------------------------------------------------------------------------------------------------------------------------------\n",
      "\n",
      "* Cat -->>\n",
      "\n",
      "Scientific name of animal is : Felis catus\n",
      "kingdom of animal is : Animalia\n",
      "phylum of animal is : Chordata\n",
      "class1 of animal is : Mammalia\n",
      "order of animal is : Carnivora\n",
      "family of animal is : Felidae\n",
      "genus of animal is : Felis\n",
      "species of animal is : Catus\n",
      "\n",
      "----------------------------------------------------------------------------------------------------------------------------------\n",
      "\n"
     ]
    }
   ],
   "source": [
    "#Cleat a class animal\n",
    "#Condrtuct following : (1) kingdom, (2) phylum or division, (3) class1, (4) order, (5) family, (6) genus, and (7) species.\n",
    "# For animals Tiger,Horse,Cat,Dog\n",
    "\n",
    "#Cleat a class animal\n",
    "#Condrtuct following : (1) kingdom, (2) phylum or division, (3) class1, (4) order, (5) family, (6) genus, and (7) species.\n",
    "# For animals Tiger,Horse,Cat,Dog\n",
    "\n",
    "class animal:\n",
    "    def __init__(self,name,kingdom,phylum,class1,order,family,genus,species):\n",
    "        self.name = name\n",
    "        self.kingdom = kingdom\n",
    "        self.phylum = phylum\n",
    "        self.class1 = class1\n",
    "        self.order = order\n",
    "        self.family = family\n",
    "        self.genus = genus\n",
    "        self.species = species\n",
    "    def details(self):\n",
    "        print(f\"Scientific name of animal is : {self.name}\")\n",
    "        print(f\"kingdom of animal is : {self.kingdom}\")\n",
    "        print(f\"phylum of animal is : {self.phylum}\")\n",
    "        print(f\"class1 of animal is : {self.class1}\")\n",
    "        print(f\"order of animal is : {self.order}\")\n",
    "        print(f\"family of animal is : {self.family}\")\n",
    "        print(f\"genus of animal is : {self.genus}\")\n",
    "        print(f\"species of animal is : {self.species}\")\n",
    "\n",
    "Tiger = animal(\"Panthera tigris\",\"Animalia\",\"Chordata\",\"Mammalia\",\"Carnivora\",\"Felidae\",\"Panthera\",\"tigris\")\n",
    "Horse =animal(\"Equus caballus\",\"Animalia\",\"Chordata\",\"Mammalia\",\"Perissodactyla\",\"Equidae\",\"Equus\",\"E. ferus\")\n",
    "Dog = animal(\"Canis lupus familiarise\",\"Animalia\",\"Chordata\",\"Mammalia\",\"Carnivora\",\"Canidae\",\"Canis\",\"Canis lupus\")\n",
    "Cat = animal(\"Felis catus\",\"Animalia\",\"Chordata\",\"Mammalia\",\"Carnivora\",\"Felidae\",\"Felis\",\"Catus\")\n",
    "\n",
    "print(\"\\n----------------------------------------------------------------------------------------------------------------------------------\\n\")\n",
    "print(\"* Tiger -->>\\n\")\n",
    "Tiger.details()\n",
    "print(\"\\n----------------------------------------------------------------------------------------------------------------------------------\\n\")\n",
    "print(\"* Horsee -->>\\n\")\n",
    "Horse.details()\n",
    "print(\"\\n----------------------------------------------------------------------------------------------------------------------------------\\n\")\n",
    "print(\"* Dog -->>\\n\")\n",
    "Dog.details()\n",
    "print(\"\\n----------------------------------------------------------------------------------------------------------------------------------\\n\")\n",
    "print(\"* Cat -->>\\n\")\n",
    "Cat.details()\n",
    "print(\"\\n----------------------------------------------------------------------------------------------------------------------------------\\n\")"
   ]
  },
  {
   "cell_type": "code",
   "execution_count": 7,
   "id": "703d4fe5-46b1-4a44-94df-927e53f6090e",
   "metadata": {},
   "outputs": [
    {
     "name": "stdout",
     "output_type": "stream",
     "text": [
      "314.1592653589793\n"
     ]
    }
   ],
   "source": [
    "import math\n",
    "r=10\n",
    "print(math.pi*r*r)"
   ]
  },
  {
   "cell_type": "code",
   "execution_count": 9,
   "id": "68812576-d555-4280-ab18-7358747d8dde",
   "metadata": {},
   "outputs": [
    {
     "name": "stdin",
     "output_type": "stream",
     "text": [
      "Enter radius 23\n"
     ]
    },
    {
     "name": "stdout",
     "output_type": "stream",
     "text": [
      "Area of circle is :  1661.0600000000002\n",
      "Cicumference of circle is :  144.51326206513048\n"
     ]
    }
   ],
   "source": [
    "#Area and circumference of circle using class and object\n",
    "import math\n",
    "\n",
    "class area:\n",
    "    def __init__(self,radius):\n",
    "        self.radius = radius\n",
    "    def calc(self):\n",
    "        area = 3.14*(self.radius*self.radius)\n",
    "        circum = 2*math.pi*self.radius\n",
    "        print(f\"Area of circle is : \",area)\n",
    "        print(f\"Cicumference of circle is : \",circum)\n",
    "\n",
    "radius = int(input(\"Enter radius\"))\n",
    "\n",
    "circle = area(radius)\n",
    "circle.calc()"
   ]
  },
  {
   "cell_type": "code",
   "execution_count": 10,
   "id": "bfc74a2e-346d-46f6-9c0a-a95b7e80d4f4",
   "metadata": {},
   "outputs": [
    {
     "data": {
      "text/plain": [
       "3.141592653589793"
      ]
     },
     "execution_count": 10,
     "metadata": {},
     "output_type": "execute_result"
    }
   ],
   "source": [
    "math.pi"
   ]
  },
  {
   "cell_type": "code",
   "execution_count": 11,
   "id": "b42a4d1f-6e7e-43ca-9af9-67a5a75190ea",
   "metadata": {},
   "outputs": [
    {
     "data": {
      "text/plain": [
       "3.142857142857143"
      ]
     },
     "execution_count": 11,
     "metadata": {},
     "output_type": "execute_result"
    }
   ],
   "source": [
    "22/7"
   ]
  },
  {
   "cell_type": "code",
   "execution_count": 15,
   "id": "4b91d587-abbd-46dc-9247-7a7e6ef0c633",
   "metadata": {},
   "outputs": [
    {
     "name": "stdin",
     "output_type": "stream",
     "text": [
      "Enter radius 10\n",
      "Enter height 30\n"
     ]
    },
    {
     "name": "stdout",
     "output_type": "stream",
     "text": [
      "Surface Area of cylinder is :  2513.2741228718346\n",
      "Volume  of cylinder is :  9424.77796076938\n"
     ]
    }
   ],
   "source": [
    "### Surface area and volume cylinder using class and object\n",
    "\n",
    "import math\n",
    "class area:\n",
    "    def __init__(self,radius,height):\n",
    "        self.radius = radius\n",
    "        self.height = height\n",
    "    def calc(self):\n",
    "        surface_area = 2*math.pi*self.radius*(self.height + self.radius)\n",
    "        volume = math.pi*(self.radius)*(self.radius)*(self.height)\n",
    "        print(f\"Surface Area of cylinder is : \",surface_area)\n",
    "        print(f\"Volume  of cylinder is : \",volume)\n",
    "\n",
    "radius = int(input(\"Enter radius\"))\n",
    "height = int(input(\"Enter height\"))\n",
    "\n",
    "cylinder = area(radius,height)\n",
    "cylinder.calc()"
   ]
  },
  {
   "cell_type": "code",
   "execution_count": 3,
   "id": "2fc587d8-d8fc-4406-a923-1e429fb1f836",
   "metadata": {},
   "outputs": [
    {
     "name": "stdin",
     "output_type": "stream",
     "text": [
      "Enter first value: 45\n",
      "Enter second value: 10\n"
     ]
    },
    {
     "name": "stdout",
     "output_type": "stream",
     "text": [
      "The sum of the two value is:55\n",
      "The sub of two value is: 35\n"
     ]
    }
   ],
   "source": [
    "# 1. Create a class calculator to represent with add,sub,multiply and divide and exponent method.\n",
    "\n",
    "class calculator:\n",
    "    def __init__(self,a,b):\n",
    "        self.a=a\n",
    "        self.b=b\n",
    "    def sum(self):\n",
    "        sum1=self.a+self.b\n",
    "        print(f'The sum of the two value is:{sum1}')\n",
    "\n",
    "    def sub(self):\n",
    "        sub1=self.a-self.b\n",
    "        print(f'The sub of two value is: {sub1}')\n",
    "\n",
    "user1=int(input('Enter first value:'))\n",
    "user2=int(input('Enter second value:'))\n",
    "x=calculator(user1,user2)\n",
    "x.sum()\n",
    "x.sub()"
   ]
  },
  {
   "cell_type": "code",
   "execution_count": 4,
   "id": "74f3a21c-3380-4093-b82b-9d4cdcf08415",
   "metadata": {},
   "outputs": [
    {
     "data": {
      "text/plain": [
       "8"
      ]
     },
     "execution_count": 4,
     "metadata": {},
     "output_type": "execute_result"
    }
   ],
   "source": [
    "2**3"
   ]
  },
  {
   "cell_type": "code",
   "execution_count": 9,
   "id": "a00216e6-afff-49a1-9f0c-4eaea48c7bc5",
   "metadata": {},
   "outputs": [
    {
     "name": "stdin",
     "output_type": "stream",
     "text": [
      "enter any value 45\n",
      "enter any value 2\n"
     ]
    },
    {
     "name": "stdout",
     "output_type": "stream",
     "text": [
      "the sum of the two value is:47\n",
      "the sub of two  value is:43\n",
      "the multiplication of two value is:90\n",
      "The division of two value is: 22.5\n",
      "The Exponenet of two number: 2025\n"
     ]
    }
   ],
   "source": [
    "class calculator:\n",
    "    def __init__(self,a,b):\n",
    "        self.a=a\n",
    "        self.b=b\n",
    "    def sum(self):\n",
    "        sum1=self.a+self.b\n",
    "        print(f'the sum of the two value is:{sum1}')\n",
    "        \n",
    "    def sub(self):\n",
    "        sub1=self.a-self.b\n",
    "        print(f'the sub of two  value is:{sub1}')\n",
    "        \n",
    "    def multiply(self):\n",
    "        multiply1=self.a*self.b\n",
    "        print(f'the multiplication of two value is:{multiply1}')\n",
    "        \n",
    "    def divide(self):\n",
    "        divide1=self.a/self.b\n",
    "        print(f'The division of two value is: {divide1}')\n",
    "\n",
    "    def exponent(self):\n",
    "        exponent1=self.a**self.b\n",
    "        print(f'The Exponenet of two number: {exponent1}')\n",
    "        \n",
    "user1=int(input('enter any value'))\n",
    "user2=int(input('enter any value'))\n",
    "x=calculator(user1,user2)\n",
    "x.sum()\n",
    "x.sub()\n",
    "x.multiply()\n",
    "x.divide()\n",
    "x.exponent()"
   ]
  },
  {
   "cell_type": "code",
   "execution_count": 14,
   "id": "ea8e79d1-923c-47d8-a943-0baf13d6e29a",
   "metadata": {},
   "outputs": [
    {
     "name": "stdout",
     "output_type": "stream",
     "text": [
      "My Book is The Story of My Life\n",
      "The Story of My Life author is Helen Keller\n",
      "The Story of My Life released in 1903\n"
     ]
    }
   ],
   "source": [
    "# Create a class represent a book with attributes like title, author, and publication year.\n",
    "\n",
    "class Book:\n",
    "    def __init__(self,title,author,publicaton_year):\n",
    "        self.title=title\n",
    "        self.author=author\n",
    "        self.publicaton_year=publicaton_year\n",
    "\n",
    "    def book_detials(self):\n",
    "        print(f'My Book is {self.title}')\n",
    "        print(f'{self.title} author is {self.author}')\n",
    "        print(f'{self.title} released in {self.publicaton_year}')\n",
    "\n",
    "book=Book('The Story of My Life',\"Helen Keller\",1903)\n",
    "book.book_detials()"
   ]
  },
  {
   "cell_type": "code",
   "execution_count": 16,
   "id": "32d0feef-1bd2-454d-9f4b-eeb56ba0c1fa",
   "metadata": {},
   "outputs": [
    {
     "name": "stdout",
     "output_type": "stream",
     "text": [
      "My Book is Aditi's Life\n",
      "Aditi's Life author is Laukik\n",
      "Aditi's Life released in 1988\n"
     ]
    }
   ],
   "source": [
    "aditi=Book(\"Aditi's Life\",'Laukik',1988)\n",
    "aditi.book_detials()"
   ]
  },
  {
   "cell_type": "code",
   "execution_count": 18,
   "id": "165b475e-46d5-443d-b1f3-976cf31a8041",
   "metadata": {},
   "outputs": [
    {
     "name": "stdout",
     "output_type": "stream",
     "text": [
      "The area of circle is:314.0\n",
      "The circumference of circle is:62.800000000000004\n"
     ]
    }
   ],
   "source": [
    "# circle with method to calculate it's area and circumference.  (2*pi*r) (2*pi*r)\n",
    "\n",
    "\n",
    "class circle:\n",
    "    def __init__(self,radius):\n",
    "        self.radius=radius\n",
    "\n",
    "    def area(self):\n",
    "        area1=3.14*self.radius*self.radius\n",
    "        print(f'The area of circle is:{area1}')\n",
    "    def circumference(self):\n",
    "        circumference1=2*3.14*self.radius\n",
    "        print(f'The circumference of circle is:{circumference1}')\n",
    "\n",
    "circle1=circle(10)\n",
    "circle1.area()\n",
    "circle1.circumference()"
   ]
  },
  {
   "cell_type": "code",
   "execution_count": 19,
   "id": "e189870e-e820-4525-8c21-d886feaeb34f",
   "metadata": {},
   "outputs": [
    {
     "name": "stdout",
     "output_type": "stream",
     "text": [
      "The area of circle is:1256.0\n",
      "The circumference of circle is:125.60000000000001\n"
     ]
    }
   ],
   "source": [
    "circle2=circle(20)\n",
    "circle2.area()\n",
    "circle2.circumference()"
   ]
  },
  {
   "cell_type": "code",
   "execution_count": 20,
   "id": "e2aefd1d-e095-4005-a265-3db958632337",
   "metadata": {},
   "outputs": [
    {
     "name": "stdout",
     "output_type": "stream",
     "text": [
      "The circumference of circle is:62.800000000000004\n"
     ]
    }
   ],
   "source": [
    "circle1.circumference()"
   ]
  },
  {
   "cell_type": "code",
   "execution_count": 21,
   "id": "21346d66-4ebb-4cfd-85b6-ce8bea2535a6",
   "metadata": {},
   "outputs": [
    {
     "name": "stdout",
     "output_type": "stream",
     "text": [
      "The circumference of circle is:125.60000000000001\n"
     ]
    }
   ],
   "source": [
    "circle2.circumference()"
   ]
  },
  {
   "cell_type": "code",
   "execution_count": 24,
   "id": "1c2c28b0-9571-4a4b-8eb4-f1b423cdb800",
   "metadata": {},
   "outputs": [
    {
     "name": "stdout",
     "output_type": "stream",
     "text": [
      "The area of circle is:314.1592653589793\n",
      "The circumference of circle is:62.83185307179586\n"
     ]
    }
   ],
   "source": [
    "# circle with method to calculate it's area and circumference.  (2*pi*r) (2*pi*r)\n",
    "import math\n",
    "\n",
    "class circle:\n",
    "    def __init__(self,radius):\n",
    "        self.radius=radius\n",
    "\n",
    "    def area(self):\n",
    "        area1=math.pi*self.radius*self.radius\n",
    "        print(f'The area of circle is:{area1}')\n",
    "    def circumference(self):\n",
    "        circumference1=2*math.pi*self.radius\n",
    "        print(f'The circumference of circle is:{circumference1}')\n",
    "\n",
    "circle1=circle(10)\n",
    "circle1.area()\n",
    "circle1.circumference()"
   ]
  },
  {
   "cell_type": "markdown",
   "id": "72123eec-e494-44bf-8eb9-bba932ded10f",
   "metadata": {},
   "source": [
    "# Inheritance\n",
    "\n",
    " * __Single(simple) Inheritance: parent class and child class__\n",
    " * __Mutilevel Inheritance: parent/child-child__\n",
    " * __Mutiple Inheritance: Parent class/Parent Class- Child class__\n",
    " * __Hierarchical Inheritance: Parent class-Child class/Child class/Child class__"
   ]
  },
  {
   "cell_type": "code",
   "execution_count": 12,
   "id": "e0a69126-ad61-46ba-aaaf-33669cd9d980",
   "metadata": {},
   "outputs": [
    {
     "name": "stdout",
     "output_type": "stream",
     "text": [
      "Amazon is an Online Commerce Store.\n",
      "Amazon is an Online Store\n",
      "Amazon is an E-Commerce Store\n",
      "Flipkart is an Online Commerce Store.\n",
      "Flipkart is an Online Store\n",
      "Flipkart is an E-Commerce Store\n",
      "Myntra is an Online Commerce Store.\n",
      "Myntra is an Online Store\n",
      "Myntra is an E-Commerce Store\n"
     ]
    }
   ],
   "source": [
    "# Single Inheritance:\n",
    "\n",
    "class parent:   # It is a parent class\n",
    "    brand_name_1=\"Amazon\"\n",
    "    brand_name_2=\"Flipkart\"\n",
    "    brand_name_3=\"Myntra\"\n",
    "\n",
    "class child(parent):    # it is child of brands\n",
    "    prod_1=\"Online Commerce Store.\"\n",
    "    prod_2=\"Online Store\"\n",
    "    prod_3=\"E-Commerce Store\"\n",
    "\n",
    "obj_1=child()\n",
    "\n",
    "print(obj_1.brand_name_1+' is an '+obj_1.prod_1)\n",
    "print(obj_1.brand_name_1+' is an '+obj_1.prod_2)\n",
    "print(obj_1.brand_name_1+' is an '+obj_1.prod_3)\n",
    "print(obj_1.brand_name_2+' is an '+obj_1.prod_1)\n",
    "print(obj_1.brand_name_2+' is an '+obj_1.prod_2)\n",
    "print(obj_1.brand_name_2+' is an '+obj_1.prod_3)\n",
    "print(obj_1.brand_name_3+' is an '+obj_1.prod_1)\n",
    "print(obj_1.brand_name_3+' is an '+obj_1.prod_2)\n",
    "print(obj_1.brand_name_3+' is an '+obj_1.prod_3)"
   ]
  },
  {
   "cell_type": "code",
   "execution_count": 28,
   "id": "a3f93e60-6a01-4203-b997-deb57de37c77",
   "metadata": {},
   "outputs": [
    {
     "name": "stdout",
     "output_type": "stream",
     "text": [
      "Amazon is an Online Commerce Store and its popularity 100\n",
      "Amazon is an Online Store and its popularity 100\n",
      "Amazon is an E-Commerce Store and its popularity 100\n",
      "Amazon is an Online Store and its popularity 100\n",
      "Amazon is an Online Store and its popularity 500\n",
      "Amazon is an Online Store and its popularity 1000\n",
      "Amazon is an E-Commerce Store and its popularity 100\n",
      "Amazon is an E-Commerce Store and its popularity 500\n",
      "Amazon is an E-Commerce Store and its popularity 1000\n",
      "Flipkart is an Online Commerce Store and its popularity 100\n",
      "Flipkart is an Online Store and its popularity 100\n",
      "Flipkart is an E-Commerce Store and its popularity 100\n",
      "Flipkart is an Online Store and its popularity 100\n",
      "Flipkart is an Online Store and its popularity 500\n",
      "Flipkart is an Online Store and its popularity 1000\n",
      "Flipkart is an E-Commerce Store and its popularity 100\n",
      "Flipkart is an E-Commerce Store and its popularity 500\n",
      "Flipkart is an E-Commerce Store and its popularity 1000\n",
      "Myntra is an Online Commerce Store and its popularity 100\n",
      "Myntra is an Online Store and its popularity 100\n",
      "Myntra is an E-Commerce Store and its popularity 100\n",
      "Myntra is an Online Store and its popularity 100\n",
      "Myntra is an Online Store and its popularity 500\n",
      "Myntra is an Online Store and its popularity 1000\n",
      "Myntra is an E-Commerce Store and its popularity 100\n",
      "Myntra is an E-Commerce Store and its popularity 500\n",
      "Myntra is an E-Commerce Store and its popularity 1000\n"
     ]
    }
   ],
   "source": [
    "# Multilevel - Parent/Child-Child\n",
    "\n",
    "class Brands:\n",
    "    brand_name_1=\"Amazon\"\n",
    "    brand_name_2=\"Flipkart\"\n",
    "    brand_name_3=\"Myntra\"\n",
    "\n",
    "class child_1(Brands):\n",
    "    prod_1=\"Online Commerce Store\"\n",
    "    prod_2=\"Online Store\"\n",
    "    prod_3=\"E-Commerce Store\"\n",
    "\n",
    "class child_2(child_1):\n",
    "    popularity_1='100'\n",
    "    popularity_2='500'\n",
    "    popularity_3='1000'\n",
    "\n",
    "obj_1=child_2()\n",
    "\n",
    "print(obj_1.brand_name_1+\" is an \"+ obj_1.prod_1+\" and its popularity \"+ obj_1.popularity_1)\n",
    "print(obj_1.brand_name_1+\" is an \"+ obj_1.prod_2+\" and its popularity \"+ obj_1.popularity_1)\n",
    "print(obj_1.brand_name_1+\" is an \"+ obj_1.prod_3+\" and its popularity \"+ obj_1.popularity_1)\n",
    "print(obj_1.brand_name_1+\" is an \"+ obj_1.prod_2+\" and its popularity \"+ obj_1.popularity_1)\n",
    "print(obj_1.brand_name_1+\" is an \"+ obj_1.prod_2+\" and its popularity \"+ obj_1.popularity_2)\n",
    "print(obj_1.brand_name_1+\" is an \"+ obj_1.prod_2+\" and its popularity \"+ obj_1.popularity_3)\n",
    "print(obj_1.brand_name_1+\" is an \"+ obj_1.prod_3+\" and its popularity \"+ obj_1.popularity_1)\n",
    "print(obj_1.brand_name_1+\" is an \"+ obj_1.prod_3+\" and its popularity \"+ obj_1.popularity_2)\n",
    "print(obj_1.brand_name_1+\" is an \"+ obj_1.prod_3+\" and its popularity \"+ obj_1.popularity_3)\n",
    "\n",
    "\n",
    "print(obj_1.brand_name_2+\" is an \"+ obj_1.prod_1+\" and its popularity \"+ obj_1.popularity_1)\n",
    "print(obj_1.brand_name_2+\" is an \"+ obj_1.prod_2+\" and its popularity \"+ obj_1.popularity_1)\n",
    "print(obj_1.brand_name_2+\" is an \"+ obj_1.prod_3+\" and its popularity \"+ obj_1.popularity_1)\n",
    "print(obj_1.brand_name_2+\" is an \"+ obj_1.prod_2+\" and its popularity \"+ obj_1.popularity_1)\n",
    "print(obj_1.brand_name_2+\" is an \"+ obj_1.prod_2+\" and its popularity \"+ obj_1.popularity_2)\n",
    "print(obj_1.brand_name_2+\" is an \"+ obj_1.prod_2+\" and its popularity \"+ obj_1.popularity_3)\n",
    "print(obj_1.brand_name_2+\" is an \"+ obj_1.prod_3+\" and its popularity \"+ obj_1.popularity_1)\n",
    "print(obj_1.brand_name_2+\" is an \"+ obj_1.prod_3+\" and its popularity \"+ obj_1.popularity_2)\n",
    "print(obj_1.brand_name_2+\" is an \"+ obj_1.prod_3+\" and its popularity \"+ obj_1.popularity_3)\n",
    "\n",
    "\n",
    "print(obj_1.brand_name_3+\" is an \"+ obj_1.prod_1+\" and its popularity \"+ obj_1.popularity_1)\n",
    "print(obj_1.brand_name_3+\" is an \"+ obj_1.prod_2+\" and its popularity \"+ obj_1.popularity_1)\n",
    "print(obj_1.brand_name_3+\" is an \"+ obj_1.prod_3+\" and its popularity \"+ obj_1.popularity_1)\n",
    "print(obj_1.brand_name_3+\" is an \"+ obj_1.prod_2+\" and its popularity \"+ obj_1.popularity_1)\n",
    "print(obj_1.brand_name_3+\" is an \"+ obj_1.prod_2+\" and its popularity \"+ obj_1.popularity_2)\n",
    "print(obj_1.brand_name_3+\" is an \"+ obj_1.prod_2+\" and its popularity \"+ obj_1.popularity_3)\n",
    "print(obj_1.brand_name_3+\" is an \"+ obj_1.prod_3+\" and its popularity \"+ obj_1.popularity_1)\n",
    "print(obj_1.brand_name_3+\" is an \"+ obj_1.prod_3+\" and its popularity \"+ obj_1.popularity_2)\n",
    "print(obj_1.brand_name_3+\" is an \"+ obj_1.prod_3+\" and its popularity \"+ obj_1.popularity_3)"
   ]
  },
  {
   "cell_type": "code",
   "execution_count": 38,
   "id": "e3dc0f2a-d347-4ffd-886a-f26197af26c8",
   "metadata": {},
   "outputs": [
    {
     "name": "stdout",
     "output_type": "stream",
     "text": [
      "Amazon is an Online Commerce Store and its popularity is 100\n",
      "Flipkart is an Online Store and its popularity is 500\n",
      "Myntra is an E-Commerce Store and its popularity is 1000\n"
     ]
    }
   ],
   "source": [
    "# Multiple : parent/parent------> child class\n",
    "\n",
    "class Brands:   #parent\n",
    "    brand_name_1=\"Amazon\"\n",
    "    brand_name_2=\"Flipkart\"\n",
    "    brand_name_3=\"Myntra\"\n",
    "\n",
    "class product: # parent\n",
    "    prod_1=\"Online Commerce Store\"\n",
    "    prod_2=\"Online Store\"\n",
    "    prod_3=\"E-Commerce Store\"\n",
    "\n",
    "class popularity(Brands,product):\n",
    "    popularity_1='100'\n",
    "    popularity_2='500'\n",
    "    popularity_3='1000'\n",
    "\n",
    "obj_1=popularity()\n",
    "\n",
    "print(obj_1.brand_name_1+' is an '+obj_1.prod_1+' and its popularity is '+obj_1.popularity_1)\n",
    "print(obj_1.brand_name_2+' is an '+obj_1.prod_2+' and its popularity is '+obj_1.popularity_2)\n",
    "print(obj_1.brand_name_3+' is an '+obj_1.prod_3+' and its popularity is '+obj_1.popularity_3)"
   ]
  },
  {
   "cell_type": "code",
   "execution_count": 35,
   "id": "5ca88a80-d7ba-4ba6-b226-d994c9ff096b",
   "metadata": {},
   "outputs": [
    {
     "name": "stdout",
     "output_type": "stream",
     "text": [
      "Amazon\n"
     ]
    }
   ],
   "source": [
    "obj=product()\n",
    "print(obj.brand_name_1)"
   ]
  },
  {
   "cell_type": "code",
   "execution_count": 39,
   "id": "e8b6acb2-6611-49b3-b26a-db33a67c4ea3",
   "metadata": {},
   "outputs": [
    {
     "name": "stdout",
     "output_type": "stream",
     "text": [
      "My father name is Rajendra, my mother name is Seema, my name is Suraj\n"
     ]
    }
   ],
   "source": [
    "#Multiple parent1 and paren2 : child inherith both parents\n",
    "\n",
    "class mom:\n",
    "    mom_name = \"Seema\"\n",
    "class Dad:\n",
    "    dad_name = \"Rajendra\"\n",
    "class child(mom,Dad):\n",
    "    child_name = \"Suraj\"\n",
    "\n",
    "new_ob = child()\n",
    "print(\"My father name is \"+new_ob.dad_name+\", my mother name is \"+new_ob.mom_name+\", my name is \"+new_ob.child_name)"
   ]
  },
  {
   "cell_type": "code",
   "execution_count": 48,
   "id": "0b98c2c0-1e15-4c34-bcea-9b2ca37fb900",
   "metadata": {},
   "outputs": [
    {
     "name": "stdout",
     "output_type": "stream",
     "text": [
      "Amazon is an Online Commerce Store its popularity 100 and it value is Best Value\n",
      "Amazon\n",
      "Amazon\n"
     ]
    }
   ],
   "source": [
    "# Hierarchical Inheritance: Parent Class/child-child-child\n",
    "\n",
    "class parent:\n",
    "    brand_name_1=\"Amazon\"\n",
    "    brand_name_2=\"Flipkart\"\n",
    "    brand_name_3=\"Myntra\"\n",
    "\n",
    "class product(parent):\n",
    "    prod_1=\"Online Commerce Store\"\n",
    "    prod_2=\"Online Store\"\n",
    "    prod_3=\"E-Commerce Store\"\n",
    "\n",
    "class popularity(parent):\n",
    "    popularity_1='100'\n",
    "    popularity_2='500'\n",
    "    popularity_3='1000'\n",
    "\n",
    "class value(parent):\n",
    "    prod_value_1=\"Best Value\"\n",
    "    prod_value_2=\"Better Value\"\n",
    "    prod_value_3=\"Good Value\"\n",
    "\n",
    "obj_1=product()\n",
    "obj_2=popularity()\n",
    "obj_3=value()\n",
    "\n",
    "print(obj_1.brand_name_1+' is an '+obj_1.prod_1+' its popularity '+obj_2.popularity_1+\" and it value is \"+obj_3.prod_value_1)\n",
    "print(obj_2.brand_name_1)\n",
    "print(obj_3.brand_name_1)"
   ]
  },
  {
   "cell_type": "code",
   "execution_count": 53,
   "id": "93a3c467-78b8-45ae-9728-0695a777e5a7",
   "metadata": {},
   "outputs": [
    {
     "name": "stdout",
     "output_type": "stream",
     "text": [
      "Karan Johar\n",
      "Orry\n",
      "Yash and Roohi\n",
      "Final_Product\n"
     ]
    }
   ],
   "source": [
    "# Hybrid Inheritance:\n",
    "\n",
    "class a:\n",
    "    def name_a(self):\n",
    "        print('Karan Johar')\n",
    "\n",
    "class b:\n",
    "    def name_b(self):\n",
    "        print('Orry')\n",
    "\n",
    "class c(a):\n",
    "    def name_c(self):\n",
    "        print('Yash and Roohi')\n",
    "\n",
    "class d(b,c):\n",
    "    def name_d(self):\n",
    "        print('Final_Product')\n",
    "\n",
    "\n",
    "obj_1=d()\n",
    "\n",
    "obj_1.name_a()\n",
    "obj_1.name_b()\n",
    "obj_1.name_c()\n",
    "obj_1.name_d()"
   ]
  },
  {
   "cell_type": "code",
   "execution_count": 54,
   "id": "d99a564a-bf01-4b62-a703-1b7e78fd61f5",
   "metadata": {},
   "outputs": [
    {
     "name": "stdout",
     "output_type": "stream",
     "text": [
      "My father name is Rajendra, my mother name is Seema, my name is Suraj\n"
     ]
    }
   ],
   "source": [
    "class mom:\n",
    "    mom_name = \"Seema\"\n",
    "class Dad:\n",
    "    dad_name = \"Rajendra\"\n",
    "\n",
    "\n",
    "class child_1(mom):\n",
    "    child_1_name='Rashmi'\n",
    "\n",
    "\n",
    "class child(mom,Dad,child_1):\n",
    "    child_name = \"Suraj\"\n",
    "\n",
    "new_ob = child()\n",
    "print(\"My father name is \"+new_ob.dad_name+\", my mother name is \"+new_ob.mom_name+\", my name is \"+new_ob.child_name)"
   ]
  },
  {
   "cell_type": "markdown",
   "id": "99bd5b91-0b8f-4067-9de4-30ae339bd0b2",
   "metadata": {},
   "source": [
    "# 4 Methods of oops concept\n",
    " * __1.Inheritance__\n",
    " * __2.Polymorphism__\n",
    " * __3.Encapsulation__\n",
    " * __4.Abstraction__"
   ]
  },
  {
   "cell_type": "code",
   "execution_count": null,
   "id": "e93dba48-fb29-4186-9470-8b60316e8e74",
   "metadata": {},
   "outputs": [],
   "source": [
    "a girl\n",
    "\n",
    "mother\n",
    "wife\n",
    "writer\n",
    "student\n",
    "sister\n",
    "friend\n",
    "customer"
   ]
  },
  {
   "cell_type": "code",
   "execution_count": 55,
   "id": "7e39bfe3-ead3-4bf6-bb32-5a1c9e338756",
   "metadata": {},
   "outputs": [
    {
     "ename": "SyntaxError",
     "evalue": "invalid syntax (3569431497.py, line 6)",
     "output_type": "error",
     "traceback": [
      "\u001b[1;36m  Cell \u001b[1;32mIn[55], line 6\u001b[1;36m\u001b[0m\n\u001b[1;33m    same color\u001b[0m\n\u001b[1;37m         ^\u001b[0m\n\u001b[1;31mSyntaxError\u001b[0m\u001b[1;31m:\u001b[0m invalid syntax\n"
     ]
    }
   ],
   "source": [
    "# inheritance\n",
    "Puppies\n",
    "\n",
    "parent\n",
    "\n",
    "same color\n",
    "same breed\n",
    "same features"
   ]
  },
  {
   "cell_type": "code",
   "execution_count": null,
   "id": "29e5affa-bc0f-4a12-afc9-37c6147eb142",
   "metadata": {},
   "outputs": [],
   "source": [
    "# Encapsulation\n",
    "\n",
    "# a company\n",
    "\n",
    "production deparments\n",
    "hr department\n",
    "marketing department"
   ]
  },
  {
   "cell_type": "code",
   "execution_count": 1,
   "id": "e5fd2f2f-de69-48f0-b0ce-ee931d0a6e86",
   "metadata": {},
   "outputs": [],
   "source": [
    "# abstraction\n",
    "\n",
    "# a mobile phone\n",
    "\n",
    "# take sefile\n",
    "# make calls\n",
    "# play games\n",
    "# browse internet\n",
    "# ticket book\n"
   ]
  },
  {
   "cell_type": "code",
   "execution_count": 8,
   "id": "6a631db1-f5ff-4a71-b6a7-48f1d5aef279",
   "metadata": {},
   "outputs": [
    {
     "name": "stdout",
     "output_type": "stream",
     "text": [
      "Hello I am calling child class\n"
     ]
    }
   ],
   "source": [
    "# super()\n",
    "\n",
    "class parent:\n",
    "    def parent_method(self):\n",
    "        print('Hello I am calling parent Class:')\n",
    "        print('Hello I am father of following classes.')\n",
    "        print('Aditi nahi bolegi....?')\n",
    "\n",
    "class ChildClass(parent):\n",
    "     def parent_method(self):\n",
    "         print('Hello I am calling child class')\n",
    "         #super().parent_method()\n",
    "\n",
    "\n",
    "x=ChildClass()\n",
    "x.parent_method()"
   ]
  },
  {
   "cell_type": "code",
   "execution_count": 7,
   "id": "b2596609-df63-4ff3-a5df-55c7d4453c17",
   "metadata": {},
   "outputs": [
    {
     "name": "stdout",
     "output_type": "stream",
     "text": [
      "Hello I am calling parent Class:\n",
      "Hello I am father of following classes.\n",
      "Aditi nahi bolegi....?\n"
     ]
    }
   ],
   "source": [
    "y=parent()\n",
    "y.parent_method()"
   ]
  },
  {
   "cell_type": "code",
   "execution_count": 16,
   "id": "824a0f74-346c-4842-8322-11dd2767d342",
   "metadata": {},
   "outputs": [
    {
     "name": "stdout",
     "output_type": "stream",
     "text": [
      "Rupali\n",
      "88\n",
      "Fergussion College\n",
      "pune\n"
     ]
    }
   ],
   "source": [
    "class rupali:\n",
    "    def __init__(self,name,age,college,phone_no,email):\n",
    "        self.name=name\n",
    "        self.age=age\n",
    "        self.college=college\n",
    "        self.phone_no=phone_no\n",
    "        self.email=email\n",
    "\n",
    "\n",
    "class sahil:\n",
    "    def __init__(self,address):\n",
    "        self.address=address\n",
    "\n",
    "\n",
    "name=rupali('Rupali',88,'Fergussion College',789456123,'xyz@gmail.com')\n",
    "print(name.name)\n",
    "print(name.age)\n",
    "print(name.college)\n",
    "\n",
    "#name=sahil\n",
    "\n",
    "sahil_name=sahil('pune')\n",
    "print(sahil_name.address)"
   ]
  },
  {
   "cell_type": "code",
   "execution_count": 38,
   "id": "58a675e7-4d18-44a6-a08f-8020c0c4ceb6",
   "metadata": {},
   "outputs": [
    {
     "name": "stdout",
     "output_type": "stream",
     "text": [
      "Rupali\n",
      "88\n",
      "Fergussion College\n",
      "pune\n",
      "sahil\n"
     ]
    }
   ],
   "source": [
    "class rupali:\n",
    "    def __init__(self,name,age,college,phone_no,email):\n",
    "        self.name=name\n",
    "        self.age=age\n",
    "        self.college=college\n",
    "        self.phone_no=phone_no\n",
    "        self.email=email\n",
    "\n",
    "\n",
    "class sahil(rupali):\n",
    "    def __init__(self,name,age,college,phone_no,email,address):\n",
    "        #self.address=address\n",
    "        super().__init__(name,age,college,phone_no,email)\n",
    "        self.address=address\n",
    "\n",
    "\n",
    "name=rupali('Rupali',88,'Fergussion College',789456123,'xyz@gmail.com')\n",
    "print(name.name)\n",
    "print(name.age)\n",
    "print(name.college)\n",
    "\n",
    "#name=sahil\n",
    "\n",
    "sahil_name=sahil('sahil',92,'xyz',87894894,'sahil@gmail.com','pune')\n",
    "print(sahil_name.address)\n",
    "print(sahil_name.name)"
   ]
  },
  {
   "cell_type": "code",
   "execution_count": 33,
   "id": "cfb69dfb-a799-462f-b687-3adaf196ab05",
   "metadata": {},
   "outputs": [
    {
     "name": "stdout",
     "output_type": "stream",
     "text": [
      "sahil\n",
      "88\n",
      "pune\n"
     ]
    }
   ],
   "source": [
    "class rupali:\n",
    "    def __init__(self,name,age):\n",
    "        self.name=name\n",
    "        self.age=age\n",
    "\n",
    "class sahil(rupali):\n",
    "    def __init__(self,name,age,address):\n",
    "        super().__init__(name,age)\n",
    "        self.address=address\n",
    "\n",
    "x=sahil('sahil',88,'pune')\n",
    "print(x.name)\n",
    "print(x.age)\n",
    "print(x.address)"
   ]
  },
  {
   "cell_type": "code",
   "execution_count": 56,
   "id": "37a75c45-0158-4062-9715-a9af9558d935",
   "metadata": {},
   "outputs": [
    {
     "name": "stdout",
     "output_type": "stream",
     "text": [
      "My Dog name is Shawn\n",
      "Shawn Breed is Golden Retriever\n",
      "Dog is Friendly\n",
      "Dog has 4 legs.\n"
     ]
    }
   ],
   "source": [
    "class animal:\n",
    "    def __init__(self,name,breed,color,age):\n",
    "        self.name=name\n",
    "        self.breed=breed\n",
    "        self.color=color\n",
    "        self.age=age\n",
    "\n",
    "class cat(animal):\n",
    "    def __init__(self,animal,name,breed,color,age,temprament):\n",
    "        super().__init__(name,breed,color,age)\n",
    "        self.temprament=temprament\n",
    "        self.animal=animal\n",
    "    def details(self):\n",
    "        print(f'My {self.animal} name is {self.name}')\n",
    "        #print(f'My {self.name} name is {self.name}')\n",
    "        print(f\"{self.name} Breed is {self.breed}\")\n",
    "        print(f'{self.animal} is {self.temprament}')\n",
    "\n",
    "class dog(cat):\n",
    "    def __init__(self,animal,name,breed,color,age,temprament,legs):\n",
    "        super().__init__(animal,name,breed,color,age,temprament)\n",
    "        self.legs=legs\n",
    "    def dog_details(self):\n",
    "        print(f'{self.animal} has {self.legs} legs.')\n",
    "\n",
    "# rupali=cat('Minu','tuxedo','gray',1,'Aggressive')\n",
    "# rupali.details()\n",
    "\n",
    "x=dog('Dog','Shawn','Golden Retriever','Golden',4,'Friendly',4)\n",
    "x.details()\n",
    "x.dog_details()"
   ]
  },
  {
   "cell_type": "markdown",
   "id": "b164ff50-3b82-4e80-b336-11a5814d9810",
   "metadata": {},
   "source": [
    "Kingdom: Plantae\n",
    "Division: Magnoliophyta\n",
    "Class: Liliopsida\n",
    "Order: Liliales\n",
    "Family: Liliaceae"
   ]
  },
  {
   "cell_type": "code",
   "execution_count": 59,
   "id": "000f518c-ee7b-4bed-9c8b-f8f179a39067",
   "metadata": {},
   "outputs": [
    {
     "name": "stdout",
     "output_type": "stream",
     "text": [
      "The Tribe of given plant is roseae\n",
      "The Subfamily of given plant is  rosoideae\n"
     ]
    }
   ],
   "source": [
    "class plant:\n",
    "    def __init__(self,kingdom,genus,Class,order,family):\n",
    "        self.kingdom=kingdom\n",
    "        self.genus=genus\n",
    "        self.Class=Class\n",
    "        self.order=order\n",
    "        self.family=family\n",
    "    def details(self):\n",
    "        print(f\"The kingdom of given plant is {self.kingdom}\")\n",
    "        print(f\"The Genus of given plant is {self.genus}\")\n",
    "        print(f\"The class of given plant is {self.Class}\")\n",
    "        print(f\"The order of given plant is {self.order}\")\n",
    "        print(f\"The family of given plant is {self.family}\")\n",
    "        \n",
    "class rose(plant):\n",
    "    def __init__(self,kingdom,division,Class,order,family,tribe,Subfamily):\n",
    "        super().__init__(kingdom,division,Class,order,family)\n",
    "        self.tribe=tribe\n",
    "        self.Subfamily=Subfamily\n",
    "    def rose_details(self):\n",
    "        print(f\"The Tribe of given plant is {self.tribe}\")\n",
    "        print(f\"The Subfamily of given plant is {self.Subfamily}\")\n",
    "Rose=rose(\"Plantae\",\"rosa\",\"Eudicot\",\"Rosales\",\"Rosaceae\",\"roseae\",\" rosoideae\")  \n",
    "#Rose.details()\n",
    "Rose.rose_details()"
   ]
  },
  {
   "cell_type": "code",
   "execution_count": 63,
   "id": "cc170a56-e221-458a-9444-b695ba5de378",
   "metadata": {},
   "outputs": [
    {
     "name": "stdout",
     "output_type": "stream",
     "text": [
      "Rose belongs to kingdom Plantae.\n",
      "Rose belongs to divsion Magnoliophyta.\n",
      "Rose belongs to class Magnoliopsida.\n",
      "Rose belongs to order Rosales.\n",
      "Rose belongs to family Rosaceae.\n",
      "Rose color is Red\n",
      "\n",
      "-------------------------------------------------------\n",
      "\n",
      "Jasmine belongs to kingdom Plantae.\n",
      "Jasmine belongs to divsion Oleaceae.\n",
      "Jasmine belongs to class Magnoliopsida.\n",
      "Jasmine belongs to order Lamiales.\n",
      "Jasmine belongs to family Olessea.\n",
      "Jasmine color is White\n",
      "Jasmine has many varities.\n"
     ]
    }
   ],
   "source": [
    "class plant:\n",
    "    def __init__(self,kingdom,division,class1,order,family):\n",
    "        self.kingdom = kingdom\n",
    "        self.division = division\n",
    "        self.class1 = class1\n",
    "        self.order = order\n",
    "        self.family = family\n",
    "\n",
    "class rose(plant):\n",
    "    def __init__(self,kingdom,division,class1,order,family,color,flower):\n",
    "        super().__init__(kingdom,division,class1,order,family)\n",
    "        self.color = color\n",
    "        self.flower = flower\n",
    "    def rose_details(self):\n",
    "        print(f\"{self.flower} belongs to kingdom {self.kingdom}.\")\n",
    "        print(f\"{self.flower} belongs to divsion {self.division}.\")\n",
    "        print(f\"{self.flower} belongs to class {self.class1}.\")\n",
    "        print(f\"{self.flower} belongs to order {self.order}.\")\n",
    "        print(f\"{self.flower} belongs to family {self.family}.\")\n",
    "        print(f\"{self.flower} color is {self.color}\")\n",
    "\n",
    "class jasmine(rose):\n",
    "    def __init__(self,kingdom,division,class1,order,family,color,flower,variety):\n",
    "        super().__init__(kingdom,division,class1,order,family,color,flower)\n",
    "        self.variety = variety\n",
    "    def jasmine_details(self):\n",
    "        print(f\"{self.flower} has {self.variety} varities.\")\n",
    "\n",
    "x = rose(\"Plantae\",\"Magnoliophyta\",\"Magnoliopsida\",\"Rosales\",\"Rosaceae\",\"Red\",\"Rose\")\n",
    "x.rose_details()\n",
    "print(\"\\n-------------------------------------------------------\\n\")\n",
    "y = jasmine(\"Plantae\",\"Oleaceae\",\"Magnoliopsida\",\"Lamiales\",\"Olessea\",\"White\",\"Jasmine\",\"many\")\n",
    "y.rose_details()\n",
    "y.jasmine_details()"
   ]
  },
  {
   "cell_type": "markdown",
   "id": "af7db602-62f1-497d-ba47-8ecc52b3f580",
   "metadata": {},
   "source": [
    "# 4. Methods of oops concept:\n",
    "\n",
    " * __1. Inheritance__\n",
    " * __2. Polymorphism__\n",
    " * __3. Encapsulation__\n",
    " * __4. Data Abstraction__\n",
    "\n",
    " * __1. Inheritance (Mom and Daughter): Some property of mom inherits by her daughter.__\n",
    " * __2. Polymorphism:(child):- In School behave like student, In home behave like son or daughter, In Bus behave like a passenger, In shop behave like a Customer, In hospital behave like patients.__\n",
    " * __3. Encapsulation: School bag can keep book, pencil, pen, Sharpner, eraser, LuchBox__ __(Protection our data.)__\n",
    " * __4. Abstraction:ATM,check balance,deposite cash, withdraw cash, print statement.__  __(Hinding Our irrelevant data.)__\n",
    "   "
   ]
  },
  {
   "cell_type": "code",
   "execution_count": 6,
   "id": "02adfcbb-6903-4519-96ba-bab9696fe368",
   "metadata": {},
   "outputs": [
    {
     "name": "stdout",
     "output_type": "stream",
     "text": [
      "Shawn\n",
      "White\n",
      "Bark!\n"
     ]
    }
   ],
   "source": [
    "# Inheritance:\n",
    "\n",
    "class Animal:\n",
    "    def __init__(self,name):\n",
    "        self.name=name\n",
    "    def speak(self):\n",
    "        pass\n",
    "    def color(self):\n",
    "        pass\n",
    "\n",
    "class Dog(Animal):\n",
    "    def speak(self):\n",
    "        return \"Bark!\"\n",
    "    def color(self):\n",
    "        return 'White'\n",
    "\n",
    "\n",
    "dog=Dog('Shawn')\n",
    "print(dog.name)\n",
    "print(dog.color())\n",
    "print(dog.speak())"
   ]
  },
  {
   "cell_type": "code",
   "execution_count": 25,
   "id": "b1a6dc3c-576c-4e80-ac7c-023791a485b2",
   "metadata": {},
   "outputs": [
    {
     "name": "stdout",
     "output_type": "stream",
     "text": [
      "Dog Bark!\n",
      "Cat Meows\n",
      "Man: Talk\n"
     ]
    }
   ],
   "source": [
    "# polymorphism\n",
    "\n",
    "class Animal:\n",
    "    def speak(self):\n",
    "        print('Animal Speak')\n",
    "\n",
    "class Dog(Animal):\n",
    "    def speak(self):\n",
    "        print('Dog Bark!')\n",
    "\n",
    "class Cat(Animal):\n",
    "    def speak(self):\n",
    "        print('Cat Meows')\n",
    "\n",
    "\n",
    "class man(Animal):\n",
    "    def speak(self):\n",
    "        print('Man: Talk')\n",
    "\n",
    "ani=[Dog(),Cat(),man()]\n",
    "\n",
    "for i in ani:\n",
    "    i.speak()"
   ]
  },
  {
   "cell_type": "code",
   "execution_count": 26,
   "id": "3989ca9c-bc29-4973-8104-f9ea04ed19cf",
   "metadata": {},
   "outputs": [
    {
     "name": "stdout",
     "output_type": "stream",
     "text": [
      "Dog Bark!\n"
     ]
    }
   ],
   "source": [
    "x_ani=Dog()\n",
    "x_ani.speak()"
   ]
  },
  {
   "cell_type": "code",
   "execution_count": 28,
   "id": "c658ef37-b05d-449d-b8f1-6dbcf2f10b04",
   "metadata": {},
   "outputs": [
    {
     "name": "stdout",
     "output_type": "stream",
     "text": [
      "Man: Talk\n"
     ]
    }
   ],
   "source": [
    "x=man()\n",
    "x.speak()"
   ]
  },
  {
   "cell_type": "code",
   "execution_count": 92,
   "id": "3bc8faeb-ebcd-4770-868a-c988cdb05c3d",
   "metadata": {},
   "outputs": [
    {
     "ename": "AttributeError",
     "evalue": "'Encapsulation' object has no attribute '__private__variable'",
     "output_type": "error",
     "traceback": [
      "\u001b[1;31m---------------------------------------------------------------------------\u001b[0m",
      "\u001b[1;31mAttributeError\u001b[0m                            Traceback (most recent call last)",
      "Cell \u001b[1;32mIn[92], line 16\u001b[0m\n\u001b[0;32m     11\u001b[0m         \u001b[38;5;28mself\u001b[39m\u001b[38;5;241m.\u001b[39m__private__variable\u001b[38;5;241m=\u001b[39mnew_value\n\u001b[0;32m     14\u001b[0m obj\u001b[38;5;241m=\u001b[39mEncapsulation(\u001b[38;5;241m10\u001b[39m)\n\u001b[1;32m---> 16\u001b[0m \u001b[38;5;28mprint\u001b[39m(\u001b[43mobj\u001b[49m\u001b[38;5;241;43m.\u001b[39;49m\u001b[43m__private__variable\u001b[49m)\n",
      "\u001b[1;31mAttributeError\u001b[0m: 'Encapsulation' object has no attribute '__private__variable'"
     ]
    }
   ],
   "source": [
    "# Encapsulation\n",
    "\n",
    "class Encapsulation:\n",
    "    def __init__(self,value):\n",
    "        self.__private__variable=value\n",
    "\n",
    "    def get_private__variable(self):\n",
    "        return self.__private__variable\n",
    "    def set_private__variable(self,new_value):\n",
    "        \n",
    "        self.__private__variable=new_value\n",
    "\n",
    "\n",
    "obj=Encapsulation(10)\n",
    "\n",
    "print(obj.__private__variable)"
   ]
  },
  {
   "cell_type": "code",
   "execution_count": 80,
   "id": "67ac25c1-3df0-4610-8309-e5a43a94bb83",
   "metadata": {},
   "outputs": [
    {
     "data": {
      "text/plain": [
       "10"
      ]
     },
     "execution_count": 80,
     "metadata": {},
     "output_type": "execute_result"
    }
   ],
   "source": [
    "obj.get_private__variable()"
   ]
  },
  {
   "cell_type": "code",
   "execution_count": 81,
   "id": "fb67c32e-2bee-434c-9a01-45a7a2762be2",
   "metadata": {},
   "outputs": [],
   "source": [
    "obj.set_private__variable(100)"
   ]
  },
  {
   "cell_type": "code",
   "execution_count": 82,
   "id": "ab5d5c0d-9daf-49df-bb5f-16438cf36378",
   "metadata": {},
   "outputs": [
    {
     "data": {
      "text/plain": [
       "100"
      ]
     },
     "execution_count": 82,
     "metadata": {},
     "output_type": "execute_result"
    }
   ],
   "source": [
    "obj.get_private__variable()"
   ]
  },
  {
   "cell_type": "code",
   "execution_count": 83,
   "id": "3d925475-29d5-4b71-9f4f-7fb596cc1c8f",
   "metadata": {},
   "outputs": [],
   "source": [
    "x=Encapsulation(200)"
   ]
  },
  {
   "cell_type": "code",
   "execution_count": 84,
   "id": "6d175f7d-0e4d-45fa-9951-bbb01227da0b",
   "metadata": {},
   "outputs": [
    {
     "data": {
      "text/plain": [
       "200"
      ]
     },
     "execution_count": 84,
     "metadata": {},
     "output_type": "execute_result"
    }
   ],
   "source": [
    "x.get_private__variable()"
   ]
  },
  {
   "cell_type": "code",
   "execution_count": 85,
   "id": "6129fb5d-84cb-43b1-a12d-bd6a3e949c97",
   "metadata": {},
   "outputs": [
    {
     "data": {
      "text/plain": [
       "100"
      ]
     },
     "execution_count": 85,
     "metadata": {},
     "output_type": "execute_result"
    }
   ],
   "source": [
    "obj.get_private__variable()"
   ]
  },
  {
   "cell_type": "code",
   "execution_count": 86,
   "id": "228cb4c6-c067-4431-838f-2111e8d4bbe3",
   "metadata": {},
   "outputs": [],
   "source": [
    "sahil=Encapsulation(300)"
   ]
  },
  {
   "cell_type": "code",
   "execution_count": 87,
   "id": "2b2cba02-0354-40dd-8d8b-e25be50cf80d",
   "metadata": {},
   "outputs": [
    {
     "data": {
      "text/plain": [
       "300"
      ]
     },
     "execution_count": 87,
     "metadata": {},
     "output_type": "execute_result"
    }
   ],
   "source": [
    "sahil.get_private__variable()"
   ]
  },
  {
   "cell_type": "code",
   "execution_count": 88,
   "id": "247934ff-0dfb-428b-a4f3-0f1232bd4e86",
   "metadata": {},
   "outputs": [],
   "source": [
    "rupali=Encapsulation(400)"
   ]
  },
  {
   "cell_type": "code",
   "execution_count": 89,
   "id": "36ba50d8-9dfb-4412-8897-6ccbf46c3ac5",
   "metadata": {},
   "outputs": [
    {
     "data": {
      "text/plain": [
       "400"
      ]
     },
     "execution_count": 89,
     "metadata": {},
     "output_type": "execute_result"
    }
   ],
   "source": [
    "rupali.get_private__variable()"
   ]
  },
  {
   "cell_type": "code",
   "execution_count": 90,
   "id": "6e5aa178-4e1d-4285-8189-0ce2e3207f3e",
   "metadata": {},
   "outputs": [],
   "source": [
    "rupali.set_private__variable(500)"
   ]
  },
  {
   "cell_type": "code",
   "execution_count": 91,
   "id": "7d26cc9e-c031-4a73-9d24-8567f17cec11",
   "metadata": {},
   "outputs": [
    {
     "data": {
      "text/plain": [
       "500"
      ]
     },
     "execution_count": 91,
     "metadata": {},
     "output_type": "execute_result"
    }
   ],
   "source": [
    "rupali.get_private__variable()"
   ]
  },
  {
   "cell_type": "code",
   "execution_count": 93,
   "id": "06e2a3ac-5eb2-47db-abf7-5cdc7b5798b4",
   "metadata": {},
   "outputs": [
    {
     "data": {
      "text/plain": [
       "500"
      ]
     },
     "execution_count": 93,
     "metadata": {},
     "output_type": "execute_result"
    }
   ],
   "source": [
    "rupali.get_private__variable()"
   ]
  },
  {
   "cell_type": "code",
   "execution_count": 94,
   "id": "238fb39c-02ee-49be-b178-9cfdf6fa2bee",
   "metadata": {},
   "outputs": [],
   "source": [
    "rupali.set_private__variable(1000)"
   ]
  },
  {
   "cell_type": "code",
   "execution_count": 95,
   "id": "ca860877-570c-48c7-af32-df289826f55e",
   "metadata": {},
   "outputs": [
    {
     "data": {
      "text/plain": [
       "1000"
      ]
     },
     "execution_count": 95,
     "metadata": {},
     "output_type": "execute_result"
    }
   ],
   "source": [
    "rupali.get_private__variable()"
   ]
  },
  {
   "cell_type": "code",
   "execution_count": 96,
   "id": "fdc079ee-adc9-46f7-ab01-9046b1f4cd8d",
   "metadata": {},
   "outputs": [
    {
     "data": {
      "text/plain": [
       "300"
      ]
     },
     "execution_count": 96,
     "metadata": {},
     "output_type": "execute_result"
    }
   ],
   "source": [
    "sahil.get_private__variable()"
   ]
  },
  {
   "cell_type": "code",
   "execution_count": 97,
   "id": "92e6bb07-e754-4a49-832f-1f8beca44912",
   "metadata": {},
   "outputs": [],
   "source": [
    "sahil.set_private__variable(50)"
   ]
  },
  {
   "cell_type": "code",
   "execution_count": 98,
   "id": "607228d0-2470-48fc-98cd-23e30ee5fe62",
   "metadata": {},
   "outputs": [
    {
     "data": {
      "text/plain": [
       "50"
      ]
     },
     "execution_count": 98,
     "metadata": {},
     "output_type": "execute_result"
    }
   ],
   "source": [
    "sahil.get_private__variable()"
   ]
  },
  {
   "cell_type": "code",
   "execution_count": 4,
   "id": "49471a92-bf56-4945-850a-f99de11d356f",
   "metadata": {},
   "outputs": [],
   "source": [
    "# Encapsulation\n",
    "\n",
    "class Encapsulation:\n",
    "    def __init__(self,value):\n",
    "        self.__private__value=value\n",
    "\n",
    "    def get__private__value(self):\n",
    "        return self.__private__value\n",
    "\n",
    "    def set__private__value(self,newvalue):\n",
    "        self.__private__value=newvalue\n",
    "        return 'Success!'\n",
    "\n",
    "aditi=Encapsulation(100)"
   ]
  },
  {
   "cell_type": "code",
   "execution_count": 6,
   "id": "23671569-063c-43f7-89c7-42d8d5c60380",
   "metadata": {},
   "outputs": [
    {
     "ename": "AttributeError",
     "evalue": "'Encapsulation' object has no attribute '__private__value'",
     "output_type": "error",
     "traceback": [
      "\u001b[1;31m---------------------------------------------------------------------------\u001b[0m",
      "\u001b[1;31mAttributeError\u001b[0m                            Traceback (most recent call last)",
      "Cell \u001b[1;32mIn[6], line 1\u001b[0m\n\u001b[1;32m----> 1\u001b[0m \u001b[43maditi\u001b[49m\u001b[38;5;241;43m.\u001b[39;49m\u001b[43m__private__value\u001b[49m()\n",
      "\u001b[1;31mAttributeError\u001b[0m: 'Encapsulation' object has no attribute '__private__value'"
     ]
    }
   ],
   "source": [
    "aditi.__private__value()"
   ]
  },
  {
   "cell_type": "code",
   "execution_count": 7,
   "id": "c50f1b34-65aa-41f4-917a-8e29c4e81f99",
   "metadata": {},
   "outputs": [
    {
     "data": {
      "text/plain": [
       "100"
      ]
     },
     "execution_count": 7,
     "metadata": {},
     "output_type": "execute_result"
    }
   ],
   "source": [
    "aditi.get__private__value()"
   ]
  },
  {
   "cell_type": "code",
   "execution_count": 8,
   "id": "8d03e1f6-ec4b-4bc8-99ef-9842e421c3c8",
   "metadata": {},
   "outputs": [
    {
     "data": {
      "text/plain": [
       "'Success!'"
      ]
     },
     "execution_count": 8,
     "metadata": {},
     "output_type": "execute_result"
    }
   ],
   "source": [
    "aditi.set__private__value(5000)"
   ]
  },
  {
   "cell_type": "code",
   "execution_count": 9,
   "id": "b9154446-947a-49d1-89be-a468db261c88",
   "metadata": {},
   "outputs": [
    {
     "data": {
      "text/plain": [
       "5000"
      ]
     },
     "execution_count": 9,
     "metadata": {},
     "output_type": "execute_result"
    }
   ],
   "source": [
    "aditi.get__private__value()"
   ]
  },
  {
   "cell_type": "code",
   "execution_count": 10,
   "id": "59b97f42-5a0d-4067-ad85-1f1c798b40cd",
   "metadata": {},
   "outputs": [],
   "source": [
    "sahil=Encapsulation(4000)"
   ]
  },
  {
   "cell_type": "code",
   "execution_count": 11,
   "id": "27399831-efb4-4d95-935f-c2bccea053e7",
   "metadata": {},
   "outputs": [
    {
     "data": {
      "text/plain": [
       "4000"
      ]
     },
     "execution_count": 11,
     "metadata": {},
     "output_type": "execute_result"
    }
   ],
   "source": [
    "sahil.get__private__value()"
   ]
  },
  {
   "cell_type": "code",
   "execution_count": 12,
   "id": "d39eba39-bbbf-4ca6-9c1f-0eb64c448b51",
   "metadata": {},
   "outputs": [
    {
     "data": {
      "text/plain": [
       "'Success!'"
      ]
     },
     "execution_count": 12,
     "metadata": {},
     "output_type": "execute_result"
    }
   ],
   "source": [
    "sahil.set__private__value(50)"
   ]
  },
  {
   "cell_type": "code",
   "execution_count": 14,
   "id": "27b56a1c-0738-4039-b462-e9d6edfb92f1",
   "metadata": {},
   "outputs": [
    {
     "data": {
      "text/plain": [
       "50"
      ]
     },
     "execution_count": 14,
     "metadata": {},
     "output_type": "execute_result"
    }
   ],
   "source": [
    "sahil.get__private__value()"
   ]
  },
  {
   "cell_type": "code",
   "execution_count": 15,
   "id": "6e1fd15d-c2d8-49c1-a5c1-c85097eb22d7",
   "metadata": {},
   "outputs": [
    {
     "data": {
      "text/plain": [
       "5000"
      ]
     },
     "execution_count": 15,
     "metadata": {},
     "output_type": "execute_result"
    }
   ],
   "source": [
    "aditi.get__private__value()"
   ]
  },
  {
   "cell_type": "code",
   "execution_count": 16,
   "id": "d1e61305-9b28-4f39-8993-7afcab792e55",
   "metadata": {},
   "outputs": [
    {
     "data": {
      "text/plain": [
       "50"
      ]
     },
     "execution_count": 16,
     "metadata": {},
     "output_type": "execute_result"
    }
   ],
   "source": [
    "sahil.get__private__value()"
   ]
  },
  {
   "cell_type": "markdown",
   "id": "0f7b5eef-9b66-4060-b67c-06319afce56c",
   "metadata": {},
   "source": [
    "# Abstract Class"
   ]
  },
  {
   "cell_type": "code",
   "execution_count": 119,
   "id": "3ce4f537-5be9-4754-bfb2-a33e6d95da84",
   "metadata": {},
   "outputs": [],
   "source": [
    "from abc import ABC, abstractmethod\n",
    "class bank(ABC):\n",
    "    def database1(self):\n",
    "        print('connect to database')\n",
    "        \n",
    "    @abstractmethod\n",
    "    def security1(self):\n",
    "        pass\n",
    "    @abstractmethod\n",
    "    def display(self):\n",
    "        pass"
   ]
  },
  {
   "cell_type": "code",
   "execution_count": 124,
   "id": "3e40b224-6248-424f-ab0c-9c2b41dea4b9",
   "metadata": {},
   "outputs": [],
   "source": [
    "class mobile(bank):\n",
    "    def mobile_log(self):\n",
    "        print('Login into mobile')\n",
    "    def security1(self):\n",
    "        print('Mobile Security')\n",
    "    def display(self):\n",
    "        print('Display')"
   ]
  },
  {
   "cell_type": "code",
   "execution_count": 125,
   "id": "c1c7facb-4d55-4104-aeb6-f1f3f9152dce",
   "metadata": {},
   "outputs": [],
   "source": [
    "mob1=mobile()"
   ]
  },
  {
   "cell_type": "code",
   "execution_count": 126,
   "id": "22e59698-93bd-4a95-9712-3a557e9b95e7",
   "metadata": {},
   "outputs": [
    {
     "name": "stdout",
     "output_type": "stream",
     "text": [
      "Mobile Security\n"
     ]
    }
   ],
   "source": [
    "mob1.security1()"
   ]
  },
  {
   "cell_type": "code",
   "execution_count": 127,
   "id": "a7f93f78-3d5b-4f9b-981a-afbc175b02d4",
   "metadata": {},
   "outputs": [
    {
     "name": "stdout",
     "output_type": "stream",
     "text": [
      "connect to database\n"
     ]
    }
   ],
   "source": [
    "mob1.database1()"
   ]
  },
  {
   "cell_type": "code",
   "execution_count": 129,
   "id": "943ae6b7-a1c5-4c76-abf8-67d0e21e38ab",
   "metadata": {},
   "outputs": [
    {
     "name": "stdout",
     "output_type": "stream",
     "text": [
      "Help on class ABC in module abc:\n",
      "\n",
      "class ABC(builtins.object)\n",
      " |  Helper class that provides a standard way to create an ABC using\n",
      " |  inheritance.\n",
      " |  \n",
      " |  Data and other attributes defined here:\n",
      " |  \n",
      " |  __abstractmethods__ = frozenset()\n",
      "\n"
     ]
    }
   ],
   "source": [
    "help(ABC)"
   ]
  },
  {
   "cell_type": "code",
   "execution_count": 140,
   "id": "b5523b23-9315-4617-9ad9-1dd50b0892b0",
   "metadata": {},
   "outputs": [
    {
     "data": {
      "text/plain": [
       "datetime.date(2024, 3, 20)"
      ]
     },
     "execution_count": 140,
     "metadata": {},
     "output_type": "execute_result"
    }
   ],
   "source": [
    "from datetime import datetime\n",
    "\n",
    "date.today()"
   ]
  },
  {
   "cell_type": "code",
   "execution_count": 154,
   "id": "2336c9c2-fcc0-46d3-b6c6-b233e2143a51",
   "metadata": {},
   "outputs": [
    {
     "data": {
      "text/plain": [
       "datetime.date(2024, 3, 20)"
      ]
     },
     "execution_count": 154,
     "metadata": {},
     "output_type": "execute_result"
    }
   ],
   "source": [
    "x=date.today()\n",
    "x"
   ]
  },
  {
   "cell_type": "code",
   "execution_count": 156,
   "id": "ddfbae97-9ec5-4afa-96db-a75eb06295f3",
   "metadata": {},
   "outputs": [
    {
     "data": {
      "text/plain": [
       "datetime.datetime(2024, 3, 20, 13, 35, 28, 127395)"
      ]
     },
     "execution_count": 156,
     "metadata": {},
     "output_type": "execute_result"
    }
   ],
   "source": [
    "y=datetime.now()\n",
    "y"
   ]
  },
  {
   "cell_type": "code",
   "execution_count": null,
   "id": "c8f05c42-aa88-4b62-adc5-e3ffecc48289",
   "metadata": {},
   "outputs": [],
   "source": []
  },
  {
   "cell_type": "code",
   "execution_count": 167,
   "id": "95612eaf-69ce-437e-a30b-f0710a614786",
   "metadata": {},
   "outputs": [
    {
     "name": "stdout",
     "output_type": "stream",
     "text": [
      "My name is Aditi Kute\n",
      "My country is: Bharat\n",
      "My date of birth is: 1995-03-18\n",
      "Your Current age is: 29\n"
     ]
    }
   ],
   "source": [
    "# Write a python program to crete a class. include attributes like name,country,and date of birth.\n",
    "# implement a method to determine the person's age.\n",
    "\n",
    "\n",
    "class person:\n",
    "    def __init__(self,name,country,dob):\n",
    "        self.name=name\n",
    "        self.country=country\n",
    "        self.dob=dob\n",
    "        \n",
    "    def calculate_age(self):\n",
    "        today=date.today()\n",
    "        age=today.year-self.dob.year\n",
    "        if today<date(today.year,self.dob.month,self.dob.day):\n",
    "            age-=1\n",
    "        print(f'Your Current age is: {age}')\n",
    "    def details(self):\n",
    "        print(f'My name is {self.name}')\n",
    "        print(f'My country is: {self.country}')\n",
    "        print(f'My date of birth is: {self.dob}')\n",
    "\n",
    "\n",
    "aditi=person('Aditi Kute','Bharat',date(1995,3,18))\n",
    "aditi.details()\n",
    "aditi.calculate_age()"
   ]
  },
  {
   "cell_type": "code",
   "execution_count": 1,
   "id": "a2623ee0-3281-4fa7-9e29-cba9aee460c8",
   "metadata": {},
   "outputs": [
    {
     "data": {
      "text/plain": [
       "100"
      ]
     },
     "execution_count": 1,
     "metadata": {},
     "output_type": "execute_result"
    }
   ],
   "source": [
    "# Encapsulation\n",
    "\n",
    "class Encapsulation:\n",
    "    def __init__(self,value):\n",
    "        self.__private__variable=value\n",
    "\n",
    "    def get_variable(self):\n",
    "        return self.__private__variable\n",
    "    def update_variable(self,new_value):\n",
    "        self.__private__variable=new_value\n",
    "\n",
    "rupali=Encapsulation(100)\n",
    "rupali.get_variable()"
   ]
  },
  {
   "cell_type": "code",
   "execution_count": 3,
   "id": "18d5eb22-7f02-4626-ae59-95098864cdf5",
   "metadata": {},
   "outputs": [],
   "source": [
    "rupali.update_variable(500)"
   ]
  },
  {
   "cell_type": "code",
   "execution_count": 4,
   "id": "b5aac747-9a3a-4b0f-b62b-6e9848fa049d",
   "metadata": {},
   "outputs": [
    {
     "data": {
      "text/plain": [
       "500"
      ]
     },
     "execution_count": 4,
     "metadata": {},
     "output_type": "execute_result"
    }
   ],
   "source": [
    "rupali.get_variable()"
   ]
  },
  {
   "cell_type": "code",
   "execution_count": 5,
   "id": "d6892c27-6231-453f-b91f-c741eda49420",
   "metadata": {},
   "outputs": [],
   "source": [
    "sahil=Encapsulation(5000)\n"
   ]
  },
  {
   "cell_type": "code",
   "execution_count": 6,
   "id": "109ef764-ebe7-4091-88a4-27d68c8873a2",
   "metadata": {},
   "outputs": [
    {
     "data": {
      "text/plain": [
       "5000"
      ]
     },
     "execution_count": 6,
     "metadata": {},
     "output_type": "execute_result"
    }
   ],
   "source": [
    "sahil.get_variable()"
   ]
  },
  {
   "cell_type": "code",
   "execution_count": 7,
   "id": "baae4d36-ae90-4de7-b579-1455e796024c",
   "metadata": {},
   "outputs": [
    {
     "data": {
      "text/plain": [
       "500"
      ]
     },
     "execution_count": 7,
     "metadata": {},
     "output_type": "execute_result"
    }
   ],
   "source": [
    "rupali.get_variable()"
   ]
  },
  {
   "cell_type": "code",
   "execution_count": 8,
   "id": "7acaf012-7f76-4ea3-a2e6-8441888f436b",
   "metadata": {},
   "outputs": [],
   "source": [
    "rupali.update_variable(10000)"
   ]
  },
  {
   "cell_type": "code",
   "execution_count": 9,
   "id": "82a6f373-3112-4fa5-bc08-149335f1d6c8",
   "metadata": {},
   "outputs": [
    {
     "data": {
      "text/plain": [
       "10000"
      ]
     },
     "execution_count": 9,
     "metadata": {},
     "output_type": "execute_result"
    }
   ],
   "source": [
    "rupali.get_variable()"
   ]
  },
  {
   "cell_type": "code",
   "execution_count": 10,
   "id": "a5af1921-79b8-4b74-b2a7-be8b00bde9b1",
   "metadata": {},
   "outputs": [
    {
     "data": {
      "text/plain": [
       "5000"
      ]
     },
     "execution_count": 10,
     "metadata": {},
     "output_type": "execute_result"
    }
   ],
   "source": [
    "sahil.get_variable()"
   ]
  },
  {
   "cell_type": "code",
   "execution_count": 11,
   "id": "fbb9c472-1b05-4110-8222-4527f3e88b54",
   "metadata": {},
   "outputs": [],
   "source": [
    "sahil.update_variable(10)"
   ]
  },
  {
   "cell_type": "code",
   "execution_count": 12,
   "id": "a01dfd2f-e46a-40a0-8568-a6ad856adfd4",
   "metadata": {},
   "outputs": [
    {
     "data": {
      "text/plain": [
       "10"
      ]
     },
     "execution_count": 12,
     "metadata": {},
     "output_type": "execute_result"
    }
   ],
   "source": [
    "sahil.get_variable()"
   ]
  },
  {
   "cell_type": "code",
   "execution_count": 15,
   "id": "3f356110-8d2b-41da-b88a-beff267a8f3c",
   "metadata": {},
   "outputs": [],
   "source": [
    "rupali.update_variable(5)"
   ]
  },
  {
   "cell_type": "code",
   "execution_count": 16,
   "id": "ff609559-b4f7-4bdc-8a68-0d42fa841ea1",
   "metadata": {},
   "outputs": [
    {
     "data": {
      "text/plain": [
       "5"
      ]
     },
     "execution_count": 16,
     "metadata": {},
     "output_type": "execute_result"
    }
   ],
   "source": [
    "rupali.get_variable()"
   ]
  },
  {
   "cell_type": "code",
   "execution_count": 18,
   "id": "097e0905-e233-48ae-a792-30ab98081010",
   "metadata": {},
   "outputs": [
    {
     "name": "stdout",
     "output_type": "stream",
     "text": [
      "100000\n",
      "WebAshaLive\n"
     ]
    }
   ],
   "source": [
    "# class name Employee (name,id,salary,project) mehtod show_salary(), method project(), \n",
    "\n",
    "\n",
    "class employee:\n",
    "    def __init__(self,name,id,salary,project):\n",
    "        self.name = name\n",
    "        self.id = id\n",
    "        self.salary = salary\n",
    "        self.project = project\n",
    "\n",
    "    def show_salary(self):\n",
    "        return self.salary\n",
    "\n",
    "    def show_project(self):\n",
    "        return self.project\n",
    "\n",
    "rupali = employee(\"Rita\",3,100000,\"WebAshaLive\")\n",
    "print(rupali.show_salary())\n",
    "print(rupali.show_project())"
   ]
  },
  {
   "cell_type": "code",
   "execution_count": 23,
   "id": "eb630120-4443-4360-a245-d523d9f85896",
   "metadata": {},
   "outputs": [
    {
     "data": {
      "text/plain": [
       "'Rita'"
      ]
     },
     "execution_count": 23,
     "metadata": {},
     "output_type": "execute_result"
    }
   ],
   "source": [
    "class employee:\n",
    "    def __init__(self,name,id,salary,project):\n",
    "        self.name = name\n",
    "        self.id = id\n",
    "        self.salary = salary\n",
    "        self.project = project\n",
    "\n",
    "    def show_name(self):\n",
    "        return self.name\n",
    "\n",
    "    def show_id(self):\n",
    "        return self.id\n",
    "\n",
    "    def show_salary(self):\n",
    "        return self.salary\n",
    "\n",
    "    def show_project(self):\n",
    "        return self.project\n",
    "\n",
    "    def update_name(self,new_name):\n",
    "        self.name=new_name\n",
    "\n",
    "    def update_id(self,new_id):\n",
    "        self.id=new_id\n",
    "\n",
    "    def update_salary(self,new_salary):\n",
    "        self.salary=new_salary\n",
    "\n",
    "    def update_project(self,new_project):\n",
    "        self.project=new_project\n",
    "\n",
    "\n",
    "rupali = employee(\"Rita\",3,100000,\"WebAshaLive\")\n",
    "rupali.show_name()"
   ]
  },
  {
   "cell_type": "code",
   "execution_count": 24,
   "id": "2209c54d-cbfe-40de-a61e-0f106e6db2bd",
   "metadata": {},
   "outputs": [],
   "source": [
    "rupali.update_name('Sharma')"
   ]
  },
  {
   "cell_type": "code",
   "execution_count": 25,
   "id": "004655ba-effe-45c3-9e7a-2d17af128319",
   "metadata": {},
   "outputs": [
    {
     "data": {
      "text/plain": [
       "'Sharma'"
      ]
     },
     "execution_count": 25,
     "metadata": {},
     "output_type": "execute_result"
    }
   ],
   "source": [
    "rupali.show_name()"
   ]
  },
  {
   "cell_type": "code",
   "execution_count": 26,
   "id": "a5444e64-8192-4f04-9f8a-4b65b72874c0",
   "metadata": {},
   "outputs": [],
   "source": [
    "aditi=employee(\"Aditi\",10,50000,\"Infosys\")"
   ]
  },
  {
   "cell_type": "code",
   "execution_count": 27,
   "id": "1a1cf8bc-ea9d-4f36-887d-67265f2cd582",
   "metadata": {},
   "outputs": [
    {
     "data": {
      "text/plain": [
       "'Aditi'"
      ]
     },
     "execution_count": 27,
     "metadata": {},
     "output_type": "execute_result"
    }
   ],
   "source": [
    "aditi.show_name()"
   ]
  },
  {
   "cell_type": "code",
   "execution_count": 28,
   "id": "0790acda-114b-45cd-8afb-e4cdcb44e0e2",
   "metadata": {},
   "outputs": [],
   "source": [
    "aditi.update_name('Aditi Kute')"
   ]
  },
  {
   "cell_type": "code",
   "execution_count": 29,
   "id": "f8c31f90-b714-433b-81a7-ac4516038f44",
   "metadata": {},
   "outputs": [
    {
     "data": {
      "text/plain": [
       "'Aditi Kute'"
      ]
     },
     "execution_count": 29,
     "metadata": {},
     "output_type": "execute_result"
    }
   ],
   "source": [
    "aditi.show_name()"
   ]
  },
  {
   "cell_type": "code",
   "execution_count": 30,
   "id": "e0ebd1f9-d6d4-49e2-b02f-ac1ac6ddd723",
   "metadata": {},
   "outputs": [
    {
     "name": "stdout",
     "output_type": "stream",
     "text": [
      "1000000\n",
      "varroc\n"
     ]
    }
   ],
   "source": [
    "class Employee:\n",
    "    def __init__(self,name,salary,project):\n",
    "        self.name=name\n",
    "        self.salary=salary\n",
    "        self.project=project\n",
    "        \n",
    "    def show_salary(self):\n",
    "        return self.salary\n",
    "    \n",
    "    def method_project(self):\n",
    "        return self.project\n",
    "    \n",
    "aditi=Employee(\"laukik\",1000000,\"varroc\")\n",
    "print(aditi.show_salary())\n",
    "print(aditi.method_project())"
   ]
  },
  {
   "cell_type": "markdown",
   "id": "db3dd3f5-e586-4c3c-8ff7-79d93030caed",
   "metadata": {},
   "source": [
    "# Abstract Class"
   ]
  },
  {
   "cell_type": "code",
   "execution_count": 78,
   "id": "e24ecaca-d07a-46cb-b275-ca6d584433c6",
   "metadata": {},
   "outputs": [],
   "source": [
    "from abc import ABC,abstractmethod\n",
    "\n",
    "class bank(ABC):\n",
    "    def database(self):\n",
    "        print('Connect to databases')\n",
    "\n",
    "    @abstractmethod\n",
    "    def security(self):\n",
    "        pass\n",
    "    @abstractmethod   \n",
    "    def name(self):\n",
    "        pass\n",
    "    @abstractmethod\n",
    "    def display(self):\n",
    "        pass"
   ]
  },
  {
   "cell_type": "code",
   "execution_count": 84,
   "id": "a6bc83d5-9405-4a6d-9654-20cc3d2a7eb1",
   "metadata": {},
   "outputs": [],
   "source": [
    "class mobile(bank):\n",
    "    def mob_log(self):\n",
    "        print('Login into mobile')\n",
    "\n",
    "    def security(self):\n",
    "        print('Mobile Security')\n",
    "    def name(self):\n",
    "        print('My name is Rupali')\n",
    "    def display(self):\n",
    "        print('Display')"
   ]
  },
  {
   "cell_type": "code",
   "execution_count": 85,
   "id": "d3136935-8477-4021-8ec9-29bd7acd6797",
   "metadata": {},
   "outputs": [],
   "source": [
    "mob1=mobile()"
   ]
  },
  {
   "cell_type": "code",
   "execution_count": 86,
   "id": "481d0043-641b-44db-8550-1ac0c774bf67",
   "metadata": {},
   "outputs": [
    {
     "name": "stdout",
     "output_type": "stream",
     "text": [
      "My name is Rupali\n"
     ]
    }
   ],
   "source": [
    "mob1.name()"
   ]
  },
  {
   "cell_type": "code",
   "execution_count": 87,
   "id": "d95ffebf-9064-4eab-9678-5d8415e0f60b",
   "metadata": {},
   "outputs": [
    {
     "name": "stdout",
     "output_type": "stream",
     "text": [
      "Mobile Security\n"
     ]
    }
   ],
   "source": [
    "mob1.security()"
   ]
  },
  {
   "cell_type": "code",
   "execution_count": 88,
   "id": "e69231a2-e4bd-4bac-8cdb-c196dae23db9",
   "metadata": {},
   "outputs": [
    {
     "name": "stdout",
     "output_type": "stream",
     "text": [
      "Connect to databases\n"
     ]
    }
   ],
   "source": [
    "mob1.database()"
   ]
  },
  {
   "cell_type": "code",
   "execution_count": 89,
   "id": "3a500db8-5947-413b-b976-b7b7c7f74f34",
   "metadata": {},
   "outputs": [
    {
     "name": "stdout",
     "output_type": "stream",
     "text": [
      "Connect to databases\n"
     ]
    }
   ],
   "source": [
    "mob1.database()"
   ]
  },
  {
   "cell_type": "code",
   "execution_count": 90,
   "id": "55a4ba45-589a-4da4-b57a-c0f3b81ea0b7",
   "metadata": {},
   "outputs": [
    {
     "name": "stdout",
     "output_type": "stream",
     "text": [
      "Display\n"
     ]
    }
   ],
   "source": [
    "mob1.display()"
   ]
  },
  {
   "cell_type": "code",
   "execution_count": 92,
   "id": "6e3d3e12-ea9f-48b9-a24b-1e85a7a96e69",
   "metadata": {},
   "outputs": [
    {
     "name": "stdout",
     "output_type": "stream",
     "text": [
      "Help on class ABC in module abc:\n",
      "\n",
      "class ABC(builtins.object)\n",
      " |  Helper class that provides a standard way to create an ABC using\n",
      " |  inheritance.\n",
      " |  \n",
      " |  Data and other attributes defined here:\n",
      " |  \n",
      " |  __abstractmethods__ = frozenset()\n",
      "\n"
     ]
    }
   ],
   "source": [
    "help(ABC)"
   ]
  },
  {
   "cell_type": "code",
   "execution_count": null,
   "id": "8175c295-8d20-4d05-b0bc-6cc831a508a7",
   "metadata": {},
   "outputs": [],
   "source": [
    "# class animal move()pass   # human  # snaake()  crawl   # dog ()   lion"
   ]
  },
  {
   "cell_type": "code",
   "execution_count": 93,
   "id": "ce82d3c4-ffa5-4b54-ade7-9a1be2897eb0",
   "metadata": {},
   "outputs": [
    {
     "name": "stdout",
     "output_type": "stream",
     "text": [
      "Help on class ABC in module abc:\n",
      "\n",
      "class ABC(builtins.object)\n",
      " |  Helper class that provides a standard way to create an ABC using\n",
      " |  inheritance.\n",
      " |  \n",
      " |  Data and other attributes defined here:\n",
      " |  \n",
      " |  __abstractmethods__ = frozenset()\n",
      "\n"
     ]
    }
   ],
   "source": [
    "help(ABC)"
   ]
  },
  {
   "cell_type": "code",
   "execution_count": 96,
   "id": "6920f58d-bc96-40fe-93a8-475a07909fc4",
   "metadata": {},
   "outputs": [
    {
     "name": "stdout",
     "output_type": "stream",
     "text": [
      "Human can talk any language\n",
      "Human can walk and run\n",
      "\n",
      "--------------------------------------\n",
      "\n",
      "Snake sound is called hissing\n",
      "Snake can crawl\n",
      "\n",
      "--------------------------------------\n",
      "\n",
      "Lion sound is roaring\n",
      "Lion can walk and run\n"
     ]
    }
   ],
   "source": [
    "# class animal, aabstractmethod move(),speak:, child class human_run walk,snake(crawl),dog(),lion\n",
    "\n",
    "from abc import ABC,abstractmethod\n",
    "\n",
    "class animal(ABC):\n",
    "    @abstractmethod\n",
    "    def move(self):\n",
    "        pass\n",
    "\n",
    "    @abstractmethod\n",
    "    def speak(self):\n",
    "        pass\n",
    "\n",
    "class human(animal):\n",
    "    def move(self):\n",
    "        print(\"Human can walk and run\")\n",
    "\n",
    "    def speak(self):\n",
    "        print(\"Human can talk any language\")\n",
    "\n",
    "class snake(animal):\n",
    "    def move(self):\n",
    "        print(\"Snake can crawl\")\n",
    "\n",
    "    def speak(self):\n",
    "        print(\"Snake sound is called hissing\")\n",
    "\n",
    "class lion(animal):\n",
    "    def move(self):\n",
    "        print(\"Lion can walk and run\")\n",
    "\n",
    "    def speak(self):\n",
    "        print(\"Lion sound is roaring\")\n",
    "\n",
    "\n",
    "object_1 = human()\n",
    "object_1.speak()\n",
    "object_1.move()\n",
    "print(\"\\n--------------------------------------\\n\")\n",
    "object_2 = snake()\n",
    "object_2.speak()\n",
    "object_2.move()\n",
    "print(\"\\n--------------------------------------\\n\")\n",
    "object_3 = lion()\n",
    "object_3.speak()\n",
    "object_3.move()"
   ]
  },
  {
   "cell_type": "code",
   "execution_count": 97,
   "id": "97bd8786-5b79-48d8-863f-fb2e3b1f09a1",
   "metadata": {},
   "outputs": [],
   "source": [
    "from abc import ABC,abstractmethod\n",
    "\n",
    "class Animal(ABC):\n",
    "    @abstractmethod\n",
    "    def Move(self):\n",
    "        pass\n",
    "    @abstractmethod\n",
    "    def speak(self):\n",
    "        pass"
   ]
  },
  {
   "cell_type": "code",
   "execution_count": 103,
   "id": "6c150fdc-3ae3-41d8-b123-d037e345f842",
   "metadata": {},
   "outputs": [
    {
     "name": "stdout",
     "output_type": "stream",
     "text": [
      "Human Walk\n",
      "Human use languages to speak\n"
     ]
    }
   ],
   "source": [
    "class Human(Animal):\n",
    "    def Move(self):\n",
    "        return (\"Human Walk\")\n",
    "    def speak(self):\n",
    "        return (\"Human use languages to speak\")\n",
    "        \n",
    "ani=Human()\n",
    "print(ani.Move())\n",
    "print(ani.speak())"
   ]
  },
  {
   "cell_type": "code",
   "execution_count": 108,
   "id": "ab0777dc-0611-49fe-bc0e-d7f294ccc701",
   "metadata": {},
   "outputs": [
    {
     "name": "stdout",
     "output_type": "stream",
     "text": [
      "Snake can crawl.\n",
      "hissing\n"
     ]
    }
   ],
   "source": [
    "class Snake(Animal):\n",
    "    def Move(self):\n",
    "        return (\"Snake can crawl.\")\n",
    "    def speak(self):\n",
    "        return(\"hissing\")\n",
    "ani_1=Snake()\n",
    "print(ani_1.Move())\n",
    "print(ani_1.speak())"
   ]
  },
  {
   "cell_type": "code",
   "execution_count": 110,
   "id": "51469d2c-80d0-45dd-8f0a-1aa1380ae935",
   "metadata": {},
   "outputs": [
    {
     "name": "stdout",
     "output_type": "stream",
     "text": [
      "Human Movement: Walk and run\n",
      "Human Sound : Talk any language\n"
     ]
    }
   ],
   "source": [
    "# class animal, aabstractmethod move(),speak:, child class human_run walk,snake(crawl),dog(),lion\n",
    "\n",
    "from abc import ABC,abstractmethod\n",
    "\n",
    "class animal(ABC):\n",
    "    def __init__(self,move,speak):\n",
    "        self.move = move\n",
    "        self.speak = speak\n",
    "    \n",
    "    @abstractmethod\n",
    "    def details(self):\n",
    "        pass\n",
    "\n",
    "class human(animal):\n",
    "    def details(self):\n",
    "          print(\"Human Movement:\",self.move)\n",
    "          print(\"Human Sound :\",self.speak)\n",
    "      \n",
    "\n",
    "object_1 = human(\"Walk and run\",\"Talk any language\")\n",
    "object_1.details()"
   ]
  },
  {
   "cell_type": "code",
   "execution_count": null,
   "id": "07c03416-3a7b-4fe5-a1d9-ba9a587ddf53",
   "metadata": {},
   "outputs": [],
   "source": []
  }
 ],
 "metadata": {
  "kernelspec": {
   "display_name": "Python 3 (ipykernel)",
   "language": "python",
   "name": "python3"
  },
  "language_info": {
   "codemirror_mode": {
    "name": "ipython",
    "version": 3
   },
   "file_extension": ".py",
   "mimetype": "text/x-python",
   "name": "python",
   "nbconvert_exporter": "python",
   "pygments_lexer": "ipython3",
   "version": "3.11.4"
  }
 },
 "nbformat": 4,
 "nbformat_minor": 5
}
