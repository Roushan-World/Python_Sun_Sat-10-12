{
 "cells": [
  {
   "cell_type": "markdown",
   "id": "5da15500-59eb-474d-bccb-35ea44da0a2c",
   "metadata": {},
   "source": [
    "# 11. Classes and Objects in Python\n",
    "\n",
    " * __Python is an object-oriented programming language.__\n",
    " * __Unlike procedure-oriented programming, where the main emphasis is on function, object-oriented programming stresses on object.__\n",
    " * __An object is simply a collection of data (variable) and method (functions) that act on those data.__\n",
    " * __Similarly, a class is a blueprint for that object.__\n",
    " * __Like funciton definitions begin with the def keyword in Python, class definitions begin with a class keyword.__\n",
    " * __The first string inside the class is called docstring and has a bried description of the class.__\n",
    " * __Althrough not mandatory, this highly recommended.__"
   ]
  },
  {
   "cell_type": "code",
   "execution_count": 3,
   "id": "8f8c0ecb-4d2c-4d96-be02-fc79a9290ffd",
   "metadata": {},
   "outputs": [
    {
     "name": "stdout",
     "output_type": "stream",
     "text": [
      "Balaji\n",
      "25\n",
      "xyz@gmail.com\n",
      "98489456498\n"
     ]
    }
   ],
   "source": [
    "class Student:\n",
    "    def __init__(self,name,age,contact,email,phone):\n",
    "        self.name=name\n",
    "        self.age=age\n",
    "        self.contact=contact\n",
    "        self.email=email\n",
    "        self.phone=phone\n",
    "\n",
    "balaji=Student('Balaji',25,'pune','xyz@gmail.com',98489456498)\n",
    "print(balaji.name)\n",
    "print(balaji.age)\n",
    "print(balaji.email)\n",
    "print(balaji.phone)\n"
   ]
  },
  {
   "cell_type": "code",
   "execution_count": 4,
   "id": "d246f4cc-9d89-40b4-97f4-6b5033d7aaba",
   "metadata": {},
   "outputs": [
    {
     "name": "stdout",
     "output_type": "stream",
     "text": [
      "Sainath\n",
      "20\n",
      "xyz26@gmail.com\n",
      "9848945649845\n"
     ]
    }
   ],
   "source": [
    "sainath=Student('Sainath',20,'Aurangabad','xyz26@gmail.com',9848945649845)\n",
    "print(sainath.name)\n",
    "print(sainath.age)\n",
    "print(sainath.email)\n",
    "print(sainath.phone)"
   ]
  },
  {
   "cell_type": "code",
   "execution_count": 5,
   "id": "6da73cc6-22ae-46a6-b822-05ba00ecd4f1",
   "metadata": {},
   "outputs": [
    {
     "data": {
      "text/plain": [
       "'Balaji'"
      ]
     },
     "execution_count": 5,
     "metadata": {},
     "output_type": "execute_result"
    }
   ],
   "source": [
    "balaji.name"
   ]
  },
  {
   "cell_type": "code",
   "execution_count": 6,
   "id": "2499157a-b3ca-4ecd-9573-50e1e2b9ad3a",
   "metadata": {},
   "outputs": [
    {
     "data": {
      "text/plain": [
       "25"
      ]
     },
     "execution_count": 6,
     "metadata": {},
     "output_type": "execute_result"
    }
   ],
   "source": [
    "balaji.age"
   ]
  },
  {
   "cell_type": "code",
   "execution_count": 7,
   "id": "ea4c1b4e-9baf-46fb-883a-46f738fc05b0",
   "metadata": {},
   "outputs": [
    {
     "data": {
      "text/plain": [
       "'Sainath'"
      ]
     },
     "execution_count": 7,
     "metadata": {},
     "output_type": "execute_result"
    }
   ],
   "source": [
    "sainath.name"
   ]
  },
  {
   "cell_type": "code",
   "execution_count": 8,
   "id": "3ac77dc1-1390-42a9-a82e-8b4909394fcc",
   "metadata": {},
   "outputs": [
    {
     "data": {
      "text/plain": [
       "20"
      ]
     },
     "execution_count": 8,
     "metadata": {},
     "output_type": "execute_result"
    }
   ],
   "source": [
    "sainath.age"
   ]
  },
  {
   "cell_type": "code",
   "execution_count": 12,
   "id": "798b3187-0d0f-4f6a-ba88-a869be847b37",
   "metadata": {},
   "outputs": [
    {
     "name": "stdout",
     "output_type": "stream",
     "text": [
      "Balaji\n",
      "25\n",
      "xyz@gmail.com\n",
      "6545665\n"
     ]
    }
   ],
   "source": [
    "class Student:\n",
    "    def __init__(x,name,age,contact,email,phone='NO'):\n",
    "        x.name=name\n",
    "        x.age=age\n",
    "        x.contact=contact\n",
    "        x.email=email\n",
    "        x.phone=phone\n",
    "\n",
    "balaji=Student('Balaji',25,'pune','xyz@gmail.com',6545665)\n",
    "print(balaji.name)\n",
    "print(balaji.age)\n",
    "print(balaji.email)\n",
    "print(balaji.phone)"
   ]
  },
  {
   "cell_type": "code",
   "execution_count": 15,
   "id": "926fb30d-755f-4771-804a-59f044505506",
   "metadata": {},
   "outputs": [
    {
     "name": "stdout",
     "output_type": "stream",
     "text": [
      "Sainath\n",
      "26\n"
     ]
    }
   ],
   "source": [
    "class stu:\n",
    "    def __init__(sainath,name,age):\n",
    "        sainath.name=name\n",
    "        sainath.age=age\n",
    "\n",
    "x=stu('Sainath',26)\n",
    "print(x.name)\n",
    "print(x.age)"
   ]
  },
  {
   "cell_type": "code",
   "execution_count": 2,
   "id": "eec46d68-3282-4cbb-b431-34f9eb9905d1",
   "metadata": {},
   "outputs": [
    {
     "name": "stdout",
     "output_type": "stream",
     "text": [
      "My name is Balaji\n",
      "I am 25 years old.\n",
      "My contact address is: pune.\n",
      "You can mail me on xyz@gmail.com.\n",
      "My Phone number is 6545665.\n"
     ]
    }
   ],
   "source": [
    "class Student:\n",
    "    def __init__(x,name,age,contact,email,phone='NO'):\n",
    "        x.name=name\n",
    "        x.age=age\n",
    "        x.contact=contact\n",
    "        x.email=email\n",
    "        x.phone=phone\n",
    "    def details(x):\n",
    "        print(f'My name is {x.name}')\n",
    "        print(f'I am {x.age} years old.')\n",
    "        print(f'My contact address is: {x.contact}.')\n",
    "        print(f'You can mail me on {x.email}.')\n",
    "        print(f'My Phone number is {x.phone}.')\n",
    "balaji=Student('Balaji',25,'pune','xyz@gmail.com',6545665)\n",
    "balaji.details()"
   ]
  },
  {
   "cell_type": "code",
   "execution_count": 3,
   "id": "294e6500-4806-4f7a-ad9d-40179f235a68",
   "metadata": {},
   "outputs": [
    {
     "name": "stdout",
     "output_type": "stream",
     "text": [
      "My name is Sainath\n",
      "I am 25 years old.\n",
      "My contact address is: Pune.\n",
      "You can mail me on xyz@gmail.com.\n",
      "My Phone number is 7894561230.\n"
     ]
    }
   ],
   "source": [
    "sai=Student('Sainath',25,'Pune','xyz@gmail.com',7894561230)\n",
    "sai.details()"
   ]
  },
  {
   "cell_type": "code",
   "execution_count": 6,
   "id": "ae15d28c-b84d-4720-abfa-17d5350587a7",
   "metadata": {},
   "outputs": [
    {
     "name": "stdin",
     "output_type": "stream",
     "text": [
      "Enter your name: balaji\n",
      "Enter your age 25\n",
      "Enter your address pune\n",
      "Enter your email: xy@gmail.com\n",
      "Enter your phone number: 123\n"
     ]
    },
    {
     "name": "stdout",
     "output_type": "stream",
     "text": [
      "My name is balaji\n",
      "I am 25 years old.\n",
      "My contact address is: pune.\n"
     ]
    }
   ],
   "source": [
    "class Student:\n",
    "   \n",
    "    def __init__(x,name,age,contact,email,phone='NO'):\n",
    "        x.name=name\n",
    "        x.age=age\n",
    "        x.contact=contact\n",
    "        x.email=email\n",
    "        x.phone=phone\n",
    "    def details(x):\n",
    "        print(f'My name is {x.name}')\n",
    "        print(f'I am {x.age} years old.')\n",
    "        print(f'My contact address is: {x.contact}.')\n",
    "        print(f'You can mail me on {x.email}.')\n",
    "        print(f'My Phone number is {x.phone}.')\n",
    "\n",
    "name=input('Enter your name:')\n",
    "age=int(input('Enter your age'))\n",
    "contact=input('Enter your address')\n",
    "email=input('Enter your email:')\n",
    "phone=int(input('Enter your phone number:'))\n",
    "balaji=Student(name,age,contact,email,phone)\n",
    "balaji.details()"
   ]
  },
  {
   "cell_type": "code",
   "execution_count": 7,
   "id": "292fff5b-f067-4fd6-a060-d0ae580116ad",
   "metadata": {},
   "outputs": [
    {
     "name": "stdout",
     "output_type": "stream",
     "text": [
      "Book name is: Nagraj.\n",
      "Book has written by: Nagraj.\n",
      "The Book Nagraj is published by Raj comics.\n"
     ]
    }
   ],
   "source": [
    "class book:\n",
    "    def __init__(self,name,author,publish):\n",
    "        self.name=name\n",
    "        self.author=author\n",
    "        self.publish=publish\n",
    "\n",
    "    def details_book(self):\n",
    "        print(f'Book name is: {self.name}.')\n",
    "        print(f'Book has written by: {self.name}.')\n",
    "        print(f'The Book {self.name} is published by {self.publish}.')\n",
    "\n",
    "comic=book('Nagraj','Parshuram Sharma',\"Raj comics\")\n",
    "comic.details_book()"
   ]
  },
  {
   "cell_type": "code",
   "execution_count": 8,
   "id": "a8f16438-578e-40cf-bbe1-484d4d32f6e8",
   "metadata": {},
   "outputs": [
    {
     "name": "stdout",
     "output_type": "stream",
     "text": [
      "Book name is: Ramayan.\n",
      "Book has written by: Ramayan.\n",
      "The Book Ramayan is published by Geeta Press.\n"
     ]
    }
   ],
   "source": [
    "ramayan=book('Ramayan','Valmiki','Geeta Press')\n",
    "ramayan.details_book()"
   ]
  },
  {
   "cell_type": "code",
   "execution_count": 11,
   "id": "037af48d-6991-4c5c-b8c9-898d2c03bb8f",
   "metadata": {},
   "outputs": [
    {
     "name": "stdout",
     "output_type": "stream",
     "text": [
      "Book name is: The Story of my life.\n",
      "Book has written by: The Story of my life.\n",
      "The Book The Story of my life is published by the Ladies' Home Journal.\n"
     ]
    }
   ],
   "source": [
    "novel=book('The Story of my life','Helen Killer',\"the Ladies' Home Journal\")\n",
    "novel.details_book()"
   ]
  },
  {
   "cell_type": "code",
   "execution_count": 12,
   "id": "bb29331a-5533-4195-b606-25eb67e189db",
   "metadata": {},
   "outputs": [],
   "source": [
    "# create a class animal\n",
    "# constructor: kindom, phylum or division, class1,order, family, genus, species.\n",
    "\n"
   ]
  },
  {
   "cell_type": "code",
   "execution_count": 22,
   "id": "b63c6969-85b4-4dbe-a24c-36ddfb30ac34",
   "metadata": {},
   "outputs": [
    {
     "name": "stdout",
     "output_type": "stream",
     "text": [
      "The area of circle is 314.1592653589793 \n",
      "Circumference of circle is: 62.83185307179586\n"
     ]
    }
   ],
   "source": [
    "import math\n",
    "class circle:\n",
    "    def __init__(self,radius):\n",
    "        self.radius=radius\n",
    "\n",
    "    def area(self):\n",
    "        area=math.pi*self.radius*self.radius\n",
    "        circum=2*math.pi*self.radius\n",
    "        return area, circum\n",
    "        \n",
    "\n",
    "    def details(self):\n",
    "        area, circum = self.area()\n",
    "        print('The area of circle is', area, '\\nCircumference of circle is:', circum)\n",
    "\n",
    "circle1=circle(10)\n",
    "circle1.details()"
   ]
  },
  {
   "cell_type": "code",
   "execution_count": 19,
   "id": "b77fefa9-bc07-4983-84f9-7df5f5b3f67f",
   "metadata": {},
   "outputs": [],
   "source": [
    "x=circle(50)\n",
    "x.area()"
   ]
  },
  {
   "cell_type": "code",
   "execution_count": null,
   "id": "721c2a20-22b1-45fc-873c-933737665785",
   "metadata": {},
   "outputs": [],
   "source": []
  }
 ],
 "metadata": {
  "kernelspec": {
   "display_name": "Python 3 (ipykernel)",
   "language": "python",
   "name": "python3"
  },
  "language_info": {
   "codemirror_mode": {
    "name": "ipython",
    "version": 3
   },
   "file_extension": ".py",
   "mimetype": "text/x-python",
   "name": "python",
   "nbconvert_exporter": "python",
   "pygments_lexer": "ipython3",
   "version": "3.11.4"
  }
 },
 "nbformat": 4,
 "nbformat_minor": 5
}
