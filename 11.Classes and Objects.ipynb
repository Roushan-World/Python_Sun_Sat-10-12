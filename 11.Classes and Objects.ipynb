{
 "cells": [
  {
   "cell_type": "markdown",
   "id": "5da15500-59eb-474d-bccb-35ea44da0a2c",
   "metadata": {},
   "source": [
    "# 11. Classes and Objects in Python\n",
    "\n",
    " * __Python is an object-oriented programming language.__\n",
    " * __Unlike procedure-oriented programming, where the main emphasis is on function, object-oriented programming stresses on object.__\n",
    " * __An object is simply a collection of data (variable) and method (functions) that act on those data.__\n",
    " * __Similarly, a class is a blueprint for that object.__\n",
    " * __Like funciton definitions begin with the def keyword in Python, class definitions begin with a class keyword.__\n",
    " * __The first string inside the class is called docstring and has a bried description of the class.__\n",
    " * __Althrough not mandatory, this highly recommended.__"
   ]
  },
  {
   "cell_type": "code",
   "execution_count": 3,
   "id": "8f8c0ecb-4d2c-4d96-be02-fc79a9290ffd",
   "metadata": {},
   "outputs": [
    {
     "name": "stdout",
     "output_type": "stream",
     "text": [
      "Balaji\n",
      "25\n",
      "xyz@gmail.com\n",
      "98489456498\n"
     ]
    }
   ],
   "source": [
    "class Student:\n",
    "    def __init__(self,name,age,contact,email,phone):\n",
    "        self.name=name\n",
    "        self.age=age\n",
    "        self.contact=contact\n",
    "        self.email=email\n",
    "        self.phone=phone\n",
    "\n",
    "balaji=Student('Balaji',25,'pune','xyz@gmail.com',98489456498)\n",
    "print(balaji.name)\n",
    "print(balaji.age)\n",
    "print(balaji.email)\n",
    "print(balaji.phone)\n"
   ]
  },
  {
   "cell_type": "code",
   "execution_count": 4,
   "id": "d246f4cc-9d89-40b4-97f4-6b5033d7aaba",
   "metadata": {},
   "outputs": [
    {
     "name": "stdout",
     "output_type": "stream",
     "text": [
      "Sainath\n",
      "20\n",
      "xyz26@gmail.com\n",
      "9848945649845\n"
     ]
    }
   ],
   "source": [
    "sainath=Student('Sainath',20,'Aurangabad','xyz26@gmail.com',9848945649845)\n",
    "print(sainath.name)\n",
    "print(sainath.age)\n",
    "print(sainath.email)\n",
    "print(sainath.phone)"
   ]
  },
  {
   "cell_type": "code",
   "execution_count": 5,
   "id": "6da73cc6-22ae-46a6-b822-05ba00ecd4f1",
   "metadata": {},
   "outputs": [
    {
     "data": {
      "text/plain": [
       "'Balaji'"
      ]
     },
     "execution_count": 5,
     "metadata": {},
     "output_type": "execute_result"
    }
   ],
   "source": [
    "balaji.name"
   ]
  },
  {
   "cell_type": "code",
   "execution_count": 6,
   "id": "2499157a-b3ca-4ecd-9573-50e1e2b9ad3a",
   "metadata": {},
   "outputs": [
    {
     "data": {
      "text/plain": [
       "25"
      ]
     },
     "execution_count": 6,
     "metadata": {},
     "output_type": "execute_result"
    }
   ],
   "source": [
    "balaji.age"
   ]
  },
  {
   "cell_type": "code",
   "execution_count": 7,
   "id": "ea4c1b4e-9baf-46fb-883a-46f738fc05b0",
   "metadata": {},
   "outputs": [
    {
     "data": {
      "text/plain": [
       "'Sainath'"
      ]
     },
     "execution_count": 7,
     "metadata": {},
     "output_type": "execute_result"
    }
   ],
   "source": [
    "sainath.name"
   ]
  },
  {
   "cell_type": "code",
   "execution_count": 8,
   "id": "3ac77dc1-1390-42a9-a82e-8b4909394fcc",
   "metadata": {},
   "outputs": [
    {
     "data": {
      "text/plain": [
       "20"
      ]
     },
     "execution_count": 8,
     "metadata": {},
     "output_type": "execute_result"
    }
   ],
   "source": [
    "sainath.age"
   ]
  },
  {
   "cell_type": "code",
   "execution_count": 12,
   "id": "798b3187-0d0f-4f6a-ba88-a869be847b37",
   "metadata": {},
   "outputs": [
    {
     "name": "stdout",
     "output_type": "stream",
     "text": [
      "Balaji\n",
      "25\n",
      "xyz@gmail.com\n",
      "6545665\n"
     ]
    }
   ],
   "source": [
    "class Student:\n",
    "    def __init__(x,name,age,contact,email,phone='NO'):\n",
    "        x.name=name\n",
    "        x.age=age\n",
    "        x.contact=contact\n",
    "        x.email=email\n",
    "        x.phone=phone\n",
    "\n",
    "balaji=Student('Balaji',25,'pune','xyz@gmail.com',6545665)\n",
    "print(balaji.name)\n",
    "print(balaji.age)\n",
    "print(balaji.email)\n",
    "print(balaji.phone)"
   ]
  },
  {
   "cell_type": "code",
   "execution_count": 15,
   "id": "926fb30d-755f-4771-804a-59f044505506",
   "metadata": {},
   "outputs": [
    {
     "name": "stdout",
     "output_type": "stream",
     "text": [
      "Sainath\n",
      "26\n"
     ]
    }
   ],
   "source": [
    "class stu:\n",
    "    def __init__(sainath,name,age):\n",
    "        sainath.name=name\n",
    "        sainath.age=age\n",
    "\n",
    "x=stu('Sainath',26)\n",
    "print(x.name)\n",
    "print(x.age)"
   ]
  },
  {
   "cell_type": "code",
   "execution_count": null,
   "id": "eec46d68-3282-4cbb-b431-34f9eb9905d1",
   "metadata": {},
   "outputs": [],
   "source": []
  }
 ],
 "metadata": {
  "kernelspec": {
   "display_name": "Python 3 (ipykernel)",
   "language": "python",
   "name": "python3"
  },
  "language_info": {
   "codemirror_mode": {
    "name": "ipython",
    "version": 3
   },
   "file_extension": ".py",
   "mimetype": "text/x-python",
   "name": "python",
   "nbconvert_exporter": "python",
   "pygments_lexer": "ipython3",
   "version": "3.11.4"
  }
 },
 "nbformat": 4,
 "nbformat_minor": 5
}
