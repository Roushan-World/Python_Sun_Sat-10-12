{
 "cells": [
  {
   "cell_type": "markdown",
   "id": "aabece57-4c53-41d3-bed1-ea1b8f7cd2e5",
   "metadata": {},
   "source": [
    "# 3. Lists\n",
    "\n",
    " * __Lists are ordered__\n",
    " * __Lists can contains any arbitrary depth.__\n",
    " * __Lists elements can be accessed by any arbitrary depth.__\n",
    " * __Lists are mutable.__\n",
    " * __Lists are dynamic.__"
   ]
  },
  {
   "cell_type": "code",
   "execution_count": 1,
   "id": "3c0bfe22-73f5-4e4d-916f-916877ef18a4",
   "metadata": {},
   "outputs": [
    {
     "data": {
      "text/plain": [
       "['python', 3.14, 2023]"
      ]
     },
     "execution_count": 1,
     "metadata": {},
     "output_type": "execute_result"
    }
   ],
   "source": [
    "x=['python',3.14,2023]\n",
    "x"
   ]
  },
  {
   "cell_type": "code",
   "execution_count": 2,
   "id": "8f4da5fe-fff2-4e65-a693-d960acb8f987",
   "metadata": {},
   "outputs": [
    {
     "data": {
      "text/plain": [
       "list"
      ]
     },
     "execution_count": 2,
     "metadata": {},
     "output_type": "execute_result"
    }
   ],
   "source": [
    "type(x)"
   ]
  },
  {
   "cell_type": "code",
   "execution_count": 3,
   "id": "2d4713fb-6aeb-4d76-b599-c8d5f43fd8dd",
   "metadata": {},
   "outputs": [
    {
     "data": {
      "text/plain": [
       "'python'"
      ]
     },
     "execution_count": 3,
     "metadata": {},
     "output_type": "execute_result"
    }
   ],
   "source": [
    "# index value\n",
    "x[0]"
   ]
  },
  {
   "cell_type": "code",
   "execution_count": 4,
   "id": "6eea10a9-b660-4640-b969-d0ed73650ae6",
   "metadata": {},
   "outputs": [
    {
     "data": {
      "text/plain": [
       "3.14"
      ]
     },
     "execution_count": 4,
     "metadata": {},
     "output_type": "execute_result"
    }
   ],
   "source": [
    "x[1]"
   ]
  },
  {
   "cell_type": "code",
   "execution_count": 5,
   "id": "fe04f60d-ffe3-4300-add0-3adf2ac9639a",
   "metadata": {},
   "outputs": [
    {
     "data": {
      "text/plain": [
       "2023"
      ]
     },
     "execution_count": 5,
     "metadata": {},
     "output_type": "execute_result"
    }
   ],
   "source": [
    "x[2]"
   ]
  },
  {
   "cell_type": "code",
   "execution_count": 7,
   "id": "e4635d87-5d04-4279-b1c3-a339ed5da6ed",
   "metadata": {},
   "outputs": [
    {
     "data": {
      "text/plain": [
       "2023"
      ]
     },
     "execution_count": 7,
     "metadata": {},
     "output_type": "execute_result"
    }
   ],
   "source": [
    "x[-1]"
   ]
  },
  {
   "cell_type": "code",
   "execution_count": 8,
   "id": "9b8b6c69-8f54-4c3f-b4d1-ad6c1fe49826",
   "metadata": {},
   "outputs": [
    {
     "data": {
      "text/plain": [
       "3.14"
      ]
     },
     "execution_count": 8,
     "metadata": {},
     "output_type": "execute_result"
    }
   ],
   "source": [
    "x[-2]"
   ]
  },
  {
   "cell_type": "code",
   "execution_count": 9,
   "id": "459e0cb2-a54f-45be-895f-8e57102b6f9a",
   "metadata": {},
   "outputs": [
    {
     "data": {
      "text/plain": [
       "2023"
      ]
     },
     "execution_count": 9,
     "metadata": {},
     "output_type": "execute_result"
    }
   ],
   "source": [
    "x[-1]"
   ]
  },
  {
   "cell_type": "code",
   "execution_count": 10,
   "id": "d8b86e37-74bb-4773-a794-50939d9b2516",
   "metadata": {},
   "outputs": [
    {
     "data": {
      "text/plain": [
       "['Hello world',\n",
       " 3.14,\n",
       " 2023,\n",
       " True,\n",
       " False,\n",
       " ['Python', 45],\n",
       " ('hello', 50),\n",
       " {1, 2, 3},\n",
       " {'a': 'hello', 'b': 100}]"
      ]
     },
     "execution_count": 10,
     "metadata": {},
     "output_type": "execute_result"
    }
   ],
   "source": [
    "nlis=[\"Hello world\",3.14,2023,True,False,['Python',45],(\"hello\",50),{1,2,3},{'a':\"hello\",'b':100}]\n",
    "nlis"
   ]
  },
  {
   "cell_type": "code",
   "execution_count": 16,
   "id": "7dbc4eb4-a3d8-4b5c-a7ea-55febbf80fc3",
   "metadata": {},
   "outputs": [
    {
     "name": "stdout",
     "output_type": "stream",
     "text": [
      "Hello world\n",
      "<class 'str'>\n",
      "3.14\n",
      "<class 'float'>\n"
     ]
    }
   ],
   "source": [
    "print(nlis[0])\n",
    "print(type(nlis[0]))\n",
    "print(nlis[1])\n",
    "print(type(nlis[1]))"
   ]
  },
  {
   "cell_type": "code",
   "execution_count": 14,
   "id": "823547c8-b6a2-4f3b-a46b-0f5406b313a2",
   "metadata": {},
   "outputs": [
    {
     "name": "stdout",
     "output_type": "stream",
     "text": [
      "{'a': 'hello', 'b': 100}\n"
     ]
    }
   ],
   "source": [
    "print(nlis[-1])"
   ]
  },
  {
   "cell_type": "markdown",
   "id": "441182ff-7d32-466c-a3df-a54ca032cc8b",
   "metadata": {},
   "source": [
    "# What can content a list?\n",
    "* __Strings__\n",
    "* __Float__\n",
    "* __Integer__\n",
    "* __Boolean__\n",
    "* __Nested List__\n",
    "* __Nested Tuples__\n",
    "* __Nested Dictionary__\n",
    "* __And other data Structures__\n"
   ]
  },
  {
   "cell_type": "code",
   "execution_count": 1,
   "id": "99ea983a-5977-4ef0-b5dd-174d9d9b536e",
   "metadata": {},
   "outputs": [
    {
     "data": {
      "text/plain": [
       "['Hello world',\n",
       " 3.14,\n",
       " 2023,\n",
       " True,\n",
       " False,\n",
       " ['Python', 45],\n",
       " ('hello', 50),\n",
       " {1, 2, 3},\n",
       " {'a': 'hello', 'b': 100}]"
      ]
     },
     "execution_count": 1,
     "metadata": {},
     "output_type": "execute_result"
    }
   ],
   "source": [
    "nlis=[\"Hello world\",3.14,2023,True,False,['Python',45],(\"hello\",50),{1,2,3},{'a':\"hello\",'b':100}]\n",
    "nlis"
   ]
  },
  {
   "cell_type": "markdown",
   "id": "d19a8c52-6ba9-4c7e-b9b6-3436cf2392f0",
   "metadata": {},
   "source": [
    "# Slicing of list"
   ]
  },
  {
   "cell_type": "code",
   "execution_count": 2,
   "id": "98fc2a10-559f-4867-a6d3-cb60931f2812",
   "metadata": {},
   "outputs": [
    {
     "data": {
      "text/plain": [
       "['Hello world', 3.14, 2023, True, False]"
      ]
     },
     "execution_count": 2,
     "metadata": {},
     "output_type": "execute_result"
    }
   ],
   "source": [
    "nlis[0:5]"
   ]
  },
  {
   "cell_type": "code",
   "execution_count": 3,
   "id": "192065bf-c62d-4ea3-a0b6-49314708ce58",
   "metadata": {},
   "outputs": [
    {
     "data": {
      "text/plain": [
       "['Hello world',\n",
       " 3.14,\n",
       " 2023,\n",
       " True,\n",
       " False,\n",
       " ['Python', 45],\n",
       " ('hello', 50),\n",
       " {1, 2, 3},\n",
       " {'a': 'hello', 'b': 100}]"
      ]
     },
     "execution_count": 3,
     "metadata": {},
     "output_type": "execute_result"
    }
   ],
   "source": [
    "nlis"
   ]
  },
  {
   "cell_type": "markdown",
   "id": "cc19ce5c-34d3-4505-bc8a-8357814ca672",
   "metadata": {},
   "source": [
    "# Extending the list"
   ]
  },
  {
   "cell_type": "code",
   "execution_count": 5,
   "id": "60217855-e008-45c0-82c9-e4e13556df12",
   "metadata": {},
   "outputs": [
    {
     "data": {
      "text/plain": [
       "['Hello world',\n",
       " 3.14,\n",
       " 2023,\n",
       " True,\n",
       " False,\n",
       " ['Python', 45],\n",
       " ('hello', 50),\n",
       " {1, 2, 3},\n",
       " {'a': 'hello', 'b': 100}]"
      ]
     },
     "execution_count": 5,
     "metadata": {},
     "output_type": "execute_result"
    }
   ],
   "source": [
    "nlis"
   ]
  },
  {
   "cell_type": "code",
   "execution_count": 6,
   "id": "449a54eb-6927-4a40-afe4-1db9d1043f82",
   "metadata": {},
   "outputs": [
    {
     "data": {
      "text/plain": [
       "['Hello world',\n",
       " 3.14,\n",
       " 2023,\n",
       " True,\n",
       " False,\n",
       " ['Python', 45],\n",
       " ('hello', 50),\n",
       " {1, 2, 3},\n",
       " {'a': 'hello', 'b': 100},\n",
       " 'Morning',\n",
       " 'Balaji']"
      ]
     },
     "execution_count": 6,
     "metadata": {},
     "output_type": "execute_result"
    }
   ],
   "source": [
    "nlis.extend([\"Morning\",\"Balaji\"])\n",
    "nlis"
   ]
  },
  {
   "cell_type": "markdown",
   "id": "59bb269b-2ca3-43f6-877b-61d95fb9cd9f",
   "metadata": {},
   "source": [
    "# append() method"
   ]
  },
  {
   "cell_type": "code",
   "execution_count": 7,
   "id": "c5ce9918-303d-41e2-8d5a-eb02399cc4b1",
   "metadata": {},
   "outputs": [
    {
     "data": {
      "text/plain": [
       "['Hello world',\n",
       " 3.14,\n",
       " 2023,\n",
       " True,\n",
       " False,\n",
       " ['Python', 45],\n",
       " ('hello', 50),\n",
       " {1, 2, 3},\n",
       " {'a': 'hello', 'b': 100},\n",
       " 'Morning',\n",
       " 'Balaji']"
      ]
     },
     "execution_count": 7,
     "metadata": {},
     "output_type": "execute_result"
    }
   ],
   "source": [
    "nlis"
   ]
  },
  {
   "cell_type": "code",
   "execution_count": 8,
   "id": "5aff67a9-f953-4c15-ab93-4a87c0624a4f",
   "metadata": {},
   "outputs": [
    {
     "data": {
      "text/plain": [
       "['Hello world',\n",
       " 3.14,\n",
       " 2023,\n",
       " True,\n",
       " False,\n",
       " ['Python', 45],\n",
       " ('hello', 50),\n",
       " {1, 2, 3},\n",
       " {'a': 'hello', 'b': 100},\n",
       " 'Morning',\n",
       " 'Balaji',\n",
       " ['Morning', 'Balaji']]"
      ]
     },
     "execution_count": 8,
     "metadata": {},
     "output_type": "execute_result"
    }
   ],
   "source": [
    "nlis.append(['Morning','Balaji'])\n",
    "nlis"
   ]
  },
  {
   "cell_type": "markdown",
   "id": "22669681-dcb7-4e6d-a8f8-072176619a81",
   "metadata": {},
   "source": [
    "# insert() method"
   ]
  },
  {
   "cell_type": "code",
   "execution_count": 9,
   "id": "9617e0af-48b4-48d9-90af-7f4c0983b794",
   "metadata": {},
   "outputs": [
    {
     "data": {
      "text/plain": [
       "['Hello world',\n",
       " 3.14,\n",
       " 2023,\n",
       " True,\n",
       " False,\n",
       " ['Python', 45],\n",
       " ('hello', 50),\n",
       " {1, 2, 3},\n",
       " {'a': 'hello', 'b': 100},\n",
       " 'Morning',\n",
       " 'Balaji',\n",
       " ['Morning', 'Balaji']]"
      ]
     },
     "execution_count": 9,
     "metadata": {},
     "output_type": "execute_result"
    }
   ],
   "source": [
    "nlis"
   ]
  },
  {
   "cell_type": "code",
   "execution_count": 10,
   "id": "0b3065e5-dc90-468b-8a5d-e8c424887568",
   "metadata": {},
   "outputs": [
    {
     "data": {
      "text/plain": [
       "['Hello world',\n",
       " 3.14,\n",
       " 2023,\n",
       " True,\n",
       " False,\n",
       " ['Python', 45],\n",
       " ('hello', 50),\n",
       " {1, 2, 3},\n",
       " {'a': 'hello', 'b': 100},\n",
       " 'Morning',\n",
       " 'Balaji',\n",
       " ['Morning', 'Balaji']]"
      ]
     },
     "execution_count": 10,
     "metadata": {},
     "output_type": "execute_result"
    }
   ],
   "source": [
    "nlis"
   ]
  },
  {
   "cell_type": "code",
   "execution_count": 11,
   "id": "5ad13ef2-fb0a-489b-b648-3819244d6e48",
   "metadata": {},
   "outputs": [
    {
     "data": {
      "text/plain": [
       "[100,\n",
       " 'Hello world',\n",
       " 3.14,\n",
       " 2023,\n",
       " True,\n",
       " False,\n",
       " ['Python', 45],\n",
       " ('hello', 50),\n",
       " {1, 2, 3},\n",
       " {'a': 'hello', 'b': 100},\n",
       " 'Morning',\n",
       " 'Balaji',\n",
       " ['Morning', 'Balaji']]"
      ]
     },
     "execution_count": 11,
     "metadata": {},
     "output_type": "execute_result"
    }
   ],
   "source": [
    "nlis.insert(0,100)\n",
    "nlis"
   ]
  },
  {
   "cell_type": "markdown",
   "id": "2b307760-4e0a-4e37-a110-2304a0e597b4",
   "metadata": {},
   "source": [
    "# Changing the element"
   ]
  },
  {
   "cell_type": "code",
   "execution_count": 13,
   "id": "76506986-fe41-40f5-a7c4-f4d7670124e4",
   "metadata": {},
   "outputs": [
    {
     "data": {
      "text/plain": [
       "['Hello world',\n",
       " 3.14,\n",
       " 2023,\n",
       " True,\n",
       " False,\n",
       " ['Python', 45],\n",
       " ('hello', 50),\n",
       " {1, 2, 3},\n",
       " {'a': 'hello', 'b': 100}]"
      ]
     },
     "execution_count": 13,
     "metadata": {},
     "output_type": "execute_result"
    }
   ],
   "source": [
    "nlis=[\"Hello world\",3.14,2023,True,False,['Python',45],(\"hello\",50),{1,2,3},{'a':\"hello\",'b':100}]\n",
    "nlis"
   ]
  },
  {
   "cell_type": "code",
   "execution_count": 16,
   "id": "741aaa43-9b56-4c53-b435-ae743ee2ae23",
   "metadata": {},
   "outputs": [
    {
     "name": "stdout",
     "output_type": "stream",
     "text": [
      "Original List: ['Hello world', 3.14, 2023, True, False, ['Python', 45], ('hello', 50), {1, 2, 3}, {'a': 'hello', 'b': 100}]\n",
      "After Changing: ['Balaji', 3.14, 2023, True, False, ['Python', 45], ('hello', 50), {1, 2, 3}, {'a': 'hello', 'b': 100}]\n"
     ]
    }
   ],
   "source": [
    "print('Original List:',nlis)\n",
    "nlis[0]=\"Balaji\"\n",
    "print('After Changing:',nlis)"
   ]
  },
  {
   "cell_type": "markdown",
   "id": "e40aa19c-cf58-40aa-a0f5-0d18fee34947",
   "metadata": {},
   "source": [
    "# Deleting element from the list"
   ]
  },
  {
   "cell_type": "code",
   "execution_count": 17,
   "id": "c0543459-bb01-40ee-8fee-9bf77dd05f79",
   "metadata": {},
   "outputs": [
    {
     "data": {
      "text/plain": [
       "['Balaji',\n",
       " 3.14,\n",
       " 2023,\n",
       " True,\n",
       " False,\n",
       " ['Python', 45],\n",
       " ('hello', 50),\n",
       " {1, 2, 3},\n",
       " {'a': 'hello', 'b': 100}]"
      ]
     },
     "execution_count": 17,
     "metadata": {},
     "output_type": "execute_result"
    }
   ],
   "source": [
    "nlis"
   ]
  },
  {
   "cell_type": "code",
   "execution_count": 18,
   "id": "3a3d64ff-6141-448c-b562-49b7746b50bb",
   "metadata": {},
   "outputs": [],
   "source": [
    "del(nlis[4])"
   ]
  },
  {
   "cell_type": "code",
   "execution_count": 19,
   "id": "6e777dab-6819-48bc-8332-6c1a890a9159",
   "metadata": {},
   "outputs": [
    {
     "data": {
      "text/plain": [
       "['Balaji',\n",
       " 3.14,\n",
       " 2023,\n",
       " True,\n",
       " ['Python', 45],\n",
       " ('hello', 50),\n",
       " {1, 2, 3},\n",
       " {'a': 'hello', 'b': 100}]"
      ]
     },
     "execution_count": 19,
     "metadata": {},
     "output_type": "execute_result"
    }
   ],
   "source": [
    "nlis"
   ]
  },
  {
   "cell_type": "code",
   "execution_count": 21,
   "id": "70cbc34b-d272-40f9-99f5-e22431974172",
   "metadata": {},
   "outputs": [
    {
     "name": "stdout",
     "output_type": "stream",
     "text": [
      "<class 'str'>\n"
     ]
    },
    {
     "data": {
      "text/plain": [
       "['Python', 'is', 'Programming', 'language.']"
      ]
     },
     "execution_count": 21,
     "metadata": {},
     "output_type": "execute_result"
    }
   ],
   "source": [
    "x=\"Python is Programming language.\"\n",
    "print(type(x))\n",
    "\n",
    "#split\n",
    "\n",
    "x.split()\n"
   ]
  },
  {
   "cell_type": "code",
   "execution_count": 25,
   "id": "5166bdae-5be7-46f4-a5df-55e216f9b0ed",
   "metadata": {},
   "outputs": [
    {
     "data": {
      "text/plain": [
       "['Hello World', '100', '200', '300', '45.23']"
      ]
     },
     "execution_count": 25,
     "metadata": {},
     "output_type": "execute_result"
    }
   ],
   "source": [
    "y='Hello World,100,200,300,45.23'\n",
    "y.split(\",\")  # delimeter"
   ]
  },
  {
   "cell_type": "markdown",
   "id": "49270a39-99b8-46d5-9ed8-d8bfb0ab38cb",
   "metadata": {},
   "source": [
    "# input() function"
   ]
  },
  {
   "cell_type": "code",
   "execution_count": 32,
   "id": "3127409b-d7c5-4a8e-9fd3-a5fb08dd06ce",
   "metadata": {},
   "outputs": [
    {
     "name": "stdin",
     "output_type": "stream",
     "text": [
      "Enter any number 100\n"
     ]
    },
    {
     "name": "stdout",
     "output_type": "stream",
     "text": [
      "Your text is: 100\n"
     ]
    }
   ],
   "source": [
    "x=input('Enter any number')\n",
    "print(\"Your text is:\",x)"
   ]
  },
  {
   "cell_type": "markdown",
   "id": "0ae69d7c-73a4-40ff-aea9-787b4b630b6d",
   "metadata": {},
   "source": [
    "# eval() function"
   ]
  },
  {
   "cell_type": "code",
   "execution_count": 37,
   "id": "2b91fa05-45e6-4988-8150-b603e51a78a7",
   "metadata": {},
   "outputs": [
    {
     "name": "stdin",
     "output_type": "stream",
     "text": [
      "Enter any number 100\n"
     ]
    },
    {
     "name": "stdout",
     "output_type": "stream",
     "text": [
      "<class 'str'>\n",
      "100\n",
      "<class 'int'>\n"
     ]
    },
    {
     "data": {
      "text/plain": [
       "110"
      ]
     },
     "execution_count": 37,
     "metadata": {},
     "output_type": "execute_result"
    }
   ],
   "source": [
    "x=input('Enter any number')\n",
    "print(type(x))\n",
    "y=eval(x)\n",
    "print(y)\n",
    "print(type(y))\n",
    "z=y+10\n",
    "z"
   ]
  },
  {
   "cell_type": "markdown",
   "id": "a9d8262f-f5cb-4492-8689-c2b9c4347dd5",
   "metadata": {},
   "source": [
    "# Format() function"
   ]
  },
  {
   "cell_type": "code",
   "execution_count": 41,
   "id": "6d3a2d31-db29-4e35-a1fe-655677602b99",
   "metadata": {},
   "outputs": [
    {
     "name": "stdin",
     "output_type": "stream",
     "text": [
      "Enter any number: 20\n",
      "Enter second number: 30\n"
     ]
    },
    {
     "name": "stdout",
     "output_type": "stream",
     "text": [
      "Sum of two number 20.0 and 30.0 is 50.0\n"
     ]
    }
   ],
   "source": [
    "a=float(input('Enter any number:'))\n",
    "b=float(input('Enter second number:'))\n",
    "\n",
    "z=a+b\n",
    "print('Sum of two number {} and {} is {}'.format(a,b,z))"
   ]
  },
  {
   "cell_type": "markdown",
   "id": "8cd9d86a-9d80-4f24-9b37-9c2eb89ebc80",
   "metadata": {},
   "source": [
    "# Logical Operators"
   ]
  },
  {
   "cell_type": "code",
   "execution_count": 43,
   "id": "11007ac1-fc29-4668-9b48-9e8974186a92",
   "metadata": {},
   "outputs": [
    {
     "name": "stdout",
     "output_type": "stream",
     "text": [
      "True\n",
      "False\n"
     ]
    }
   ],
   "source": [
    "a=3.14\n",
    "b=10\n",
    "c=20\n",
    "d=3.14\n",
    "\n",
    "print(a<b and c>d)\n",
    "print(a<b and c<d)"
   ]
  },
  {
   "cell_type": "code",
   "execution_count": 44,
   "id": "559aa0e7-32ea-49ab-bf4f-d7d55db4960d",
   "metadata": {},
   "outputs": [
    {
     "name": "stdout",
     "output_type": "stream",
     "text": [
      "True\n",
      "True\n"
     ]
    }
   ],
   "source": [
    "print(a<b or c>d)\n",
    "print(a<b or c<d)"
   ]
  },
  {
   "cell_type": "markdown",
   "id": "e208e9df-5f0c-4fba-8836-5243f11182cf",
   "metadata": {},
   "source": [
    "# Assignment operators"
   ]
  },
  {
   "cell_type": "code",
   "execution_count": 48,
   "id": "d5acbb41-c286-48e7-9e20-a84c98f1e173",
   "metadata": {},
   "outputs": [
    {
     "data": {
      "text/plain": [
       "15"
      ]
     },
     "execution_count": 48,
     "metadata": {},
     "output_type": "execute_result"
    }
   ],
   "source": [
    "x=10\n",
    "\n",
    "x+=5\n",
    "x"
   ]
  },
  {
   "cell_type": "code",
   "execution_count": 47,
   "id": "b9767f4b-ad59-4f9e-9217-75273b189e7e",
   "metadata": {},
   "outputs": [
    {
     "data": {
      "text/plain": [
       "-5"
      ]
     },
     "execution_count": 47,
     "metadata": {},
     "output_type": "execute_result"
    }
   ],
   "source": [
    "y=5\n",
    "y-=10\n",
    "y"
   ]
  },
  {
   "cell_type": "markdown",
   "id": "074db5f3-8dc6-4182-9727-fd11052d2332",
   "metadata": {},
   "source": [
    "# Membership Operators"
   ]
  },
  {
   "cell_type": "code",
   "execution_count": 52,
   "id": "7c440836-859d-4768-9ab2-f21922157483",
   "metadata": {},
   "outputs": [
    {
     "name": "stdout",
     "output_type": "stream",
     "text": [
      "False\n",
      "True\n"
     ]
    }
   ],
   "source": [
    "x=[\"hello world\",10,20,30,50,40,True,False]\n",
    "\n",
    "print(100 in x)\n",
    "print(False not in x)"
   ]
  },
  {
   "cell_type": "code",
   "execution_count": null,
   "id": "5cf82df3-58ff-46c2-bfad-5459791c01de",
   "metadata": {},
   "outputs": [],
   "source": []
  }
 ],
 "metadata": {
  "kernelspec": {
   "display_name": "Python 3 (ipykernel)",
   "language": "python",
   "name": "python3"
  },
  "language_info": {
   "codemirror_mode": {
    "name": "ipython",
    "version": 3
   },
   "file_extension": ".py",
   "mimetype": "text/x-python",
   "name": "python",
   "nbconvert_exporter": "python",
   "pygments_lexer": "ipython3",
   "version": "3.11.4"
  }
 },
 "nbformat": 4,
 "nbformat_minor": 5
}
