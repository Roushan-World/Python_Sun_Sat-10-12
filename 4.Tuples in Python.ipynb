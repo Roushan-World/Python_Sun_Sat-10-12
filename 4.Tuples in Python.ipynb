{
 "cells": [
  {
   "cell_type": "markdown",
   "id": "031fdef0-959b-45e6-9c84-276c076e20d1",
   "metadata": {},
   "source": [
    "# 4. Tuples in Python\n",
    "\n",
    " * __Tuples are immutable list and cannot be changed in any way once it is created.__\n",
    " * __They are enclosed within parenthesis and not within square braces.__\n",
    " * __Tuples are defined in the same way as lists.__\n",
    " * __Tuples are ordered, indexed collections of data.__\n",
    " * __Similar to string indices, the first value in the tuple will have the index[0], the second value[1].__\n",
    " * __Negative indices are counted from the end of the tuple, just like list.__\n",
    " * __Tuple also has the same structure where commas separate the values.__\n",
    " * __Tuples can store duplicate values.__\n",
    " * __Tuples allow you to store several data items including string, integer, float in one variable.__"
   ]
  },
  {
   "cell_type": "code",
   "execution_count": 1,
   "id": "ab7bc392-c5a1-4f9b-ab15-dde63ca45be2",
   "metadata": {},
   "outputs": [
    {
     "data": {
      "text/plain": [
       "[]"
      ]
     },
     "execution_count": 1,
     "metadata": {},
     "output_type": "execute_result"
    }
   ],
   "source": [
    "x=list()\n",
    "x"
   ]
  },
  {
   "cell_type": "code",
   "execution_count": 2,
   "id": "6549942f-e836-477a-8d2d-cca0ad826bef",
   "metadata": {},
   "outputs": [
    {
     "data": {
      "text/plain": [
       "list"
      ]
     },
     "execution_count": 2,
     "metadata": {},
     "output_type": "execute_result"
    }
   ],
   "source": [
    "type(x)"
   ]
  },
  {
   "cell_type": "code",
   "execution_count": 3,
   "id": "ab6eeafe-c75b-4692-8a98-f49ea988f0a1",
   "metadata": {},
   "outputs": [
    {
     "data": {
      "text/plain": [
       "list"
      ]
     },
     "execution_count": 3,
     "metadata": {},
     "output_type": "execute_result"
    }
   ],
   "source": [
    "x1=[1]\n",
    "type(x1)"
   ]
  },
  {
   "cell_type": "code",
   "execution_count": 4,
   "id": "21efaa8b-b5aa-409d-8049-5d79688446be",
   "metadata": {},
   "outputs": [
    {
     "data": {
      "text/plain": [
       "str"
      ]
     },
     "execution_count": 4,
     "metadata": {},
     "output_type": "execute_result"
    }
   ],
   "source": [
    "tuple1=('Hello')\n",
    "type(tuple1)"
   ]
  },
  {
   "cell_type": "code",
   "execution_count": 5,
   "id": "c7ea529f-1c2d-4bb0-89db-b5744edf2b26",
   "metadata": {},
   "outputs": [
    {
     "data": {
      "text/plain": [
       "['Hello world',\n",
       " 'Python',\n",
       " 3.14,\n",
       " 1.618,\n",
       " True,\n",
       " False,\n",
       " 32,\n",
       " (10, 20),\n",
       " {1, 2, 3},\n",
       " {'a': 'Hello', 2: 'Python'},\n",
       " [40, 50]]"
      ]
     },
     "execution_count": 5,
     "metadata": {},
     "output_type": "execute_result"
    }
   ],
   "source": [
    "x=[\"Hello world\",\"Python\",3.14,1.618,True,False,32,(10,20),{1,2,3},{'a':'Hello',2:'Python'},[40,50]]\n",
    "x"
   ]
  },
  {
   "cell_type": "code",
   "execution_count": 6,
   "id": "d623ecdc-a6bb-4b0b-ba93-a3cf7754853a",
   "metadata": {},
   "outputs": [
    {
     "data": {
      "text/plain": [
       "list"
      ]
     },
     "execution_count": 6,
     "metadata": {},
     "output_type": "execute_result"
    }
   ],
   "source": [
    "type(x)"
   ]
  },
  {
   "cell_type": "code",
   "execution_count": 12,
   "id": "5f35c046-ae88-499c-9685-0e4bce7a080a",
   "metadata": {},
   "outputs": [
    {
     "data": {
      "text/plain": [
       "('Hello world',\n",
       " 'Python',\n",
       " 3.14,\n",
       " 1.618,\n",
       " True,\n",
       " False,\n",
       " 32,\n",
       " (10, 20),\n",
       " {1, 2, 3},\n",
       " {'a': 'Hello', 2: 'Python'},\n",
       " [40, 50])"
      ]
     },
     "execution_count": 12,
     "metadata": {},
     "output_type": "execute_result"
    }
   ],
   "source": [
    "x1=(\"Hello world\",\"Python\",3.14,1.618,True,False,32,(10,20),{1,2,3},{'a':'Hello',2:'Python'},[40,50])\n",
    "x1"
   ]
  },
  {
   "cell_type": "code",
   "execution_count": 13,
   "id": "1aa58770-69eb-4117-8cd9-2b46dead1e0c",
   "metadata": {},
   "outputs": [
    {
     "data": {
      "text/plain": [
       "tuple"
      ]
     },
     "execution_count": 13,
     "metadata": {},
     "output_type": "execute_result"
    }
   ],
   "source": [
    "type(x1)"
   ]
  },
  {
   "cell_type": "code",
   "execution_count": 14,
   "id": "8928fb68-7733-4306-b933-a6f57936fd57",
   "metadata": {},
   "outputs": [
    {
     "name": "stdout",
     "output_type": "stream",
     "text": [
      "<class 'str'>\n"
     ]
    }
   ],
   "source": [
    "print(type(x1[0]))"
   ]
  },
  {
   "cell_type": "code",
   "execution_count": 15,
   "id": "9de3312e-25c9-4b3a-8ddf-a8290bdd9445",
   "metadata": {},
   "outputs": [
    {
     "name": "stdout",
     "output_type": "stream",
     "text": [
      "False\n"
     ]
    }
   ],
   "source": [
    "print(x1[-6])"
   ]
  },
  {
   "cell_type": "code",
   "execution_count": 24,
   "id": "a861a966-37ac-4373-854c-c92fba6f4f02",
   "metadata": {},
   "outputs": [
    {
     "data": {
      "text/plain": [
       "('Sainath', 'Balknath')"
      ]
     },
     "execution_count": 24,
     "metadata": {},
     "output_type": "execute_result"
    }
   ],
   "source": [
    "x2=('Sainath',\"Balknath\")\n",
    "x2"
   ]
  },
  {
   "cell_type": "code",
   "execution_count": 25,
   "id": "44ac8ec3-c909-4724-af39-ae3a8cc05c5d",
   "metadata": {},
   "outputs": [
    {
     "name": "stdout",
     "output_type": "stream",
     "text": [
      "('Hello world', 'Python', 3.14, 1.618, True, False, 32, (10, 20), {1, 2, 3}, {'a': 'Hello', 2: 'Python'}, [40, 50])\n",
      "('Sainath', 'Balknath')\n"
     ]
    }
   ],
   "source": [
    "print(x1)\n",
    "print(x2)"
   ]
  },
  {
   "cell_type": "code",
   "execution_count": 26,
   "id": "af128543-cbd6-4071-9cb6-0bd8ebd78e5e",
   "metadata": {},
   "outputs": [
    {
     "data": {
      "text/plain": [
       "('Hello world',\n",
       " 'Python',\n",
       " 3.14,\n",
       " 1.618,\n",
       " True,\n",
       " False,\n",
       " 32,\n",
       " (10, 20),\n",
       " {1, 2, 3},\n",
       " {'a': 'Hello', 2: 'Python'},\n",
       " [40, 50],\n",
       " 'Sainath',\n",
       " 'Balknath')"
      ]
     },
     "execution_count": 26,
     "metadata": {},
     "output_type": "execute_result"
    }
   ],
   "source": [
    "#concatenation\n",
    "\n",
    "x1+x2"
   ]
  },
  {
   "cell_type": "code",
   "execution_count": 27,
   "id": "76485802-ae4d-4fc0-9ad5-97053d179be2",
   "metadata": {},
   "outputs": [
    {
     "data": {
      "text/plain": [
       "(1, 2, 3, 4)"
      ]
     },
     "execution_count": 27,
     "metadata": {},
     "output_type": "execute_result"
    }
   ],
   "source": [
    "x4=(1,2,3,4)\n",
    "x4"
   ]
  },
  {
   "cell_type": "code",
   "execution_count": 30,
   "id": "26f6a010-12f0-43c9-adf1-b87496f06d89",
   "metadata": {},
   "outputs": [
    {
     "data": {
      "text/plain": [
       "(1, 2, 3, 4, 1, 2, 3, 4, 1, 2, 3, 4)"
      ]
     },
     "execution_count": 30,
     "metadata": {},
     "output_type": "execute_result"
    }
   ],
   "source": [
    "3*x4"
   ]
  },
  {
   "cell_type": "code",
   "execution_count": 31,
   "id": "84d16c81-6060-4705-9ca5-7f24e61daa29",
   "metadata": {},
   "outputs": [
    {
     "data": {
      "text/plain": [
       "(1, 2, 3, 4)"
      ]
     },
     "execution_count": 31,
     "metadata": {},
     "output_type": "execute_result"
    }
   ],
   "source": [
    "x4"
   ]
  },
  {
   "cell_type": "code",
   "execution_count": 32,
   "id": "f320fb04-54fa-430b-9a45-f1aab20f0424",
   "metadata": {},
   "outputs": [
    {
     "data": {
      "text/plain": [
       "('Hello world',\n",
       " 'Python',\n",
       " 3.14,\n",
       " 1.618,\n",
       " True,\n",
       " False,\n",
       " 32,\n",
       " (10, 20),\n",
       " {1, 2, 3},\n",
       " {'a': 'Hello', 2: 'Python'},\n",
       " [40, 50])"
      ]
     },
     "execution_count": 32,
     "metadata": {},
     "output_type": "execute_result"
    }
   ],
   "source": [
    "x1"
   ]
  },
  {
   "cell_type": "code",
   "execution_count": 33,
   "id": "01730506-af8e-4062-994c-4cec243af338",
   "metadata": {},
   "outputs": [
    {
     "data": {
      "text/plain": [
       "(1, 2, 3, 4)"
      ]
     },
     "execution_count": 33,
     "metadata": {},
     "output_type": "execute_result"
    }
   ],
   "source": [
    "x4"
   ]
  },
  {
   "cell_type": "code",
   "execution_count": 34,
   "id": "9ec275c7-1a95-477b-b573-08b1079320d2",
   "metadata": {},
   "outputs": [
    {
     "data": {
      "text/plain": [
       "1"
      ]
     },
     "execution_count": 34,
     "metadata": {},
     "output_type": "execute_result"
    }
   ],
   "source": [
    "min(x4)"
   ]
  },
  {
   "cell_type": "code",
   "execution_count": 35,
   "id": "262505ad-a049-4be7-98a2-ab177cc4ef1f",
   "metadata": {},
   "outputs": [
    {
     "data": {
      "text/plain": [
       "4"
      ]
     },
     "execution_count": 35,
     "metadata": {},
     "output_type": "execute_result"
    }
   ],
   "source": [
    "max(x4)"
   ]
  },
  {
   "cell_type": "code",
   "execution_count": 36,
   "id": "fed96606-7081-403e-9115-b847676d5c6c",
   "metadata": {},
   "outputs": [
    {
     "data": {
      "text/plain": [
       "10"
      ]
     },
     "execution_count": 36,
     "metadata": {},
     "output_type": "execute_result"
    }
   ],
   "source": [
    "sum(x4)"
   ]
  },
  {
   "cell_type": "code",
   "execution_count": 37,
   "id": "ab256468-a64f-440d-9a84-42ad5782bc78",
   "metadata": {},
   "outputs": [
    {
     "data": {
      "text/plain": [
       "4"
      ]
     },
     "execution_count": 37,
     "metadata": {},
     "output_type": "execute_result"
    }
   ],
   "source": [
    "len(x4)"
   ]
  },
  {
   "cell_type": "markdown",
   "id": "304a6063-51a1-463b-884e-b82eabe1a48f",
   "metadata": {},
   "source": [
    "# tup(seq) function\n",
    "\n",
    " * __It converts a specific sequence to a tuple__"
   ]
  },
  {
   "cell_type": "code",
   "execution_count": 38,
   "id": "a03f4349-f455-49ba-b1cd-c3c72c238b5a",
   "metadata": {},
   "outputs": [
    {
     "data": {
      "text/plain": [
       "str"
      ]
     },
     "execution_count": 38,
     "metadata": {},
     "output_type": "execute_result"
    }
   ],
   "source": [
    "seq='abcdefghijklmnopqrstuvwxyz'\n",
    "type(seq)"
   ]
  },
  {
   "cell_type": "code",
   "execution_count": 40,
   "id": "4560e9c2-32ff-4cf0-93df-4698512d8725",
   "metadata": {},
   "outputs": [
    {
     "name": "stdout",
     "output_type": "stream",
     "text": [
      "('a', 'b', 'c', 'd', 'e', 'f', 'g', 'h', 'i', 'j', 'k', 'l', 'm', 'n', 'o', 'p', 'q', 'r', 's', 't', 'u', 'v', 'w', 'x', 'y', 'z')\n"
     ]
    }
   ],
   "source": [
    "print(tuple(seq))"
   ]
  },
  {
   "cell_type": "code",
   "execution_count": 41,
   "id": "08d256f0-a5f9-403c-ba0d-e4e3bd722574",
   "metadata": {},
   "outputs": [
    {
     "data": {
      "text/plain": [
       "('Hello world',\n",
       " 'Python',\n",
       " 3.14,\n",
       " 1.618,\n",
       " True,\n",
       " False,\n",
       " 32,\n",
       " (10, 20),\n",
       " {1, 2, 3},\n",
       " {'a': 'Hello', 2: 'Python'},\n",
       " [40, 50])"
      ]
     },
     "execution_count": 41,
     "metadata": {},
     "output_type": "execute_result"
    }
   ],
   "source": [
    "x1"
   ]
  },
  {
   "cell_type": "markdown",
   "id": "281888c9-9cdb-4d22-b4b4-7f9ad0c236d7",
   "metadata": {},
   "source": [
    "# slicing in tuple"
   ]
  },
  {
   "cell_type": "code",
   "execution_count": 42,
   "id": "a6deca9d-08f2-4caf-a71b-5f859fe61166",
   "metadata": {},
   "outputs": [
    {
     "data": {
      "text/plain": [
       "('Hello world', 'Python', 3.14, 1.618, True, False)"
      ]
     },
     "execution_count": 42,
     "metadata": {},
     "output_type": "execute_result"
    }
   ],
   "source": [
    "x1[0:6]"
   ]
  },
  {
   "cell_type": "code",
   "execution_count": 43,
   "id": "510fabd0-deaf-4582-89ec-7c43394911c0",
   "metadata": {},
   "outputs": [
    {
     "data": {
      "text/plain": [
       "('Hello world',\n",
       " 'Python',\n",
       " 3.14,\n",
       " 1.618,\n",
       " True,\n",
       " False,\n",
       " 32,\n",
       " (10, 20),\n",
       " {1, 2, 3},\n",
       " {'a': 'Hello', 2: 'Python'},\n",
       " [40, 50])"
      ]
     },
     "execution_count": 43,
     "metadata": {},
     "output_type": "execute_result"
    }
   ],
   "source": [
    "x1"
   ]
  },
  {
   "cell_type": "code",
   "execution_count": 45,
   "id": "a6a10a58-a513-41f6-b0a9-c8b6979acd2e",
   "metadata": {},
   "outputs": [
    {
     "data": {
      "text/plain": [
       "(32, (10, 20), {1, 2, 3}, {'a': 'Hello', 2: 'Python'}, [40, 50])"
      ]
     },
     "execution_count": 45,
     "metadata": {},
     "output_type": "execute_result"
    }
   ],
   "source": [
    "x1[-5:]"
   ]
  },
  {
   "cell_type": "code",
   "execution_count": 48,
   "id": "f258f3cd-b1f7-42f1-8414-facde28cf58f",
   "metadata": {},
   "outputs": [
    {
     "data": {
      "text/plain": [
       "('Hello world',\n",
       " 'Python',\n",
       " 3.14,\n",
       " 1.618,\n",
       " True,\n",
       " False,\n",
       " 32,\n",
       " (10, 20),\n",
       " {1, 2, 3},\n",
       " {'a': 'Hello', 2: 'Python'},\n",
       " [40, 50])"
      ]
     },
     "execution_count": 48,
     "metadata": {},
     "output_type": "execute_result"
    }
   ],
   "source": [
    "x1[-11:]"
   ]
  },
  {
   "cell_type": "code",
   "execution_count": null,
   "id": "3a710dc0-6d9e-414a-9de6-3e9948c60ffb",
   "metadata": {},
   "outputs": [],
   "source": []
  },
  {
   "cell_type": "code",
   "execution_count": 55,
   "id": "f6d17bd8-2f0a-49cc-93ed-e332b790f8ef",
   "metadata": {},
   "outputs": [
    {
     "data": {
      "text/plain": [
       "'ijalaB'"
      ]
     },
     "execution_count": 55,
     "metadata": {},
     "output_type": "execute_result"
    }
   ],
   "source": [
    "x='Balaji'\n",
    "x[::-1]"
   ]
  },
  {
   "cell_type": "code",
   "execution_count": 56,
   "id": "eb3b44a9-e509-4d34-a1e8-fb02c81bb1a5",
   "metadata": {},
   "outputs": [
    {
     "data": {
      "text/plain": [
       "(10, 15, 12, 36, 98, 75, 41, 23, 20, 10)"
      ]
     },
     "execution_count": 56,
     "metadata": {},
     "output_type": "execute_result"
    }
   ],
   "source": [
    "tuple_3=(10,15,12,36,98,75,41,23,20,10)\n",
    "tuple_3"
   ]
  },
  {
   "cell_type": "code",
   "execution_count": 57,
   "id": "9d3085f1-a511-410a-9817-5d1d3ee95632",
   "metadata": {},
   "outputs": [],
   "source": [
    "# Ascending order\n",
    "x5=sorted(tuple_3)"
   ]
  },
  {
   "cell_type": "code",
   "execution_count": 58,
   "id": "6bf67730-551e-47e6-b8f2-2043eeceae12",
   "metadata": {},
   "outputs": [
    {
     "data": {
      "text/plain": [
       "[10, 10, 12, 15, 20, 23, 36, 41, 75, 98]"
      ]
     },
     "execution_count": 58,
     "metadata": {},
     "output_type": "execute_result"
    }
   ],
   "source": [
    "x5"
   ]
  },
  {
   "cell_type": "code",
   "execution_count": 61,
   "id": "fb5ba262-f742-48d6-b1d7-afb918927bb0",
   "metadata": {},
   "outputs": [
    {
     "data": {
      "text/plain": [
       "[98, 75, 41, 36, 23, 20, 15, 12, 10, 10]"
      ]
     },
     "execution_count": 61,
     "metadata": {},
     "output_type": "execute_result"
    }
   ],
   "source": [
    "x4=sorted(tuple_3,reverse=True)\n",
    "x4"
   ]
  },
  {
   "cell_type": "code",
   "execution_count": 66,
   "id": "e5df2e90-283b-4617-9a03-6bf24f467555",
   "metadata": {},
   "outputs": [
    {
     "data": {
      "text/plain": [
       "(0, 1, 2, 3)"
      ]
     },
     "execution_count": 66,
     "metadata": {},
     "output_type": "execute_result"
    }
   ],
   "source": [
    "tuple_4=(0,1,2,3)\n",
    "tuple_4"
   ]
  },
  {
   "cell_type": "code",
   "execution_count": 67,
   "id": "30b2db78-f9c2-416a-b382-b68f5786c160",
   "metadata": {},
   "outputs": [
    {
     "ename": "TypeError",
     "evalue": "'tuple' object does not support item assignment",
     "output_type": "error",
     "traceback": [
      "\u001b[1;31m---------------------------------------------------------------------------\u001b[0m",
      "\u001b[1;31mTypeError\u001b[0m                                 Traceback (most recent call last)",
      "Cell \u001b[1;32mIn[67], line 1\u001b[0m\n\u001b[1;32m----> 1\u001b[0m \u001b[43mtuple_4\u001b[49m\u001b[43m[\u001b[49m\u001b[38;5;241;43m0\u001b[39;49m\u001b[43m]\u001b[49m\u001b[38;5;241m=\u001b[39m\u001b[38;5;241m100\u001b[39m\n\u001b[0;32m      2\u001b[0m tuple_4\n",
      "\u001b[1;31mTypeError\u001b[0m: 'tuple' object does not support item assignment"
     ]
    }
   ],
   "source": [
    "tuple_4[0]=100\n",
    "tuple_4"
   ]
  },
  {
   "cell_type": "code",
   "execution_count": 69,
   "id": "2e1d4679-128b-4084-bf62-2099fd71a2e6",
   "metadata": {},
   "outputs": [
    {
     "ename": "TypeError",
     "evalue": "'tuple' object doesn't support item deletion",
     "output_type": "error",
     "traceback": [
      "\u001b[1;31m---------------------------------------------------------------------------\u001b[0m",
      "\u001b[1;31mTypeError\u001b[0m                                 Traceback (most recent call last)",
      "Cell \u001b[1;32mIn[69], line 4\u001b[0m\n\u001b[0;32m      1\u001b[0m \u001b[38;5;66;03m# Delete an element\u001b[39;00m\n\u001b[0;32m      3\u001b[0m tuple_4\n\u001b[1;32m----> 4\u001b[0m \u001b[38;5;28;01mdel\u001b[39;00m(\u001b[43mtuple_4\u001b[49m\u001b[43m[\u001b[49m\u001b[38;5;241;43m0\u001b[39;49m\u001b[43m]\u001b[49m)\n",
      "\u001b[1;31mTypeError\u001b[0m: 'tuple' object doesn't support item deletion"
     ]
    }
   ],
   "source": [
    "# Delete an element\n",
    "\n",
    "tuple_4\n",
    "del(tuple_4[0])"
   ]
  },
  {
   "cell_type": "code",
   "execution_count": 71,
   "id": "08a798bc-d8d1-4d2f-b393-ac2bb9926ac6",
   "metadata": {},
   "outputs": [],
   "source": [
    "del (tuple_4)"
   ]
  },
  {
   "cell_type": "code",
   "execution_count": 72,
   "id": "da81b222-211f-4c81-8fef-1546eb2017a6",
   "metadata": {},
   "outputs": [
    {
     "ename": "NameError",
     "evalue": "name 'tuple_4' is not defined",
     "output_type": "error",
     "traceback": [
      "\u001b[1;31m---------------------------------------------------------------------------\u001b[0m",
      "\u001b[1;31mNameError\u001b[0m                                 Traceback (most recent call last)",
      "Cell \u001b[1;32mIn[72], line 1\u001b[0m\n\u001b[1;32m----> 1\u001b[0m \u001b[43mtuple_4\u001b[49m\n",
      "\u001b[1;31mNameError\u001b[0m: name 'tuple_4' is not defined"
     ]
    }
   ],
   "source": [
    "tuple_4"
   ]
  },
  {
   "cell_type": "markdown",
   "id": "c29c439c-4ab7-4a4b-87b4-7910d62d024b",
   "metadata": {},
   "source": [
    "# count() method"
   ]
  },
  {
   "cell_type": "code",
   "execution_count": 76,
   "id": "e20e9837-5616-4f40-b70b-52e3f540bf9b",
   "metadata": {},
   "outputs": [
    {
     "data": {
      "text/plain": [
       "(4, 5, 6, 7, 8, 9, 1, 1, 1, 2, 5, 8, 8, 8, 5)"
      ]
     },
     "execution_count": 76,
     "metadata": {},
     "output_type": "execute_result"
    }
   ],
   "source": [
    "tuple_5=(4,5,6,7,8,9,1,1,1,2,5,8,8,8,5)\n",
    "tuple_5"
   ]
  },
  {
   "cell_type": "code",
   "execution_count": 77,
   "id": "354513d4-ed9f-4467-9ca8-654f20a8f9b1",
   "metadata": {},
   "outputs": [
    {
     "data": {
      "text/plain": [
       "3"
      ]
     },
     "execution_count": 77,
     "metadata": {},
     "output_type": "execute_result"
    }
   ],
   "source": [
    "tuple_5.count(1)"
   ]
  },
  {
   "cell_type": "code",
   "execution_count": 78,
   "id": "287722d3-e78d-41bc-baa2-d18fc4b6dfbf",
   "metadata": {},
   "outputs": [
    {
     "data": {
      "text/plain": [
       "3"
      ]
     },
     "execution_count": 78,
     "metadata": {},
     "output_type": "execute_result"
    }
   ],
   "source": [
    "tuple_5.count(5)"
   ]
  },
  {
   "cell_type": "markdown",
   "id": "3e7ea999-db28-4e3f-9462-a6cfa807505a",
   "metadata": {},
   "source": [
    "# index() method\n",
    "\n"
   ]
  },
  {
   "cell_type": "code",
   "execution_count": 80,
   "id": "edddeee6-6d3c-455d-bba9-50da63ca58c3",
   "metadata": {},
   "outputs": [
    {
     "data": {
      "text/plain": [
       "3"
      ]
     },
     "execution_count": 80,
     "metadata": {},
     "output_type": "execute_result"
    }
   ],
   "source": [
    "tuple_5.index(7)"
   ]
  },
  {
   "cell_type": "code",
   "execution_count": 81,
   "id": "3ec16096-bf3e-4cd4-a1d6-287c207098b2",
   "metadata": {},
   "outputs": [
    {
     "ename": "AttributeError",
     "evalue": "'tuple' object has no attribute 'find'",
     "output_type": "error",
     "traceback": [
      "\u001b[1;31m---------------------------------------------------------------------------\u001b[0m",
      "\u001b[1;31mAttributeError\u001b[0m                            Traceback (most recent call last)",
      "Cell \u001b[1;32mIn[81], line 1\u001b[0m\n\u001b[1;32m----> 1\u001b[0m \u001b[43mtuple_5\u001b[49m\u001b[38;5;241;43m.\u001b[39;49m\u001b[43mfind\u001b[49m(\u001b[38;5;241m1\u001b[39m)\n",
      "\u001b[1;31mAttributeError\u001b[0m: 'tuple' object has no attribute 'find'"
     ]
    }
   ],
   "source": [
    "tuple_5.find(1)"
   ]
  },
  {
   "cell_type": "code",
   "execution_count": null,
   "id": "024e8f2f-af5c-46fe-8923-ba50c5c16f08",
   "metadata": {},
   "outputs": [],
   "source": []
  }
 ],
 "metadata": {
  "kernelspec": {
   "display_name": "Python 3 (ipykernel)",
   "language": "python",
   "name": "python3"
  },
  "language_info": {
   "codemirror_mode": {
    "name": "ipython",
    "version": 3
   },
   "file_extension": ".py",
   "mimetype": "text/x-python",
   "name": "python",
   "nbconvert_exporter": "python",
   "pygments_lexer": "ipython3",
   "version": "3.11.4"
  }
 },
 "nbformat": 4,
 "nbformat_minor": 5
}
