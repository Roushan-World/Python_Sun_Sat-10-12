{
 "cells": [
  {
   "cell_type": "markdown",
   "id": "a4b7b784-6e51-48c1-976c-90912c947573",
   "metadata": {},
   "source": [
    "# 5. Sets in Python\n",
    "\n",
    " * __Set is one of the 4 built-in data types in Python used to store collections of data including List, Tuple and Dictionary.__\n",
    " * __Sets are unordered, but you can remove items and add new items.__\n",
    " * __Set element are unique, Duplicate elements are not allowed.__\n",
    " * __A set itself may be modified, but the elements contained in the set must be of an immutable type.__\n",
    " * __Set are used to store multiple items in a single variable.__\n",
    " * __You can denote a set with a pair of curly brackets {}.__"
   ]
  },
  {
   "cell_type": "code",
   "execution_count": 7,
   "id": "513c2022-b099-4110-8cca-5549234ab1a7",
   "metadata": {},
   "outputs": [
    {
     "name": "stdout",
     "output_type": "stream",
     "text": [
      "{1: 1}\n"
     ]
    }
   ],
   "source": [
    "a={1:1}\n",
    "print(a)"
   ]
  },
  {
   "cell_type": "code",
   "execution_count": 8,
   "id": "262132e2-4996-4fd7-b1a2-424c7258429d",
   "metadata": {},
   "outputs": [
    {
     "data": {
      "text/plain": [
       "dict"
      ]
     },
     "execution_count": 8,
     "metadata": {},
     "output_type": "execute_result"
    }
   ],
   "source": [
    "type(a)"
   ]
  },
  {
   "cell_type": "code",
   "execution_count": 9,
   "id": "257da6b0-1a49-4060-ba17-750ea1561af7",
   "metadata": {},
   "outputs": [
    {
     "data": {
      "text/plain": [
       "dict"
      ]
     },
     "execution_count": 9,
     "metadata": {},
     "output_type": "execute_result"
    }
   ],
   "source": [
    "b={}\n",
    "type(b)"
   ]
  },
  {
   "cell_type": "code",
   "execution_count": 10,
   "id": "e5d17fbd-b847-4d3e-ade6-41117bfd9341",
   "metadata": {},
   "outputs": [
    {
     "data": {
      "text/plain": [
       "set()"
      ]
     },
     "execution_count": 10,
     "metadata": {},
     "output_type": "execute_result"
    }
   ],
   "source": [
    "a1=set()\n",
    "a1"
   ]
  },
  {
   "cell_type": "code",
   "execution_count": 11,
   "id": "60289d89-23e7-4db0-b997-40bd34564410",
   "metadata": {},
   "outputs": [
    {
     "data": {
      "text/plain": [
       "set"
      ]
     },
     "execution_count": 11,
     "metadata": {},
     "output_type": "execute_result"
    }
   ],
   "source": [
    "type(a1)"
   ]
  },
  {
   "cell_type": "code",
   "execution_count": 15,
   "id": "c26105fe-4fab-42ea-95a6-0da0a06efd77",
   "metadata": {},
   "outputs": [
    {
     "data": {
      "text/plain": [
       "['Hello World', 3.14, 1.618, 'Hello World', 3.14, 1.618, True, False, 2023]"
      ]
     },
     "execution_count": 15,
     "metadata": {},
     "output_type": "execute_result"
    }
   ],
   "source": [
    "list1=['Hello World',3.14,1.618,'Hello World',3.14,1.618,True,False,2023]\n",
    "list1"
   ]
  },
  {
   "cell_type": "code",
   "execution_count": 16,
   "id": "e19b0918-465e-473b-9abb-428c11dfe172",
   "metadata": {},
   "outputs": [
    {
     "data": {
      "text/plain": [
       "{1.618, 2023, 3.14, False, 'Hello World', True}"
      ]
     },
     "execution_count": 16,
     "metadata": {},
     "output_type": "execute_result"
    }
   ],
   "source": [
    "set1=set(list1)\n",
    "set1"
   ]
  },
  {
   "cell_type": "markdown",
   "id": "82129725-8158-4c1f-9eae-b3b7054d4ad6",
   "metadata": {},
   "source": [
    "# Adding an element"
   ]
  },
  {
   "cell_type": "code",
   "execution_count": 21,
   "id": "c67700f1-66a1-4cb5-987b-0e5c022c916a",
   "metadata": {},
   "outputs": [
    {
     "data": {
      "text/plain": [
       "{1.618, 2023, 3.14, 'Balaji', False, 'Hello World', True}"
      ]
     },
     "execution_count": 21,
     "metadata": {},
     "output_type": "execute_result"
    }
   ],
   "source": [
    "# Add\n",
    "\n",
    "set2=set(['Hello World', 3.14, 1.618, 'Hello World', 3.14, 1.618, True, False, 2023])\n",
    "set2.add('Balaji')\n",
    "set2.add('Balaji')\n",
    "set2"
   ]
  },
  {
   "cell_type": "code",
   "execution_count": 22,
   "id": "daad6b53-b72d-4a91-b8c0-aeee4f4c4be8",
   "metadata": {},
   "outputs": [
    {
     "data": {
      "text/plain": [
       "{1.618, 2023, 3.14, 4, 5, 6, 7, 8, 9, 'Balaji', False, 'Hello World', True}"
      ]
     },
     "execution_count": 22,
     "metadata": {},
     "output_type": "execute_result"
    }
   ],
   "source": [
    "# update\n",
    "set3={4,5,6,7,8,9,\"Balaji\"}\n",
    "set2.update(set3)\n",
    "set2"
   ]
  },
  {
   "cell_type": "code",
   "execution_count": 25,
   "id": "20c2dcce-6789-459b-942b-88c5b694b0c7",
   "metadata": {},
   "outputs": [
    {
     "ename": "KeyError",
     "evalue": "3.14",
     "output_type": "error",
     "traceback": [
      "\u001b[1;31m---------------------------------------------------------------------------\u001b[0m",
      "\u001b[1;31mKeyError\u001b[0m                                  Traceback (most recent call last)",
      "Cell \u001b[1;32mIn[25], line 3\u001b[0m\n\u001b[0;32m      1\u001b[0m \u001b[38;5;66;03m# remove\u001b[39;00m\n\u001b[1;32m----> 3\u001b[0m \u001b[43mset2\u001b[49m\u001b[38;5;241;43m.\u001b[39;49m\u001b[43mremove\u001b[49m\u001b[43m(\u001b[49m\u001b[38;5;241;43m3.14\u001b[39;49m\u001b[43m)\u001b[49m\n\u001b[0;32m      4\u001b[0m set2\n",
      "\u001b[1;31mKeyError\u001b[0m: 3.14"
     ]
    }
   ],
   "source": [
    "# remove\n",
    "\n",
    "set2.remove(3.14)\n",
    "set2"
   ]
  },
  {
   "cell_type": "code",
   "execution_count": 29,
   "id": "50e6bce6-835e-4b2c-b108-711122d6a295",
   "metadata": {},
   "outputs": [
    {
     "data": {
      "text/plain": [
       "{1.618, 2023, 4, 5, 6, 7, 8, 9, 'Balaji', 'Hello World', True}"
      ]
     },
     "execution_count": 29,
     "metadata": {},
     "output_type": "execute_result"
    }
   ],
   "source": [
    "set2.discard(False)\n",
    "set2"
   ]
  },
  {
   "cell_type": "markdown",
   "id": "3aeae265-44f9-4885-8466-afe4865e90d6",
   "metadata": {},
   "source": [
    "# Logic Operations in Sets"
   ]
  },
  {
   "cell_type": "code",
   "execution_count": 32,
   "id": "9c302405-b1cc-4d77-bfbe-193e4fce0972",
   "metadata": {},
   "outputs": [
    {
     "name": "stdout",
     "output_type": "stream",
     "text": [
      "{False, 1.618, True, 3.14, 'Hello World', 20, 30} {False, True, 3.14, 'Hello World', 20, 'Hello Python'}\n",
      "{False, 1.618, True, 3.14, 'Hello World', 20, 'Hello Python', 30}\n"
     ]
    }
   ],
   "source": [
    "a={\"Hello World\",3.14,1.618,20,30,True,False}\n",
    "b={\"Hello World\",\"Hello Python\",3.14,True,False,20}\n",
    "\n",
    "# union\n",
    "\n",
    "print(a,b)\n",
    "#print(b)\n",
    "\n",
    "# union\n",
    "print(a.union(b))"
   ]
  },
  {
   "cell_type": "code",
   "execution_count": 34,
   "id": "d4bd2940-935b-402a-ab2b-e4dad9147e3e",
   "metadata": {},
   "outputs": [
    {
     "name": "stdout",
     "output_type": "stream",
     "text": [
      "{False, 1.618, True, 3.14, 'Hello World', 20, 30} {False, True, 3.14, 'Hello World', 20, 'Hello Python'}\n",
      "{False, True, 3.14, 'Hello World', 20}\n"
     ]
    }
   ],
   "source": [
    "# intersection\n",
    "\n",
    "print(a,b)\n",
    "\n",
    "print(a.intersection(b))"
   ]
  },
  {
   "cell_type": "code",
   "execution_count": 37,
   "id": "812d96b8-1d36-4a99-b260-b00d72ddeef0",
   "metadata": {},
   "outputs": [
    {
     "name": "stdout",
     "output_type": "stream",
     "text": [
      "{False, 1.618, True, 3.14, 'Hello World', 20, 30} {False, True, 3.14, 'Hello World', 20, 'Hello Python'}\n",
      "{1.618, 30}\n",
      "{'Hello Python'}\n"
     ]
    }
   ],
   "source": [
    "# Difference\n",
    "\n",
    "print(a,b)\n",
    "print(a.difference(b))  # A-B\n",
    "print(b.difference(a))  # B-A"
   ]
  },
  {
   "cell_type": "code",
   "execution_count": 39,
   "id": "a3f88701-d3b0-4b66-9f25-2d4808fe7636",
   "metadata": {},
   "outputs": [
    {
     "name": "stdout",
     "output_type": "stream",
     "text": [
      "{1.618, 30}\n",
      "{'Hello Python'}\n"
     ]
    }
   ],
   "source": [
    "# other method\n",
    "\n",
    "print(a-b)\n",
    "print(b-a)"
   ]
  },
  {
   "cell_type": "code",
   "execution_count": 41,
   "id": "77ececb0-a449-43d4-8877-fbe81c5ef759",
   "metadata": {},
   "outputs": [
    {
     "name": "stdout",
     "output_type": "stream",
     "text": [
      "{False, 1.618, True, 3.14, 'Hello World', 20, 30} {False, True, 3.14, 'Hello World', 20, 'Hello Python'}\n",
      "{1.618, 'Hello Python', 30}\n"
     ]
    }
   ],
   "source": [
    "# Symmetric difference\n",
    "\n",
    "print(a,b)\n",
    "\n",
    "print(a.symmetric_difference(b))"
   ]
  },
  {
   "cell_type": "markdown",
   "id": "6a73adb5-680e-4856-85d6-a26195c9b327",
   "metadata": {},
   "source": [
    "# aggrigate function\n",
    "\n",
    " * (sum, max,min)"
   ]
  },
  {
   "cell_type": "code",
   "execution_count": 6,
   "id": "79e2b43f-e093-41ef-85a8-0bf6a5f645ed",
   "metadata": {},
   "outputs": [
    {
     "name": "stdout",
     "output_type": "stream",
     "text": [
      "The minimum number of a is: 10\n",
      "The minimum number of b is: 10\n",
      "The maximum number of a is: 60\n",
      "The maximum number of b is: 60\n",
      "The sum of a is: 330\n",
      "The sum of b is: 210\n"
     ]
    }
   ],
   "source": [
    "a=[10,20,30,30,30,10,20,20,50,40,60,10]\n",
    "b={10,20,30,30,30,10,20,20,50,40,60,10}\n",
    "\n",
    "\n",
    "\n",
    "print(\"The minimum number of a is:\",min(a))\n",
    "print(\"The minimum number of b is:\",min(b))\n",
    "print(\"The maximum number of a is:\",max(a))\n",
    "print(\"The maximum number of b is:\",max(b))\n",
    "print(\"The sum of a is:\",sum(a))\n",
    "print(\"The sum of b is:\",sum(b))"
   ]
  },
  {
   "cell_type": "code",
   "execution_count": 12,
   "id": "4b0d2b62-2829-4815-845d-ed8cc215d998",
   "metadata": {},
   "outputs": [
    {
     "ename": "TypeError",
     "evalue": "unhashable type: 'list'",
     "output_type": "error",
     "traceback": [
      "\u001b[1;31m---------------------------------------------------------------------------\u001b[0m",
      "\u001b[1;31mTypeError\u001b[0m                                 Traceback (most recent call last)",
      "Cell \u001b[1;32mIn[12], line 1\u001b[0m\n\u001b[1;32m----> 1\u001b[0m set6\u001b[38;5;241m=\u001b[39m{\u001b[38;5;124m\"\u001b[39m\u001b[38;5;124mPython\u001b[39m\u001b[38;5;124m\"\u001b[39m,\u001b[38;5;241m1\u001b[39m,\u001b[38;5;241m2\u001b[39m,\u001b[38;5;241m3\u001b[39m,[\u001b[38;5;241m10\u001b[39m,\u001b[38;5;241m20\u001b[39m]}\n\u001b[0;32m      2\u001b[0m set6\n",
      "\u001b[1;31mTypeError\u001b[0m: unhashable type: 'list'"
     ]
    }
   ],
   "source": [
    "set6={\"Python\",1,2,3,[10,20]}\n",
    "set6"
   ]
  },
  {
   "cell_type": "code",
   "execution_count": 15,
   "id": "f6e6cd20-18fb-47d4-8592-066b17e83cab",
   "metadata": {},
   "outputs": [
    {
     "ename": "TypeError",
     "evalue": "'set' object is not subscriptable",
     "output_type": "error",
     "traceback": [
      "\u001b[1;31m---------------------------------------------------------------------------\u001b[0m",
      "\u001b[1;31mTypeError\u001b[0m                                 Traceback (most recent call last)",
      "Cell \u001b[1;32mIn[15], line 2\u001b[0m\n\u001b[0;32m      1\u001b[0m set7\u001b[38;5;241m=\u001b[39m{\u001b[38;5;241m10\u001b[39m,\u001b[38;5;241m20\u001b[39m,\u001b[38;5;241m30\u001b[39m,\u001b[38;5;241m100\u001b[39m}\n\u001b[1;32m----> 2\u001b[0m \u001b[43mset7\u001b[49m\u001b[43m[\u001b[49m\u001b[38;5;241;43m0\u001b[39;49m\u001b[43m]\u001b[49m\n",
      "\u001b[1;31mTypeError\u001b[0m: 'set' object is not subscriptable"
     ]
    }
   ],
   "source": [
    "set7={10,20,30,100}\n",
    "set7[0]"
   ]
  },
  {
   "cell_type": "code",
   "execution_count": 16,
   "id": "79f41973-3977-487b-9012-e0071a28db66",
   "metadata": {},
   "outputs": [
    {
     "data": {
      "text/plain": [
       "{0, 1, 2, 3, 4, 5, 6, 7, 8, 9}"
      ]
     },
     "execution_count": 16,
     "metadata": {},
     "output_type": "execute_result"
    }
   ],
   "source": [
    "# pop()\n",
    "\n",
    "x={0,1,2,3,4,5,6,7,8,9}\n",
    "x"
   ]
  },
  {
   "cell_type": "code",
   "execution_count": 20,
   "id": "f09a1d52-b252-4f48-a69f-0d2670094eae",
   "metadata": {},
   "outputs": [
    {
     "data": {
      "text/plain": [
       "{4, 5, 6, 7, 8, 9}"
      ]
     },
     "execution_count": 20,
     "metadata": {},
     "output_type": "execute_result"
    }
   ],
   "source": [
    "x.pop()\n",
    "x"
   ]
  },
  {
   "cell_type": "code",
   "execution_count": null,
   "id": "242c91c0-1204-49e7-a72e-56754bd5b048",
   "metadata": {},
   "outputs": [],
   "source": []
  }
 ],
 "metadata": {
  "kernelspec": {
   "display_name": "Python 3 (ipykernel)",
   "language": "python",
   "name": "python3"
  },
  "language_info": {
   "codemirror_mode": {
    "name": "ipython",
    "version": 3
   },
   "file_extension": ".py",
   "mimetype": "text/x-python",
   "name": "python",
   "nbconvert_exporter": "python",
   "pygments_lexer": "ipython3",
   "version": "3.11.4"
  }
 },
 "nbformat": 4,
 "nbformat_minor": 5
}
