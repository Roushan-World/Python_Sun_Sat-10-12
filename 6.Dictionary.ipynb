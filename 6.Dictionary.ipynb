{
 "cells": [
  {
   "cell_type": "markdown",
   "id": "312b52f8-642c-4f72-a82f-dc8d89c7fb17",
   "metadata": {},
   "source": [
    "# 6. Dictionaries in Python\n",
    "\n",
    " * __Dictionaries are used to store data values in Key:value pairs.__\n",
    " * __A Dictionary is a collection which is ordered, changeable or mutable and do not allow duplicate.__\n",
    " * __Dictionary items are presented in key:value pairs, and can be referred to by using the key name.__\n",
    " * __Dictionaries are changeable, meaning that we can change, add or remove items after the dictionary has been created.__\n",
    " * __Dictionaries can not have two items with the same key.__\n",
    " * __A dictionary can nested and can contains another ditionary.__\n",
    "\n",
    "\n",
    "   * __name__:__Balaji__\n",
    "   * __age__:__25__\n",
    "   * __email__:__balaji25@gmail.com__\n",
    "   * __city__:__Pune__"
   ]
  },
  {
   "cell_type": "code",
   "execution_count": 4,
   "id": "aba4d6c1-4a64-47df-b01e-7fe761969229",
   "metadata": {},
   "outputs": [
    {
     "data": {
      "text/plain": [
       "{'name': 'Balaji', 'age': 45, 'city': 'Pune', 'address': 'Kharadi'}"
      ]
     },
     "execution_count": 4,
     "metadata": {},
     "output_type": "execute_result"
    }
   ],
   "source": [
    "sample_dict={\n",
    "    'name':'Balaji',\n",
    "    'age':45,\n",
    "    'city':'Pune',\n",
    "    'address':'Kharadi'\n",
    "}\n",
    "sample_dict"
   ]
  },
  {
   "cell_type": "code",
   "execution_count": 6,
   "id": "9dd70fc0-a745-445e-a520-b60887e45099",
   "metadata": {},
   "outputs": [
    {
     "data": {
      "text/plain": [
       "dict_keys(['name', 'age', 'city', 'address'])"
      ]
     },
     "execution_count": 6,
     "metadata": {},
     "output_type": "execute_result"
    }
   ],
   "source": [
    "sample_dict.keys()"
   ]
  },
  {
   "cell_type": "code",
   "execution_count": 7,
   "id": "f6ab392a-3848-4ac8-bb49-099a138929c0",
   "metadata": {},
   "outputs": [
    {
     "data": {
      "text/plain": [
       "dict_values(['Balaji', 45, 'Pune', 'Kharadi'])"
      ]
     },
     "execution_count": 7,
     "metadata": {},
     "output_type": "execute_result"
    }
   ],
   "source": [
    "sample_dict.values()"
   ]
  },
  {
   "cell_type": "code",
   "execution_count": 20,
   "id": "aa5d5efe-da9e-4bb2-a8a7-590499ac9a18",
   "metadata": {},
   "outputs": [
    {
     "name": "stdout",
     "output_type": "stream",
     "text": [
      "Balaji\n",
      "45\n",
      "Pune\n",
      "7894561230\n"
     ]
    }
   ],
   "source": [
    "print(sample_dict[\"name\"])\n",
    "print(sample_dict['age'])\n",
    "print(sample_dict['city'])\n",
    "print(sample_dict['Phone'])"
   ]
  },
  {
   "cell_type": "code",
   "execution_count": 14,
   "id": "9da64b64-84a1-4e5b-9fcc-e72ab82cba19",
   "metadata": {},
   "outputs": [
    {
     "data": {
      "text/plain": [
       "{'name': 'Balaji', 'age': 45, 'city': 'Pune', 'address': 'Kharadi'}"
      ]
     },
     "execution_count": 14,
     "metadata": {},
     "output_type": "execute_result"
    }
   ],
   "source": [
    "sample_dict"
   ]
  },
  {
   "cell_type": "code",
   "execution_count": 18,
   "id": "d68e5ff0-d6f6-4a61-8d46-16a6ef1f45a8",
   "metadata": {},
   "outputs": [
    {
     "data": {
      "text/plain": [
       "{'name': 'Balaji',\n",
       " 'age': 45,\n",
       " 'city': 'Pune',\n",
       " 'address': 'Kharadi',\n",
       " 'Phone': 7894561230}"
      ]
     },
     "execution_count": 18,
     "metadata": {},
     "output_type": "execute_result"
    }
   ],
   "source": [
    "sample_dict['Phone']=7894561230\n",
    "sample_dict"
   ]
  },
  {
   "cell_type": "code",
   "execution_count": 21,
   "id": "19f58c9e-da78-42fd-8eb7-dbd6d4cd687c",
   "metadata": {},
   "outputs": [
    {
     "data": {
      "text/plain": [
       "{'name': 'Mukul',\n",
       " 'age': 45,\n",
       " 'city': 'Pune',\n",
       " 'address': 'Kharadi',\n",
       " 'Phone': 7894561230}"
      ]
     },
     "execution_count": 21,
     "metadata": {},
     "output_type": "execute_result"
    }
   ],
   "source": [
    "sample_dict['name']='Mukul'\n",
    "sample_dict"
   ]
  },
  {
   "cell_type": "code",
   "execution_count": 23,
   "id": "797921c3-41aa-45a1-835a-1314985f730f",
   "metadata": {},
   "outputs": [
    {
     "data": {
      "text/plain": [
       "{'name': 'Sainath',\n",
       " 'age': 45,\n",
       " 'city': 'Pune',\n",
       " 'address': 'Kharadi',\n",
       " 'Phone': 7894561230,\n",
       " 'name1': 'Sainath'}"
      ]
     },
     "execution_count": 23,
     "metadata": {},
     "output_type": "execute_result"
    }
   ],
   "source": [
    "sample_dict['name']='Sainath'\n",
    "sample_dict"
   ]
  },
  {
   "cell_type": "code",
   "execution_count": 24,
   "id": "615e95fd-08c9-4b97-be86-ef7391c5c6fe",
   "metadata": {},
   "outputs": [],
   "source": [
    "del(sample_dict['name1'])"
   ]
  },
  {
   "cell_type": "code",
   "execution_count": 25,
   "id": "74383d83-3242-4b55-8e72-21ec9de661ea",
   "metadata": {},
   "outputs": [
    {
     "data": {
      "text/plain": [
       "{'name': 'Sainath',\n",
       " 'age': 45,\n",
       " 'city': 'Pune',\n",
       " 'address': 'Kharadi',\n",
       " 'Phone': 7894561230}"
      ]
     },
     "execution_count": 25,
     "metadata": {},
     "output_type": "execute_result"
    }
   ],
   "source": [
    "sample_dict"
   ]
  },
  {
   "cell_type": "markdown",
   "id": "3140ee7f-d82c-4bea-919f-6db141912564",
   "metadata": {},
   "source": [
    "# dict() function\n",
    "* __This funciton is used to create a dictionary.__"
   ]
  },
  {
   "cell_type": "code",
   "execution_count": 1,
   "id": "eefb1ae4-eb2d-4881-8d8c-2d2826740cf2",
   "metadata": {},
   "outputs": [
    {
     "data": {
      "text/plain": [
       "{'family': 'music', 'type': 'pop', 'year': 2024, 'name': 'New Year'}"
      ]
     },
     "execution_count": 1,
     "metadata": {},
     "output_type": "execute_result"
    }
   ],
   "source": [
    "dict_sample=dict(family='music',type='pop',year=2024,name='New Year')\n",
    "dict_sample"
   ]
  },
  {
   "cell_type": "code",
   "execution_count": 2,
   "id": "ad58e38f-c08f-45eb-85d0-3698305b7207",
   "metadata": {},
   "outputs": [
    {
     "data": {
      "text/plain": [
       "'music'"
      ]
     },
     "execution_count": 2,
     "metadata": {},
     "output_type": "execute_result"
    }
   ],
   "source": [
    "dict_sample['family']"
   ]
  },
  {
   "cell_type": "code",
   "execution_count": 3,
   "id": "2c32ba55-598c-4601-b4d8-aba92a0139eb",
   "metadata": {},
   "outputs": [
    {
     "data": {
      "text/plain": [
       "dict_keys(['family', 'type', 'year', 'name'])"
      ]
     },
     "execution_count": 3,
     "metadata": {},
     "output_type": "execute_result"
    }
   ],
   "source": [
    "dict_sample.keys()"
   ]
  },
  {
   "cell_type": "code",
   "execution_count": 4,
   "id": "d959e5bf-50c8-46e4-8df1-78fd5103877e",
   "metadata": {},
   "outputs": [
    {
     "data": {
      "text/plain": [
       "dict_values(['music', 'pop', 2024, 'New Year'])"
      ]
     },
     "execution_count": 4,
     "metadata": {},
     "output_type": "execute_result"
    }
   ],
   "source": [
    "dict_sample.values()"
   ]
  },
  {
   "cell_type": "markdown",
   "id": "b4605049-ba86-4f4c-a5cd-efa8aab17d13",
   "metadata": {},
   "source": [
    "# clear() function\n",
    "\n",
    " * __It removes all the items in the dictionary and returns an empty dicitonary.__"
   ]
  },
  {
   "cell_type": "code",
   "execution_count": 3,
   "id": "a9f79206-e819-4522-9ddd-bbebac29be1a",
   "metadata": {},
   "outputs": [
    {
     "data": {
      "text/plain": [
       "{'family': 'music', 'type': 'pop', 'year': 2024, 'name': 'New Year'}"
      ]
     },
     "execution_count": 3,
     "metadata": {},
     "output_type": "execute_result"
    }
   ],
   "source": [
    "dict_sample1=dict(family='music',type='pop',year=2024,name='New Year')\n",
    "dict_sample1"
   ]
  },
  {
   "cell_type": "code",
   "execution_count": 4,
   "id": "846de8d9-e375-4c0a-a357-2e40b61f053c",
   "metadata": {},
   "outputs": [
    {
     "data": {
      "text/plain": [
       "{}"
      ]
     },
     "execution_count": 4,
     "metadata": {},
     "output_type": "execute_result"
    }
   ],
   "source": [
    "dict_sample1.clear()\n",
    "dict_sample1"
   ]
  },
  {
   "cell_type": "code",
   "execution_count": 5,
   "id": "a228a567-ead6-4473-8a3c-fdefeed21e02",
   "metadata": {},
   "outputs": [
    {
     "data": {
      "text/plain": [
       "{}"
      ]
     },
     "execution_count": 5,
     "metadata": {},
     "output_type": "execute_result"
    }
   ],
   "source": [
    "dict_sample1"
   ]
  },
  {
   "cell_type": "markdown",
   "id": "ef107bef-fa78-4fd9-b0aa-d092bfa00a88",
   "metadata": {},
   "source": [
    "# copy() function\n",
    "\n",
    " * __It returns a deep copy of the main dictionary.__"
   ]
  },
  {
   "cell_type": "code",
   "execution_count": 10,
   "id": "790c88f2-d422-437c-9ee3-fe2f5e082540",
   "metadata": {},
   "outputs": [
    {
     "name": "stdout",
     "output_type": "stream",
     "text": [
      "Original Dictionary: {'family': 'music', 'type': 'pop', 'year': 2024, 'name': 'New Year'}\n",
      "Copied Dictionary: {'family': 'music', 'type': 'pop', 'year': 2024, 'name': 'New Year'}\n",
      "Added Dictionary in Original: {'family': 'music', 'type': 'pop', 'year': 2024, 'name': 'Mukul'}\n",
      "{'family': 'music', 'type': 'pop', 'year': 2024, 'name': 'Mukul'}\n"
     ]
    }
   ],
   "source": [
    "dict_original=dict(family='music',type='pop',year=2024,name='New Year')\n",
    "dict_copy=dict_original\n",
    "print(\"Original Dictionary:\",dict_original)\n",
    "print('Copied Dictionary:',dict_copy)\n",
    "\n",
    "dict_original['name']='Mukul'\n",
    "print('Added Dictionary in Original:',dict_original)\n",
    "print(dict_copy)"
   ]
  },
  {
   "cell_type": "markdown",
   "id": "27938f31-ebaa-4393-8a5b-bc05da46db3e",
   "metadata": {},
   "source": [
    "# swallow copy\n",
    "\n",
    " * __It returns a swallow copy of the main dictionary__"
   ]
  },
  {
   "cell_type": "code",
   "execution_count": 12,
   "id": "1e9d5d24-a36a-4b44-941c-4833beeedf2b",
   "metadata": {},
   "outputs": [
    {
     "name": "stdout",
     "output_type": "stream",
     "text": [
      "Original Dictionary: {'family': 'music', 'type': 'pop', 'year': 2024, 'name': 'New Year'}\n",
      "Copied Dictionary: {'family': 'music', 'type': 'pop', 'year': 2024, 'name': 'New Year'}\n",
      "Added Dictionary in Original: {'family': 'music', 'type': 'pop', 'year': 2024, 'name': 'Mukul'}\n",
      "{'family': 'music', 'type': 'pop', 'year': 2024, 'name': 'New Year'}\n"
     ]
    }
   ],
   "source": [
    "dict_original=dict(family='music',type='pop',year=2024,name='New Year')\n",
    "dict_copy=dict_original.copy()\n",
    "print(\"Original Dictionary:\",dict_original)\n",
    "print('Copied Dictionary:',dict_copy)\n",
    "\n",
    "\n",
    "dict_original['name']='Mukul'\n",
    "print('Added Dictionary in Original:',dict_original)\n",
    "print(dict_copy)"
   ]
  },
  {
   "cell_type": "markdown",
   "id": "6fda881c-4fa6-4e30-9abc-fe030ec22443",
   "metadata": {},
   "source": [
    "# Pop() function\n",
    "\n",
    " * __This function is used to remove a specific item from the dictionary.__"
   ]
  },
  {
   "cell_type": "code",
   "execution_count": 15,
   "id": "077b4e65-ae5f-4d69-a20b-206532020a5f",
   "metadata": {},
   "outputs": [
    {
     "name": "stdout",
     "output_type": "stream",
     "text": [
      "pop\n"
     ]
    }
   ],
   "source": [
    "dict_original=dict(family='music',type='pop',year=2024,name='New Year')\n",
    "print(dict_original.pop('type'))\n"
   ]
  },
  {
   "cell_type": "code",
   "execution_count": 16,
   "id": "69c23163-efaa-4baa-a1e2-d26e66f073ef",
   "metadata": {},
   "outputs": [
    {
     "data": {
      "text/plain": [
       "{'family': 'music', 'year': 2024, 'name': 'New Year'}"
      ]
     },
     "execution_count": 16,
     "metadata": {},
     "output_type": "execute_result"
    }
   ],
   "source": [
    "dict_original"
   ]
  },
  {
   "cell_type": "markdown",
   "id": "a5007f6e-af8c-4355-b9a3-d95c03dbacd4",
   "metadata": {},
   "source": [
    "# popitem() function\n",
    "\n",
    " * __It is used to remove the abitrary items from the dictionary and returns as a tuple.__"
   ]
  },
  {
   "cell_type": "code",
   "execution_count": 18,
   "id": "cebf7329-005e-4ddf-bf9c-2e45d81e417f",
   "metadata": {},
   "outputs": [
    {
     "name": "stdout",
     "output_type": "stream",
     "text": [
      "('name', 'New Year')\n"
     ]
    }
   ],
   "source": [
    "dict_original=dict(family='music',type='pop',year=2024,name='New Year')\n",
    "print(dict_original.popitem())"
   ]
  },
  {
   "cell_type": "code",
   "execution_count": 19,
   "id": "e27e39f1-c915-4987-8d62-5dee2327c171",
   "metadata": {},
   "outputs": [
    {
     "data": {
      "text/plain": [
       "{'family': 'music', 'type': 'pop', 'year': 2024}"
      ]
     },
     "execution_count": 19,
     "metadata": {},
     "output_type": "execute_result"
    }
   ],
   "source": [
    "dict_original"
   ]
  },
  {
   "cell_type": "code",
   "execution_count": null,
   "id": "e3d0b9a2-65b7-4c8a-8eb5-264e796425f3",
   "metadata": {},
   "outputs": [],
   "source": []
  }
 ],
 "metadata": {
  "kernelspec": {
   "display_name": "Python 3 (ipykernel)",
   "language": "python",
   "name": "python3"
  },
  "language_info": {
   "codemirror_mode": {
    "name": "ipython",
    "version": 3
   },
   "file_extension": ".py",
   "mimetype": "text/x-python",
   "name": "python",
   "nbconvert_exporter": "python",
   "pygments_lexer": "ipython3",
   "version": "3.11.4"
  }
 },
 "nbformat": 4,
 "nbformat_minor": 5
}
