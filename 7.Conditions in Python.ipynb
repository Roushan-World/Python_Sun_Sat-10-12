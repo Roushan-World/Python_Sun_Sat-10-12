{
 "cells": [
  {
   "cell_type": "markdown",
   "id": "e39cba75-8599-453d-b994-af863a9ddd9a",
   "metadata": {},
   "source": [
    "# 7. Conditions in Python\n",
    "\n",
    " * __Comparison operations compare some value or operand and based on a condition, produce a Boolean. Python has six comparison operators as below:__\n",
    " * __less than (>)__\n",
    " * __Less than or equal to (<=)__\n",
    " * __Greater than(>)__\n",
    " * __Greater than or equal to (>=)__\n",
    " * __Equal to(==)__\n",
    " * __Not equal to(!=)__"
   ]
  },
  {
   "cell_type": "markdown",
   "id": "7e9d040f-156e-4e6b-b5c2-d2edd7ad3a42",
   "metadata": {},
   "source": [
    "# Bracnching (if/elif/else)\n",
    "\n",
    " * __Decision making is required when we want to execute a code only if a certain condition is satisfied.__\n",
    " * __The if/elif/else statement is used in Python for decision making.__\n",
    " * __An else statement can be combined with an if statement.__\n",
    " * __An else statement conatins the block of code that executes if the conditional expression in the if statement resolves to 0 or a False value.__\n",
    " * __The else statement is an optional statement and there could be at most only one else statement following if.__\n",
    " * __The elif statement allows you to check multiple expressions for True and execute a block of code as soon as one of the conditions evaluates to True.__\n",
    " * __Similar to the else, the elif statement is optional.__\n",
    " * __However, unlike else, for which there can be at most one statement, there can be an arbitrary number of elif statements following an if.__"
   ]
  },
  {
   "cell_type": "code",
   "execution_count": 3,
   "id": "545b0ebe-2d39-4505-96c9-240af9ea0113",
   "metadata": {},
   "outputs": [
    {
     "name": "stdout",
     "output_type": "stream",
     "text": [
      "x is greater than y\n"
     ]
    }
   ],
   "source": [
    "x=2\n",
    "y=5\n",
    "\n",
    "if x<y:\n",
    "    print('x is greater than y')\n",
    "else:\n",
    "    print('Y is greater than x.')"
   ]
  },
  {
   "cell_type": "markdown",
   "id": "90044fe7-c2e2-46af-8a58-735c87ccb540",
   "metadata": {},
   "source": [
    "# input() function"
   ]
  },
  {
   "cell_type": "code",
   "execution_count": 7,
   "id": "71207978-2736-4030-a67f-ce0058954993",
   "metadata": {},
   "outputs": [
    {
     "name": "stdin",
     "output_type": "stream",
     "text": [
      "Enter your baby age: 4\n"
     ]
    },
    {
     "name": "stdout",
     "output_type": "stream",
     "text": [
      "You are a baby.\n"
     ]
    }
   ],
   "source": [
    "age=int(input('Enter your baby age:'))\n",
    "\n",
    "if age>6:\n",
    "    print(\"You can go to primary school.\")\n",
    "elif age==5:\n",
    "    print('You can go to kinder garden.')\n",
    "else:\n",
    "    print('You are a baby.')"
   ]
  },
  {
   "cell_type": "code",
   "execution_count": null,
   "id": "a1f53c8a-bbad-4017-8c2f-c4720fa75dc4",
   "metadata": {},
   "outputs": [],
   "source": []
  }
 ],
 "metadata": {
  "kernelspec": {
   "display_name": "Python 3 (ipykernel)",
   "language": "python",
   "name": "python3"
  },
  "language_info": {
   "codemirror_mode": {
    "name": "ipython",
    "version": 3
   },
   "file_extension": ".py",
   "mimetype": "text/x-python",
   "name": "python",
   "nbconvert_exporter": "python",
   "pygments_lexer": "ipython3",
   "version": "3.11.4"
  }
 },
 "nbformat": 4,
 "nbformat_minor": 5
}
