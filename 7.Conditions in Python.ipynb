{
 "cells": [
  {
   "cell_type": "markdown",
   "id": "e39cba75-8599-453d-b994-af863a9ddd9a",
   "metadata": {},
   "source": [
    "# 7. Conditions in Python\n",
    "\n",
    " * __Comparison operations compare some value or operand and based on a condition, produce a Boolean. Python has six comparison operators as below:__\n",
    " * __less than (>)__\n",
    " * __Less than or equal to (<=)__\n",
    " * __Greater than(>)__\n",
    " * __Greater than or equal to (>=)__\n",
    " * __Equal to(==)__\n",
    " * __Not equal to(!=)__"
   ]
  },
  {
   "cell_type": "markdown",
   "id": "7e9d040f-156e-4e6b-b5c2-d2edd7ad3a42",
   "metadata": {},
   "source": [
    "# Bracnching (if/elif/else)\n",
    "\n",
    " * __Decision making is required when we want to execute a code only if a certain condition is satisfied.__\n",
    " * __The if/elif/else statement is used in Python for decision making.__\n",
    " * __An else statement can be combined with an if statement.__\n",
    " * __An else statement conatins the block of code that executes if the conditional expression in the if statement resolves to 0 or a False value.__\n",
    " * __The else statement is an optional statement and there could be at most only one else statement following if.__\n",
    " * __The elif statement allows you to check multiple expressions for True and execute a block of code as soon as one of the conditions evaluates to True.__\n",
    " * __Similar to the else, the elif statement is optional.__\n",
    " * __However, unlike else, for which there can be at most one statement, there can be an arbitrary number of elif statements following an if.__"
   ]
  },
  {
   "cell_type": "code",
   "execution_count": 3,
   "id": "545b0ebe-2d39-4505-96c9-240af9ea0113",
   "metadata": {},
   "outputs": [
    {
     "name": "stdout",
     "output_type": "stream",
     "text": [
      "x is greater than y\n"
     ]
    }
   ],
   "source": [
    "x=2\n",
    "y=5\n",
    "\n",
    "if x<y:\n",
    "    print('x is greater than y')\n",
    "else:\n",
    "    print('Y is greater than x.')"
   ]
  },
  {
   "cell_type": "markdown",
   "id": "90044fe7-c2e2-46af-8a58-735c87ccb540",
   "metadata": {},
   "source": [
    "# input() function"
   ]
  },
  {
   "cell_type": "code",
   "execution_count": 7,
   "id": "71207978-2736-4030-a67f-ce0058954993",
   "metadata": {},
   "outputs": [
    {
     "name": "stdin",
     "output_type": "stream",
     "text": [
      "Enter your baby age: 4\n"
     ]
    },
    {
     "name": "stdout",
     "output_type": "stream",
     "text": [
      "You are a baby.\n"
     ]
    }
   ],
   "source": [
    "age=int(input('Enter your baby age:'))\n",
    "\n",
    "if age>6:\n",
    "    print(\"You can go to primary school.\")\n",
    "elif age==5:\n",
    "    print('You can go to kinder garden.')\n",
    "else:\n",
    "    print('You are a baby.')"
   ]
  },
  {
   "cell_type": "code",
   "execution_count": 1,
   "id": "a1f53c8a-bbad-4017-8c2f-c4720fa75dc4",
   "metadata": {},
   "outputs": [
    {
     "name": "stdin",
     "output_type": "stream",
     "text": [
      "Enter a number from 1 to 12: 1\n"
     ]
    },
    {
     "name": "stdout",
     "output_type": "stream",
     "text": [
      "January\n"
     ]
    }
   ],
   "source": [
    "month_name=int(input('Enter a number from 1 to 12:'))\n",
    "\n",
    "if month_name==1:\n",
    "    print('January')\n",
    "elif month_name==2:\n",
    "    print('February:')\n",
    "elif month_name==3:\n",
    "    print('March')"
   ]
  },
  {
   "cell_type": "code",
   "execution_count": 8,
   "id": "d5de3435-f2c7-49fd-bc30-cdb90d3cc019",
   "metadata": {},
   "outputs": [
    {
     "name": "stdin",
     "output_type": "stream",
     "text": [
      "Enter any number: 22\n"
     ]
    },
    {
     "name": "stdout",
     "output_type": "stream",
     "text": [
      "The number 22 is not divisible by 3 and 5 both.\n"
     ]
    }
   ],
   "source": [
    "x=int(input('Enter any number:'))\n",
    "\n",
    "if x%3==0 and x%5==0:\n",
    "    print(f'The number {x} is divisible by both 3 and 5 ')\n",
    "elif x%3==0 and x%5!=0:\n",
    "    print(f'The number {x} is divisible by 3 only not 5')\n",
    "elif x%3!=0 and x%5==0:\n",
    "    print(f'The number {x} is divisible by 5 only not 3.')\n",
    "else:\n",
    "    print(f'The number {x} is not divisible by 3 and 5 both.') "
   ]
  },
  {
   "cell_type": "code",
   "execution_count": 1,
   "id": "0253b984-6279-46ec-91b6-0e9378e95474",
   "metadata": {},
   "outputs": [],
   "source": [
    "# Write a python program to accept percentage from the user and display the grade according to the following criteria:\n",
    "# Marks-----------------Grade\n",
    "# >90-------------------\"A\"\n",
    "# >80 and <=90----------\"B\"\n",
    "# >=60 and <=80---------\"C\"\n",
    "# below 60--------------\"D\"\n"
   ]
  },
  {
   "cell_type": "code",
   "execution_count": 5,
   "id": "fcdf3994-7f20-4c47-b6a3-26a6fba5bea2",
   "metadata": {},
   "outputs": [
    {
     "name": "stdout",
     "output_type": "stream",
     "text": [
      "Delhi Agra Jaipur AmritSar Madurai Mysore Mumbai Sanchi Hydrabad\n"
     ]
    },
    {
     "name": "stdin",
     "output_type": "stream",
     "text": [
      "Choose city name from given: DELHI\n"
     ]
    },
    {
     "name": "stdout",
     "output_type": "stream",
     "text": [
      "Your Monument is RedFort\n"
     ]
    }
   ],
   "source": [
    "# Accept any city from the user and displays monument of the city?\n",
    "# city-------------------------------> Monument\n",
    "# Delhi------------------------------> \"RedFort\"\n",
    "# Agra-------------------------------> \"TajMahal\"\n",
    "# Jaipur-----------------------------> \"JalMahal, HawaMahal\"\n",
    "# AmritSar---------------------------> \"Golden Temple\"\n",
    "# Madurai----------------------------> \"Meenakshi Temple\"\n",
    "# Mysore-----------------------------> \"Mysore Place\"\n",
    "# Mumbai-----------------------------> \"Gateway of India\"\n",
    "# Sanchi-----------------------------> \"Sanchi Stupa\"\n",
    "# Hydrabad---------------------------> \"Charminar\"\n",
    "\n",
    "print(\"Delhi\",\"Agra\",\"Jaipur\",\"AmritSar\",\"Madurai\",\"Mysore\",\"Mumbai\",\"Sanchi\",\"Hydrabad\")\n",
    "x1=input(\"Choose city name from given:\")\n",
    "\n",
    "if x1.lower()==\"delhi\":\n",
    "    print(\"Your Monument is RedFort\")"
   ]
  },
  {
   "cell_type": "code",
   "execution_count": 1,
   "id": "6e86be4e-cb70-4b8c-acde-8fa09341aedc",
   "metadata": {},
   "outputs": [],
   "source": [
    "# Accept the age of 3 people and display the elder one.\n"
   ]
  },
  {
   "cell_type": "code",
   "execution_count": 4,
   "id": "4ee89ab9-4148-4aa6-b838-8f7089cb6506",
   "metadata": {},
   "outputs": [
    {
     "name": "stdin",
     "output_type": "stream",
     "text": [
      "Enter first age: 14\n",
      "Enter second age: 15\n",
      "Enter third age: 16\n",
      "Enter fourth age: 17\n"
     ]
    },
    {
     "name": "stdout",
     "output_type": "stream",
     "text": [
      " 14 is yougest then three 15,16,17\n"
     ]
    }
   ],
   "source": [
    "# Accept the age of 4 people and display the youngest one with f-string function.\n",
    "\n",
    "x=int(input(\"Enter first age:\"))\n",
    "y=int(input(\"Enter second age:\"))\n",
    "z=int(input(\"Enter third age:\"))\n",
    "a=int(input(\"Enter fourth age:\"))\n",
    "\n",
    "\n",
    "if x<y and x<z and x<a:\n",
    "    print(f' {x} is yougest then three {y},{z},{a}')\n",
    "    "
   ]
  },
  {
   "cell_type": "code",
   "execution_count": 5,
   "id": "882c1529-52c8-4234-968a-acdeb84667c9",
   "metadata": {},
   "outputs": [
    {
     "name": "stdin",
     "output_type": "stream",
     "text": [
      "Enter an Amount:  45\n"
     ]
    },
    {
     "name": "stdout",
     "output_type": "stream",
     "text": [
      "Your Final Amount is:  40.5\n"
     ]
    }
   ],
   "source": [
    "# Accept the marked price from the user and calculate the net amount as (marked price)\n",
    "\n",
    "# marked price---------------------> Discount\n",
    "# >10000---------------------------> 20%\n",
    "# >7000 and <=10000----------------> 15%\n",
    "# <=7000---------------------------> 10%\n",
    "\n",
    "a1=int(input(\"Enter an Amount: \"))\n",
    "if a1>10000:\n",
    "    total=a1-(a1*0.2)\n",
    "    print(\"Your Final Amount is: \", total)\n",
    "elif a1>7000 and a1<=10000:\n",
    "    total1=a1-(a1*0.15)\n",
    "    print(\"Your Final Amount is: \", total1)\n",
    "elif a1<=7000:\n",
    "    total2=a1-(a1*0.10)\n",
    "    print(\"Your Final Amount is: \", total2)"
   ]
  },
  {
   "cell_type": "code",
   "execution_count": 7,
   "id": "7dfd7c73-fc90-4db1-b4b9-9268be4d16ca",
   "metadata": {},
   "outputs": [
    {
     "name": "stdin",
     "output_type": "stream",
     "text": [
      "Enter your gender M/F: m\n",
      "Enter your age: 30\n",
      "Enter your material status Y/N: y\n"
     ]
    },
    {
     "name": "stdout",
     "output_type": "stream",
     "text": [
      "You can work anywhere Bcoz your gender is: m, your age is:30.\n"
     ]
    }
   ],
   "source": [
    "# Ask the user to enter age, sex(M or F), Material Status(Y or N) and then using following rule print their place of services.\n",
    "# If employee is female, then she will work only  in urban areas.\n",
    "# If employee is a male and age is in between 20 to 40 then he may work in anywhere.\n",
    "# if employee is male and age is in between 40 to 60 then he will work in urban areas only.\n",
    "# And any other input of age should print \"Error\"\n",
    "\n",
    "\n",
    "gender=input(\"Enter your gender M/F:\")\n",
    "age=int(input(\"Enter your age:\"))\n",
    "status=input(\"Enter your material status Y/N:\")\n",
    "\n",
    "if gender.lower()==\"f\":\n",
    "    print(\"You can work in urban area only.\")\n",
    "elif gender.upper()==\"M\" and age>20 and age<=40:\n",
    "    print(f\"You can work anywhere Bcoz your gender is: {gender}, your age is:{age}.\")\n",
    "elif gender.lower()=='m' and age>40 and age<=60:\n",
    "    print(f\"You can work in Urban area only Bcoz your gender is: {gender},your age is: {age}.\")\n",
    "else:\n",
    "    print(\"Error\")"
   ]
  },
  {
   "cell_type": "code",
   "execution_count": null,
   "id": "4f1ba141-9b23-4289-b881-7265c48c25d9",
   "metadata": {},
   "outputs": [],
   "source": []
  }
 ],
 "metadata": {
  "kernelspec": {
   "display_name": "Python 3 (ipykernel)",
   "language": "python",
   "name": "python3"
  },
  "language_info": {
   "codemirror_mode": {
    "name": "ipython",
    "version": 3
   },
   "file_extension": ".py",
   "mimetype": "text/x-python",
   "name": "python",
   "nbconvert_exporter": "python",
   "pygments_lexer": "ipython3",
   "version": "3.11.4"
  }
 },
 "nbformat": 4,
 "nbformat_minor": 5
}
