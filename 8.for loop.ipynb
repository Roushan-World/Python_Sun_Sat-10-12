{
 "cells": [
  {
   "cell_type": "markdown",
   "id": "b6f00f60-85d4-4429-9034-64fae9644772",
   "metadata": {},
   "source": [
    "# 8. Loops in Python\n",
    "\n",
    " * __A for loop is used for iterating over a sequence (that is either a list, a tuple, a dictionary, a set or a string).__\n",
    " * __This is less like the for keyword in other programming languages, and works more like an iterator method as found in other object-oriented programming languages.__\n",
    " * __With the for loop we can execute a set of statements, once for each item in a list, tuple, set etc.__\n",
    " * __The for loop does not reuqire an indexing variable to set beforehand.__\n",
    " * __With the while loop we can execute a set of statements as long as a condition is true.__\n",
    " * __Note: Remember to increment, i, or else the loop will continue forever.__\n",
    " * __The while loop requires relevant variables to be ready, in this example we need to define an indexing variable, i, which we set to 1.__\n",
    "\n",
    "# range() function\n",
    "\n",
    " * __It is helpful to think of the range obejct as an ordered list.__\n",
    " * __To loop through a set of code a specified number of times, we can use the range() function.__\n",
    " * __The range() function returns a sequence of numbers, starting from 0 by defualt, and increments by 1(by default), and ends at a specified number.__"
   ]
  },
  {
   "cell_type": "code",
   "execution_count": 2,
   "id": "54d3fac2-204f-4502-963d-c83b36682317",
   "metadata": {},
   "outputs": [
    {
     "name": "stdout",
     "output_type": "stream",
     "text": [
      "range(0, 10)\n",
      "range(0, 100)\n"
     ]
    }
   ],
   "source": [
    "print(range(10))\n",
    "print(range(100))"
   ]
  },
  {
   "cell_type": "code",
   "execution_count": 3,
   "id": "b53bf787-755b-4ff7-ba48-8babe801d6ff",
   "metadata": {},
   "outputs": [
    {
     "name": "stdout",
     "output_type": "stream",
     "text": [
      "range(10, 100)\n"
     ]
    }
   ],
   "source": [
    "print(range(10,100))"
   ]
  },
  {
   "cell_type": "code",
   "execution_count": 4,
   "id": "5ffbc8b6-1f9a-463b-bb9a-d5b8296923f1",
   "metadata": {},
   "outputs": [
    {
     "name": "stdout",
     "output_type": "stream",
     "text": [
      "0\n",
      "1\n",
      "2\n",
      "3\n",
      "4\n",
      "5\n",
      "6\n",
      "7\n",
      "8\n",
      "9\n"
     ]
    }
   ],
   "source": [
    "for i in range(10):\n",
    "    print(i)"
   ]
  },
  {
   "cell_type": "code",
   "execution_count": 5,
   "id": "02c06860-c482-45b6-bf8c-f9c86a99920c",
   "metadata": {},
   "outputs": [
    {
     "name": "stdout",
     "output_type": "stream",
     "text": [
      "0\n",
      "1\n",
      "2\n",
      "3\n",
      "4\n",
      "5\n",
      "6\n",
      "7\n",
      "8\n",
      "9\n"
     ]
    }
   ],
   "source": [
    "for x in range(10):\n",
    "    print(x)"
   ]
  },
  {
   "cell_type": "code",
   "execution_count": 6,
   "id": "769314c4-71ac-4db1-a4aa-cef31203986c",
   "metadata": {},
   "outputs": [
    {
     "name": "stdout",
     "output_type": "stream",
     "text": [
      "0\n",
      "1\n",
      "2\n",
      "3\n",
      "4\n",
      "5\n",
      "6\n",
      "7\n",
      "8\n",
      "9\n",
      "10\n"
     ]
    }
   ],
   "source": [
    "for sainath in range(11):\n",
    "    print(sainath)"
   ]
  },
  {
   "cell_type": "code",
   "execution_count": 9,
   "id": "b1c22723-8d15-4f59-99f0-65d8760ddc2f",
   "metadata": {},
   "outputs": [
    {
     "name": "stdout",
     "output_type": "stream",
     "text": [
      "2005,2006,2007,2008,2009,2010,"
     ]
    }
   ],
   "source": [
    "lst=[2005,2006,2007,2008,2009,2010]\n",
    "\n",
    "for i in lst:\n",
    "    print(i,end=',')"
   ]
  },
  {
   "cell_type": "code",
   "execution_count": 14,
   "id": "2ae1cf58-8132-4a0b-90f7-c961c20b9bd1",
   "metadata": {},
   "outputs": [
    {
     "name": "stdout",
     "output_type": "stream",
     "text": [
      "1 2 3 4 5 6 7 8 9 10 11 12 13 14 15 16 17 18 19 20 21 22 23 24 25 26 27 28 29 30 31 32 33 34 35 36 37 38 39 40 41 42 43 44 45 46 47 48 49 50 51 52 53 54 55 56 57 58 59 60 61 62 63 64 65 66 67 68 69 70 71 72 73 74 75 76 77 78 79 80 81 82 83 84 85 86 87 88 89 90 91 92 93 94 95 96 97 98 99 100 "
     ]
    }
   ],
   "source": [
    "for i in range(1,101):\n",
    "    print(i,end=' ')"
   ]
  },
  {
   "cell_type": "markdown",
   "id": "de7ddd56-5546-4d76-ace8-3f5949f739a4",
   "metadata": {},
   "source": [
    "# break() function\n"
   ]
  },
  {
   "cell_type": "code",
   "execution_count": 16,
   "id": "87fcc3c8-7562-4c75-bb70-9249d9eb5a74",
   "metadata": {},
   "outputs": [
    {
     "name": "stdout",
     "output_type": "stream",
     "text": [
      "1 2 3 4 5 6 7 8 9 10 11 12 13 14 15 16 17 18 19 20 21 22 23 24 25 26 27 28 29 30 31 32 33 34 35 36 37 38 39 40 41 42 43 44 45 46 47 48 49 50 51 52 53 54 55 "
     ]
    }
   ],
   "source": [
    "for i in range(1,101):\n",
    "    print(i,end=' ')\n",
    "    if i==55:\n",
    "        break"
   ]
  },
  {
   "cell_type": "code",
   "execution_count": 24,
   "id": "fae7c6d8-6510-4ed7-a91b-92ee9e59a251",
   "metadata": {},
   "outputs": [
    {
     "name": "stdout",
     "output_type": "stream",
     "text": [
      "0 2005\n",
      "1 2006\n",
      "2 2007\n",
      "3 2008\n",
      "4 2009\n",
      "5 2010\n"
     ]
    }
   ],
   "source": [
    "lst=[2005,2006,2007,2008,2009,2010,]\n",
    "\n",
    "for i in range(len(lst)):\n",
    "    print(i,lst[i])"
   ]
  },
  {
   "cell_type": "code",
   "execution_count": 29,
   "id": "0326282a-0ee4-4370-a136-c0aab1110642",
   "metadata": {},
   "outputs": [
    {
     "name": "stdout",
     "output_type": "stream",
     "text": [
      "0 jan\n",
      "1 feb\n",
      "2 march\n"
     ]
    }
   ],
   "source": [
    "lst=['jan','feb','march','april','may']\n",
    "\n",
    "for i in range(len(lst)):\n",
    "    print(i,lst[i])\n",
    "    if i==2:\n",
    "        break"
   ]
  },
  {
   "cell_type": "markdown",
   "id": "940f9194-d3da-4a4a-b1a9-b795383ae951",
   "metadata": {},
   "source": [
    "# Continue() function"
   ]
  },
  {
   "cell_type": "code",
   "execution_count": 32,
   "id": "b5be0729-a226-4311-9d99-84dbddc74b92",
   "metadata": {},
   "outputs": [
    {
     "name": "stdout",
     "output_type": "stream",
     "text": [
      "0\n",
      "1\n",
      "2\n",
      "3\n",
      "4\n",
      "5\n",
      "6\n",
      "7\n",
      "8\n",
      "9\n",
      "10\n",
      "11\n",
      "12\n",
      "13\n",
      "14\n",
      "15\n",
      "16\n",
      "17\n",
      "18\n",
      "19\n",
      "21\n",
      "22\n",
      "23\n",
      "24\n",
      "25\n",
      "26\n",
      "27\n",
      "28\n",
      "29\n",
      "30\n",
      "31\n",
      "32\n",
      "33\n",
      "34\n",
      "35\n",
      "36\n",
      "37\n",
      "38\n",
      "39\n",
      "40\n",
      "41\n",
      "42\n",
      "43\n",
      "44\n",
      "45\n",
      "46\n",
      "47\n",
      "48\n",
      "49\n"
     ]
    }
   ],
   "source": [
    "for i in range(50):\n",
    "    if i==20:\n",
    "        continue\n",
    "    print(i)"
   ]
  },
  {
   "cell_type": "code",
   "execution_count": 13,
   "id": "47ca21a4-dd8e-4c50-ad97-a54aa4e8e619",
   "metadata": {},
   "outputs": [
    {
     "name": "stdout",
     "output_type": "stream",
     "text": [
      "0\n",
      "2\n",
      "4\n",
      "6\n",
      "8\n",
      "10\n"
     ]
    }
   ],
   "source": [
    "# display the number using for loop 0 to 10\n",
    "sum1=0\n",
    "\n",
    "for i in range(0,11):\n",
    "    if i%2==0:\n",
    "        print(i)\n",
    "    sum1+=i\n",
    "        \n",
    " "
   ]
  },
  {
   "cell_type": "code",
   "execution_count": 16,
   "id": "49387fea-6723-4c3c-ba3a-007a07d6683d",
   "metadata": {},
   "outputs": [
    {
     "name": "stdout",
     "output_type": "stream",
     "text": [
      "0\n",
      "2\n",
      "4\n",
      "6\n",
      "8\n"
     ]
    }
   ],
   "source": [
    "for i in range(0,10):\n",
    "    if i%2==0:\n",
    "        print(i)\n",
    "        sum1+=i"
   ]
  },
  {
   "cell_type": "code",
   "execution_count": null,
   "id": "16ea8867-e64d-4a67-9224-0b924e138783",
   "metadata": {},
   "outputs": [],
   "source": []
  },
  {
   "cell_type": "code",
   "execution_count": 30,
   "id": "362f308f-49a2-48f2-9efb-f387be590585",
   "metadata": {},
   "outputs": [
    {
     "name": "stdout",
     "output_type": "stream",
     "text": [
      "20\n"
     ]
    }
   ],
   "source": [
    "sum2=0\n",
    "for x in range(0,10):\n",
    "    if x%2==0:\n",
    "        sum2+=x\n",
    "        \n",
    "        \n",
    "print(sum2)"
   ]
  },
  {
   "cell_type": "code",
   "execution_count": 31,
   "id": "c227c8af-672f-462b-b663-bdaaa709a4c0",
   "metadata": {},
   "outputs": [
    {
     "name": "stdout",
     "output_type": "stream",
     "text": [
      "4248\n"
     ]
    }
   ],
   "source": [
    "x1=[10,20,30,4050,60,78]\n",
    "\n",
    "s2=0\n",
    "\n",
    "for i in x1:\n",
    "    s2+=i\n",
    "print(s2)\n",
    "\n"
   ]
  },
  {
   "cell_type": "code",
   "execution_count": 32,
   "id": "af15eb6c-6544-405a-95d9-1059ecc82a5d",
   "metadata": {},
   "outputs": [
    {
     "name": "stdin",
     "output_type": "stream",
     "text": [
      "Enter any number:\n",
      " 12\n"
     ]
    },
    {
     "name": "stdout",
     "output_type": "stream",
     "text": [
      "12 X 1 = 12\n",
      "12 X 2 = 24\n",
      "12 X 3 = 36\n",
      "12 X 4 = 48\n",
      "12 X 5 = 60\n",
      "12 X 6 = 72\n",
      "12 X 7 = 84\n",
      "12 X 8 = 96\n",
      "12 X 9 = 108\n",
      "12 X 10 = 120\n"
     ]
    }
   ],
   "source": [
    "# write a table from user input using for loop  # 12x1=12, # 12x2=24\n",
    "\n",
    "table=int(input(\"Enter any number:\\n\"))\n",
    "\n",
    "for i in range(1,11):\n",
    "    print(table,\"X\",i,'=',table*i)"
   ]
  },
  {
   "cell_type": "code",
   "execution_count": 34,
   "id": "69de9a18-a2de-48a2-9ae5-103f06ba9eca",
   "metadata": {},
   "outputs": [
    {
     "name": "stdin",
     "output_type": "stream",
     "text": [
      "Enter any number:\n",
      " 14\n",
      "Enter second value:\n",
      " 15\n"
     ]
    },
    {
     "name": "stdout",
     "output_type": "stream",
     "text": [
      "14X1=14 15X1=15\n",
      "14X2=28 15X2=30\n",
      "14X3=42 15X3=45\n",
      "14X4=56 15X4=60\n",
      "14X5=70 15X5=75\n",
      "14X6=84 15X6=90\n",
      "14X7=98 15X7=105\n",
      "14X8=112 15X8=120\n",
      "14X9=126 15X9=135\n",
      "14X10=140 15X10=150\n"
     ]
    }
   ],
   "source": [
    "table=int(input(\"Enter any number:\\n\"))\n",
    "table2=int(input(\"Enter second value:\\n\"))\n",
    "for i in range(1,11):\n",
    "    print('%dX%d=%d'%(table,i,table*i),\"%dX%d=%d\"%(table2,i,table2*i))"
   ]
  },
  {
   "cell_type": "code",
   "execution_count": 9,
   "id": "a0072e04-f009-4280-8dd5-9e2b60ac8507",
   "metadata": {},
   "outputs": [
    {
     "name": "stdout",
     "output_type": "stream",
     "text": [
      "Even number is: 10\n",
      "Odd number is: 31\n",
      "Even number is: 20\n",
      "Odd number is: 47\n",
      "Even number is: 30\n",
      "Odd number is: 57\n",
      "Even number is: 4050\n",
      "Odd number is: 91\n",
      "Odd number is: 97\n",
      "Even number is: 60\n",
      "Even number is: 78\n",
      "[10, 20, 30, 4050, 60, 78]\n",
      "[31, 47, 57, 91, 97]\n"
     ]
    }
   ],
   "source": [
    "x1=[10,31,20,47,30,57,4050,91,97,60,78]\n",
    "x2=[]\n",
    "x3=[]\n",
    "for i in x1:\n",
    "    if i%2==0:\n",
    "        x2.append(i)\n",
    "\n",
    "        print(\"Even number is:\",i)\n",
    "    else:\n",
    "        x3.append(i)\n",
    "        print('Odd number is:',i)\n",
    "\n",
    "print(x2)\n",
    "print(x3)"
   ]
  },
  {
   "cell_type": "code",
   "execution_count": 10,
   "id": "3e6b1706-3b2d-4fdf-8d85-78ca70005460",
   "metadata": {},
   "outputs": [
    {
     "name": "stdout",
     "output_type": "stream",
     "text": [
      "[10, 20, 30, 4050, 60, 78]\n"
     ]
    }
   ],
   "source": [
    "print(x2)"
   ]
  },
  {
   "cell_type": "code",
   "execution_count": 14,
   "id": "5548952b-d70b-44e8-ba2d-b7fad1700b35",
   "metadata": {},
   "outputs": [
    {
     "name": "stdin",
     "output_type": "stream",
     "text": [
      "Enter your data here: 4561230apple\n"
     ]
    },
    {
     "name": "stdout",
     "output_type": "stream",
     "text": [
      "your total digit in string is: 7 your total characters in your string is: 5\n"
     ]
    }
   ],
   "source": [
    "# Wap to takes input from user as a string and number and find how many letter and digit entered by user.\n",
    "# abc1234:   total character is: 3,  total digit is: 4\n",
    "\n",
    "\n",
    "user_input=input('Enter your data here:')\n",
    "\n",
    "digit=0\n",
    "character=0\n",
    "\n",
    "for i in user_input:\n",
    "    if i.isdigit():\n",
    "        digit=digit+1\n",
    "    elif i.isalpha():\n",
    "        character=character+1\n",
    "\n",
    "print('your total digit in string is:',digit,\"your total characters in your string is:\",character)"
   ]
  },
  {
   "cell_type": "code",
   "execution_count": 31,
   "id": "0d24becc-0ea3-44a5-a522-6c285b0a93d2",
   "metadata": {},
   "outputs": [
    {
     "name": "stdout",
     "output_type": "stream",
     "text": [
      "JANUARY has 31 days.\n",
      "FEBRUARY has 28/29 Days\n"
     ]
    }
   ],
   "source": [
    "month_name=[\"JANUARY\",\"FEBRUARY\"]\n",
    "\n",
    "\n",
    "for i in month_name:\n",
    "    if i ==\"FEBRUARY\":\n",
    "        print(i,\"has 28/29 Days\")\n",
    "    elif i in (\"JANUARY\",\"MARCH\",\"MAY\",\"JULY\",\"AUGUST\",\"OCTOBER\",\"DECEMBER\"):\n",
    "        print(i,\"has 31 days.\")\n",
    "    elif i in (\"APRIL\",\"JUNE\",\"SEPTEMBER\",\"NOVEMBER\"):\n",
    "        print(i,\"has 30 days.\")"
   ]
  },
  {
   "cell_type": "code",
   "execution_count": null,
   "id": "beed6870-862b-42b6-9dcf-1303ab7a43cb",
   "metadata": {},
   "outputs": [],
   "source": []
  }
 ],
 "metadata": {
  "kernelspec": {
   "display_name": "Python 3 (ipykernel)",
   "language": "python",
   "name": "python3"
  },
  "language_info": {
   "codemirror_mode": {
    "name": "ipython",
    "version": 3
   },
   "file_extension": ".py",
   "mimetype": "text/x-python",
   "name": "python",
   "nbconvert_exporter": "python",
   "pygments_lexer": "ipython3",
   "version": "3.11.4"
  }
 },
 "nbformat": 4,
 "nbformat_minor": 5
}
