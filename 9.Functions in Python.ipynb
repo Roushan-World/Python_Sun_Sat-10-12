{
 "cells": [
  {
   "cell_type": "markdown",
   "id": "939c441f-3c84-40cf-82c7-decaeb3c29ae",
   "metadata": {},
   "source": [
    "# 9. Functions in Python\n",
    "\n",
    " * __In Python, a function is a group of related statements that performs a specific task.__\n",
    " * __Functions help break our program into smaller and modular chunks. * As our program grow larger and larger, functions make it more organized and manageable.__\n",
    " * __Furthermore, it avoids repetition and makes the code reusable.__\n",
    " * __There are two types of functions,__\n",
    " * __Pre-defined functions.__\n",
    " * __User-defined functions.__\n",
    " * __In python a function is defined using the def keyword followed by the function name and parenthesis.__\n",
    " * __Keyword def that marks the start of the function header.__\n",
    " * __A function name to uniquely identify the function.__\n",
    " * __Function naming follows the same rules of writing identifiers in Python.__\n",
    " * __Parameters (arguments) through which we pass values to a function. They are optional.__\n",
    " * __A colon (:) to mark the end of the function header.__\n",
    " * __Optical documentation string(docstring) to describe what the function does.__\n",
    " * __One or more valid python statements that make up the function body.__\n",
    " * __Statement must have the same identation level(usually 4 spaces).__\n",
    " * __An optional return statement to return a value from the function.__ "
   ]
  },
  {
   "cell_type": "code",
   "execution_count": 1,
   "id": "6a210c64-4ac2-453c-b6ea-cd2cf78415f9",
   "metadata": {},
   "outputs": [
    {
     "data": {
      "text/plain": [
       "(15, 5, 50, 2.0, 0)"
      ]
     },
     "execution_count": 1,
     "metadata": {},
     "output_type": "execute_result"
    }
   ],
   "source": [
    "z=0\n",
    "def calc(x):\n",
    "    y1=x+5\n",
    "    y2=x-5\n",
    "    y3=x*5\n",
    "    y4=x/5\n",
    "    y5=x%5\n",
    "    return y1,y2,y3,y4,y5\n",
    "calc(10)"
   ]
  },
  {
   "cell_type": "code",
   "execution_count": 39,
   "id": "e849aca4-8b1b-4dac-814f-c8c005dd3db8",
   "metadata": {},
   "outputs": [
    {
     "name": "stdin",
     "output_type": "stream",
     "text": [
      "Enter first number: 45\n",
      "Enter second number: 45\n"
     ]
    },
    {
     "name": "stdout",
     "output_type": "stream",
     "text": [
      "90\n"
     ]
    }
   ],
   "source": [
    "# wap to calculate the addition of two number from user.\n",
    "\n",
    "def addition(x,y):\n",
    "    \n",
    "    \n",
    "    z=x+y\n",
    "    return z\n",
    "\n",
    "\n",
    "s1=int(input('Enter first number:'))\n",
    "s2=int(input('Enter second number:'))\n",
    "z1=addition(s1,s2)\n",
    "print(z1)"
   ]
  },
  {
   "cell_type": "code",
   "execution_count": 4,
   "id": "82c1502d-5c7d-402d-9792-e9730c901252",
   "metadata": {},
   "outputs": [
    {
     "data": {
      "text/plain": [
       "(55, 45, 250, 10.0, 0)"
      ]
     },
     "execution_count": 4,
     "metadata": {},
     "output_type": "execute_result"
    }
   ],
   "source": [
    "calc(50)"
   ]
  },
  {
   "cell_type": "code",
   "execution_count": 8,
   "id": "75addbc9-a0d3-4d3a-8608-ec39fdc4e0e8",
   "metadata": {},
   "outputs": [
    {
     "data": {
      "text/plain": [
       "90"
      ]
     },
     "execution_count": 8,
     "metadata": {},
     "output_type": "execute_result"
    }
   ],
   "source": [
    "z"
   ]
  },
  {
   "cell_type": "code",
   "execution_count": 33,
   "id": "86808c95-5557-48c5-8397-b70086790848",
   "metadata": {},
   "outputs": [
    {
     "data": {
      "text/plain": [
       "40"
      ]
     },
     "execution_count": 33,
     "metadata": {},
     "output_type": "execute_result"
    }
   ],
   "source": [
    "y=10\n",
    "y1=30\n",
    "z1=addition(y,y1)\n",
    "z1"
   ]
  },
  {
   "cell_type": "code",
   "execution_count": 34,
   "id": "f6879004-a953-4faa-a9b5-19c84162940d",
   "metadata": {},
   "outputs": [
    {
     "data": {
      "text/plain": [
       "174"
      ]
     },
     "execution_count": 34,
     "metadata": {},
     "output_type": "execute_result"
    }
   ],
   "source": [
    "ram=addition(s1,s2)\n",
    "ram"
   ]
  },
  {
   "cell_type": "code",
   "execution_count": 45,
   "id": "9e85f3cf-857e-49b9-90ce-2fbea9e8b80f",
   "metadata": {},
   "outputs": [
    {
     "name": "stdin",
     "output_type": "stream",
     "text": [
      "Enter any value: 2\n",
      "Enter power of value: 8\n"
     ]
    },
    {
     "data": {
      "text/plain": [
       "256"
      ]
     },
     "execution_count": 45,
     "metadata": {},
     "output_type": "execute_result"
    }
   ],
   "source": [
    "def exponent(x):\n",
    "    pow=int(input('Enter power of value:'))\n",
    "    z1=x**pow\n",
    "    return z1\n",
    "x2=int(input('Enter any value:'))\n",
    "exponent(x2)"
   ]
  },
  {
   "cell_type": "code",
   "execution_count": null,
   "id": "a72db7f2-bdc1-4d2c-80b5-743b2a77b515",
   "metadata": {},
   "outputs": [],
   "source": [
    "# Waf to print Greeting message \"Congratulations! + Yourname\""
   ]
  },
  {
   "cell_type": "code",
   "execution_count": null,
   "id": "b3bd86a1-11aa-4db2-bbc5-569fc31e5dc3",
   "metadata": {},
   "outputs": [],
   "source": [
    "z=3*x+1.618*y"
   ]
  },
  {
   "cell_type": "code",
   "execution_count": 46,
   "id": "a59c006d-c9fd-47de-929e-1deb4063329b",
   "metadata": {},
   "outputs": [
    {
     "name": "stdin",
     "output_type": "stream",
     "text": [
      "Enter first value: 2\n",
      "Enter second value: 3\n"
     ]
    },
    {
     "data": {
      "text/plain": [
       "10.854"
      ]
     },
     "execution_count": 46,
     "metadata": {},
     "output_type": "execute_result"
    }
   ],
   "source": [
    "def func():\n",
    "    x=float(input('Enter first value:'))\n",
    "    y=float(input('Enter second value:'))\n",
    "    z=3*x+1.618*y\n",
    "    return z\n",
    "\n",
    "func()"
   ]
  },
  {
   "cell_type": "code",
   "execution_count": 47,
   "id": "84cea18d-688a-4e85-8efa-8546166aff24",
   "metadata": {},
   "outputs": [
    {
     "name": "stdin",
     "output_type": "stream",
     "text": [
      "Enter first value: 78\n",
      "Enter second value: 96\n"
     ]
    },
    {
     "data": {
      "text/plain": [
       "389.328"
      ]
     },
     "execution_count": 47,
     "metadata": {},
     "output_type": "execute_result"
    }
   ],
   "source": [
    "func()"
   ]
  },
  {
   "cell_type": "code",
   "execution_count": 48,
   "id": "0aba53e3-a599-463e-9101-fb3bcc483975",
   "metadata": {},
   "outputs": [
    {
     "name": "stdin",
     "output_type": "stream",
     "text": [
      "Enter first number: 45\n",
      "Enter second number: 63\n"
     ]
    },
    {
     "data": {
      "text/plain": [
       "108"
      ]
     },
     "execution_count": 48,
     "metadata": {},
     "output_type": "execute_result"
    }
   ],
   "source": [
    "def addition():\n",
    "    \n",
    "    s1=int(input('Enter first number:'))\n",
    "    s2=int(input('Enter second number:'))\n",
    "    z=s1+s2\n",
    "    return z\n",
    "\n",
    "\n",
    "\n",
    "addition()"
   ]
  },
  {
   "cell_type": "code",
   "execution_count": 49,
   "id": "5596a9af-e86c-4dab-8502-3f7ada85c8b3",
   "metadata": {},
   "outputs": [
    {
     "name": "stdin",
     "output_type": "stream",
     "text": [
      "Enter first number: 63\n",
      "Enter second number: 96\n"
     ]
    },
    {
     "data": {
      "text/plain": [
       "159"
      ]
     },
     "execution_count": 49,
     "metadata": {},
     "output_type": "execute_result"
    }
   ],
   "source": [
    "addition()"
   ]
  },
  {
   "cell_type": "code",
   "execution_count": 53,
   "id": "db42a7b1-c846-4233-bc3d-151350856ff2",
   "metadata": {},
   "outputs": [
    {
     "name": "stdin",
     "output_type": "stream",
     "text": [
      "Enter your range: 20\n"
     ]
    },
    {
     "name": "stdout",
     "output_type": "stream",
     "text": [
      "Sum of your total number is: 210\n"
     ]
    }
   ],
   "source": [
    "sum=0\n",
    "x=int(input('Enter your range:'))\n",
    "for i in range(1,x+1):\n",
    "    sum+=i\n",
    "print(\"Sum of your total number is:\",sum)"
   ]
  },
  {
   "cell_type": "code",
   "execution_count": 54,
   "id": "14d2dd2d-0a7c-40e1-8d32-b1f3450e8dad",
   "metadata": {},
   "outputs": [
    {
     "name": "stdin",
     "output_type": "stream",
     "text": [
      "Enter your range: 30\n"
     ]
    },
    {
     "name": "stdout",
     "output_type": "stream",
     "text": [
      "Sum of your total number is: 465\n"
     ]
    }
   ],
   "source": [
    "def func1():\n",
    "    sum=0\n",
    "    x=int(input('Enter your range:'))\n",
    "    for i in range(1,x+1):\n",
    "        sum+=i\n",
    "    print(\"Sum of your total number is:\",sum)\n",
    "func1()"
   ]
  },
  {
   "cell_type": "code",
   "execution_count": 55,
   "id": "68343332-c6a1-4d9a-9f7b-b256d80a6db1",
   "metadata": {},
   "outputs": [
    {
     "name": "stdin",
     "output_type": "stream",
     "text": [
      "Enter your range: 50\n"
     ]
    },
    {
     "name": "stdout",
     "output_type": "stream",
     "text": [
      "Sum of your total number is: 1275\n"
     ]
    }
   ],
   "source": [
    "func1()"
   ]
  },
  {
   "cell_type": "code",
   "execution_count": 16,
   "id": "236003ca-9a23-4feb-9aea-41fb1758cf3d",
   "metadata": {},
   "outputs": [
    {
     "name": "stdin",
     "output_type": "stream",
     "text": [
      "Enter your range: 10\n"
     ]
    },
    {
     "name": "stdout",
     "output_type": "stream",
     "text": [
      "Odd numbers is: [1, 3, 5, 7, 9] \n",
      "Total of your list is: 25\n"
     ]
    }
   ],
   "source": [
    "sum1=0\n",
    "list1=[]\n",
    "x=int(input('Enter your range:'))\n",
    "for i in range(1,x+1):\n",
    "    if i%2!=0:\n",
    "        list1.append(i)\n",
    "print(\"Odd numbers is:\",list1,\"\\nTotal of your list is:\",sum(list1))"
   ]
  },
  {
   "cell_type": "code",
   "execution_count": 14,
   "id": "aaf77422-d317-424b-8cd2-a257515066e2",
   "metadata": {},
   "outputs": [
    {
     "name": "stdin",
     "output_type": "stream",
     "text": [
      "Enter any number: 100\n"
     ]
    },
    {
     "name": "stdout",
     "output_type": "stream",
     "text": [
      "List of your odd numbers: [1, 3, 5, 7, 9, 11, 13, 15, 17, 19, 21, 23, 25, 27, 29, 31, 33, 35, 37, 39, 41, 43, 45, 47, 49, 51, 53, 55, 57, 59, 61, 63, 65, 67, 69, 71, 73, 75, 77, 79, 81, 83, 85, 87, 89, 91, 93, 95, 97, 99] \n",
      "Sum of your list is: 2500\n"
     ]
    }
   ],
   "source": [
    "i=0\n",
    "list2=[]\n",
    "user1=int(input('Enter any number:'))\n",
    "while i<=user1:\n",
    "    if i%2!=0:\n",
    "        list2.append(i)\n",
    "    i+=1\n",
    "print('List of your odd numbers:',list2,'\\nSum of your list is:',sum(list2))"
   ]
  },
  {
   "cell_type": "code",
   "execution_count": 3,
   "id": "8e34e129-ffc9-49a2-bd96-7ca94c473635",
   "metadata": {},
   "outputs": [
    {
     "name": "stdin",
     "output_type": "stream",
     "text": [
      "Enter your range: 5\n",
      "Enter your number here 1: 21\n",
      "Enter your number here 2: 22\n",
      "Enter your number here 3: 23\n",
      "Enter your number here 4: 24\n",
      "Enter your number here 5: 25\n"
     ]
    },
    {
     "name": "stdout",
     "output_type": "stream",
     "text": [
      "User input list: [21, 22, 23, 24, 25] \n",
      "Even number list: [22, 24] = 46 \n",
      "Odd number list: [21, 23, 25] = 69\n"
     ]
    }
   ],
   "source": [
    "# wap to find the sum of even or odd number take 10 input from user \n",
    "\n",
    "def func():\n",
    "    list_1=[]\n",
    "    even_list=[]\n",
    "    sum_even=0\n",
    "    odd_list=[]\n",
    "    sum_odd=0\n",
    "    i=1\n",
    "    range=int(input('Enter your range:'))\n",
    "    while i<=range:\n",
    "        user1=int(input(f'Enter your number here {i}:'))\n",
    "        list_1.append(user1)\n",
    "        i+=1\n",
    "        if user1%2==0:\n",
    "            even_list.append(user1)\n",
    "            sum_even+=user1\n",
    "        elif user1%2!=0:\n",
    "            odd_list.append(user1)\n",
    "            sum_odd+=user1\n",
    "    print(\"User input list:\",list_1,'\\nEven number list:',even_list,'=',sum_even,'\\nOdd number list:',odd_list,'=',sum_odd)\n",
    "\n",
    "func()"
   ]
  },
  {
   "cell_type": "code",
   "execution_count": null,
   "id": "a1d96553-cf01-4edc-9a09-8c83d21722fb",
   "metadata": {},
   "outputs": [],
   "source": []
  },
  {
   "cell_type": "code",
   "execution_count": null,
   "id": "34859b4e-3014-42bc-9a44-d5b76aa7472c",
   "metadata": {},
   "outputs": [],
   "source": []
  },
  {
   "cell_type": "code",
   "execution_count": null,
   "id": "adbc6a6c-8be9-4107-a43e-5e93dd21db47",
   "metadata": {},
   "outputs": [],
   "source": []
  },
  {
   "cell_type": "code",
   "execution_count": null,
   "id": "78a422dd-b1ee-4721-8450-4e41de48a457",
   "metadata": {},
   "outputs": [],
   "source": []
  },
  {
   "cell_type": "code",
   "execution_count": null,
   "id": "9bff6a42-da07-410e-9513-70d57866b261",
   "metadata": {},
   "outputs": [],
   "source": []
  },
  {
   "cell_type": "code",
   "execution_count": null,
   "id": "5b6f6e0c-aaa4-474e-8351-8a15f12857a0",
   "metadata": {},
   "outputs": [],
   "source": []
  },
  {
   "cell_type": "code",
   "execution_count": null,
   "id": "969f3a3a-7433-4d99-8877-223e60172f9a",
   "metadata": {},
   "outputs": [],
   "source": []
  },
  {
   "cell_type": "code",
   "execution_count": null,
   "id": "2a0aa2d8-7abe-43c5-a8e8-4802e07783c2",
   "metadata": {},
   "outputs": [],
   "source": []
  },
  {
   "cell_type": "code",
   "execution_count": null,
   "id": "e6b4b6af-39ed-4105-8d9d-0e80cb21bc1e",
   "metadata": {},
   "outputs": [],
   "source": []
  }
 ],
 "metadata": {
  "kernelspec": {
   "display_name": "Python 3 (ipykernel)",
   "language": "python",
   "name": "python3"
  },
  "language_info": {
   "codemirror_mode": {
    "name": "ipython",
    "version": 3
   },
   "file_extension": ".py",
   "mimetype": "text/x-python",
   "name": "python",
   "nbconvert_exporter": "python",
   "pygments_lexer": "ipython3",
   "version": "3.11.4"
  }
 },
 "nbformat": 4,
 "nbformat_minor": 5
}
