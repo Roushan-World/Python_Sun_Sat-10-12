{
 "cells": [
  {
   "cell_type": "markdown",
   "id": "5ed0b83e-42f6-40ab-81de-bc6603f7c1b7",
   "metadata": {},
   "source": [
    "# Python Basic"
   ]
  },
  {
   "cell_type": "code",
   "execution_count": 3,
   "id": "cf8ef199-aba3-4d22-a63d-a4c2e27f365e",
   "metadata": {},
   "outputs": [],
   "source": [
    "#python Basic"
   ]
  },
  {
   "cell_type": "code",
   "execution_count": 6,
   "id": "9915fea2-37e2-40a7-9fbe-f9ce37b0a3b3",
   "metadata": {},
   "outputs": [
    {
     "name": "stdout",
     "output_type": "stream",
     "text": [
      "Hello world\n",
      "New Year\n"
     ]
    }
   ],
   "source": [
    "print(\"Hello world\")\n",
    "print('New Year')"
   ]
  },
  {
   "cell_type": "code",
   "execution_count": 8,
   "id": "3eac624d-629a-42b3-806f-c43183e56d52",
   "metadata": {},
   "outputs": [
    {
     "name": "stdout",
     "output_type": "stream",
     "text": [
      "Hello world\n"
     ]
    },
    {
     "data": {
      "text/plain": [
       "'New Year'"
      ]
     },
     "execution_count": 8,
     "metadata": {},
     "output_type": "execute_result"
    }
   ],
   "source": [
    "print('Hello world')\n",
    "'New Year'"
   ]
  },
  {
   "cell_type": "code",
   "execution_count": 11,
   "id": "2581b54e-5c82-4589-ba38-fbc0a40a451d",
   "metadata": {},
   "outputs": [
    {
     "name": "stdout",
     "output_type": "stream",
     "text": [
      "Hello World\n",
      "Hello World\n"
     ]
    }
   ],
   "source": [
    "print('Hello World')\n",
    "print(\"Hello World\")"
   ]
  },
  {
   "cell_type": "code",
   "execution_count": 10,
   "id": "305140e0-53fa-41aa-9b73-a88d601771bd",
   "metadata": {},
   "outputs": [
    {
     "data": {
      "text/plain": [
       "'Hello World'"
      ]
     },
     "execution_count": 10,
     "metadata": {},
     "output_type": "execute_result"
    }
   ],
   "source": [
    "'''Hello World'''"
   ]
  },
  {
   "cell_type": "code",
   "execution_count": 9,
   "id": "3591b5bf-165d-4fe8-9c86-e38a14bc73f0",
   "metadata": {},
   "outputs": [
    {
     "data": {
      "text/plain": [
       "' Hello world'"
      ]
     },
     "execution_count": 9,
     "metadata": {},
     "output_type": "execute_result"
    }
   ],
   "source": [
    "\"\"\" Hello world\"\"\""
   ]
  },
  {
   "cell_type": "code",
   "execution_count": 12,
   "id": "a61a09af-927d-4fad-8d36-e82db3abbc18",
   "metadata": {},
   "outputs": [
    {
     "ename": "SyntaxError",
     "evalue": "invalid syntax. Perhaps you forgot a comma? (3449611317.py, line 1)",
     "output_type": "error",
     "traceback": [
      "\u001b[1;36m  Cell \u001b[1;32mIn[12], line 1\u001b[1;36m\u001b[0m\n\u001b[1;33m    print(Hello world)\u001b[0m\n\u001b[1;37m          ^\u001b[0m\n\u001b[1;31mSyntaxError\u001b[0m\u001b[1;31m:\u001b[0m invalid syntax. Perhaps you forgot a comma?\n"
     ]
    }
   ],
   "source": [
    "print(Hello world)"
   ]
  },
  {
   "cell_type": "code",
   "execution_count": 13,
   "id": "134e7a14-fde0-4c85-a39a-d623fa72570a",
   "metadata": {},
   "outputs": [
    {
     "name": "stdout",
     "output_type": "stream",
     "text": [
      "123\n"
     ]
    }
   ],
   "source": [
    "print('123')"
   ]
  },
  {
   "cell_type": "code",
   "execution_count": 14,
   "id": "99f8d47c-029a-412a-a191-4f0c9464e643",
   "metadata": {},
   "outputs": [
    {
     "name": "stdout",
     "output_type": "stream",
     "text": [
      "123\n"
     ]
    }
   ],
   "source": [
    "print(123)"
   ]
  },
  {
   "cell_type": "code",
   "execution_count": 15,
   "id": "d2898d5e-5711-4e10-b527-078653327048",
   "metadata": {},
   "outputs": [
    {
     "name": "stdout",
     "output_type": "stream",
     "text": [
      "True\n"
     ]
    }
   ],
   "source": [
    "print('True')"
   ]
  },
  {
   "cell_type": "code",
   "execution_count": 20,
   "id": "167a6697-5d85-4287-8046-8d0e2d034f13",
   "metadata": {},
   "outputs": [
    {
     "name": "stdout",
     "output_type": "stream",
     "text": [
      "true\n"
     ]
    }
   ],
   "source": [
    "print('true')"
   ]
  },
  {
   "cell_type": "code",
   "execution_count": 17,
   "id": "3cd73923-f35e-4913-ab60-b7344da8517e",
   "metadata": {},
   "outputs": [
    {
     "ename": "SyntaxError",
     "evalue": "invalid syntax. Perhaps you forgot a comma? (3449611317.py, line 1)",
     "output_type": "error",
     "traceback": [
      "\u001b[1;36m  Cell \u001b[1;32mIn[17], line 1\u001b[1;36m\u001b[0m\n\u001b[1;33m    print(Hello world)\u001b[0m\n\u001b[1;37m          ^\u001b[0m\n\u001b[1;31mSyntaxError\u001b[0m\u001b[1;31m:\u001b[0m invalid syntax. Perhaps you forgot a comma?\n"
     ]
    }
   ],
   "source": [
    "print(Hello world)"
   ]
  },
  {
   "cell_type": "code",
   "execution_count": 18,
   "id": "f0e13ebe-0497-44bb-a16b-3738551dbda4",
   "metadata": {},
   "outputs": [
    {
     "name": "stdout",
     "output_type": "stream",
     "text": [
      "Hello world\n"
     ]
    }
   ],
   "source": [
    "print('Hello world')"
   ]
  },
  {
   "cell_type": "code",
   "execution_count": 21,
   "id": "faed9d8d-8792-407d-a0e0-bcdc040c21d6",
   "metadata": {},
   "outputs": [
    {
     "name": "stdout",
     "output_type": "stream",
     "text": [
      "123+5\n"
     ]
    }
   ],
   "source": [
    "print('123+5')"
   ]
  },
  {
   "cell_type": "code",
   "execution_count": 22,
   "id": "1d92b931-60e7-4a52-82df-7a4e9066ff73",
   "metadata": {},
   "outputs": [
    {
     "name": "stdout",
     "output_type": "stream",
     "text": [
      "128\n"
     ]
    }
   ],
   "source": [
    "print(123+5)"
   ]
  },
  {
   "cell_type": "code",
   "execution_count": 25,
   "id": "db9fe329-ed31-4037-8515-deeeb8541a88",
   "metadata": {},
   "outputs": [
    {
     "name": "stdout",
     "output_type": "stream",
     "text": [
      "What's your name?\n"
     ]
    }
   ],
   "source": [
    "print(\"What's your name?\")"
   ]
  },
  {
   "cell_type": "code",
   "execution_count": 29,
   "id": "94da000b-a9c0-465b-a3c2-8bf3de1a2dd3",
   "metadata": {},
   "outputs": [
    {
     "name": "stdout",
     "output_type": "stream",
     "text": [
      "Hello world\n",
      "Hello world\n",
      "Hello world\n",
      "Hello world\n"
     ]
    }
   ],
   "source": [
    "print('Hello world')\n",
    "print(\"Hello world\")\n",
    "print('Hello world')\n",
    "print('Hello world')"
   ]
  },
  {
   "cell_type": "markdown",
   "id": "743377f8-e965-401f-b4f5-fb0eaa5b9df4",
   "metadata": {},
   "source": [
    "# Data types in Python\n",
    "\n"
   ]
  },
  {
   "cell_type": "code",
   "execution_count": 37,
   "id": "1c9fd485-3fa3-4eda-b167-808cf2ee10e4",
   "metadata": {},
   "outputs": [
    {
     "name": "stdout",
     "output_type": "stream",
     "text": [
      "Hello world\n",
      "1452\n",
      "125\n",
      "100\n",
      "100.23\n",
      "200.35\n",
      "True\n",
      "False\n"
     ]
    }
   ],
   "source": [
    "# 1. String \n",
    "print('Hello world')\n",
    "print('1452')\n",
    "\n",
    "#2. integer\n",
    "print(125)\n",
    "print(100)\n",
    "\n",
    "# 3. float\n",
    "print(100.23)\n",
    "print(200.35)\n",
    "\n",
    "#4. Boolean\n",
    "\n",
    "print(True)\n",
    "print(False)"
   ]
  },
  {
   "cell_type": "markdown",
   "id": "d592c87f-3a9d-4ccf-a887-8f51bcbed0b9",
   "metadata": {},
   "source": [
    "# type() function"
   ]
  },
  {
   "cell_type": "code",
   "execution_count": 42,
   "id": "fe468219-aeed-4b1c-860e-3078be98df76",
   "metadata": {},
   "outputs": [
    {
     "name": "stdout",
     "output_type": "stream",
     "text": [
      "<class 'str'>\n",
      "<class 'int'>\n",
      "<class 'float'>\n",
      "<class 'bool'>\n"
     ]
    }
   ],
   "source": [
    "print(type('Hello world'))\n",
    "\n",
    "print(type(125))\n",
    "\n",
    "\n",
    "print(type(100.23))\n",
    "\n",
    "print(type(True))"
   ]
  },
  {
   "cell_type": "code",
   "execution_count": 43,
   "id": "79d0fc82-4301-4c15-bb7f-9a57ecde7833",
   "metadata": {},
   "outputs": [
    {
     "data": {
      "text/plain": [
       "[10, 20, 30]"
      ]
     },
     "execution_count": 43,
     "metadata": {},
     "output_type": "execute_result"
    }
   ],
   "source": [
    "x=[10,20,30]\n",
    "x"
   ]
  },
  {
   "cell_type": "code",
   "execution_count": 48,
   "id": "22099032-c0db-44b3-815d-084b0c8faa2e",
   "metadata": {},
   "outputs": [],
   "source": [
    "x1='Hello world'"
   ]
  },
  {
   "cell_type": "code",
   "execution_count": 49,
   "id": "2cebe3f8-3f1a-422c-839e-5a843214f415",
   "metadata": {},
   "outputs": [
    {
     "data": {
      "text/plain": [
       "'Hello world'"
      ]
     },
     "execution_count": 49,
     "metadata": {},
     "output_type": "execute_result"
    }
   ],
   "source": [
    "x1"
   ]
  },
  {
   "cell_type": "code",
   "execution_count": 1,
   "id": "3a3b7811-78f6-41e4-9d1d-ad4e9516c246",
   "metadata": {},
   "outputs": [
    {
     "name": "stdout",
     "output_type": "stream",
     "text": [
      "Hello world\n"
     ]
    }
   ],
   "source": [
    "print('Hello world')"
   ]
  },
  {
   "cell_type": "code",
   "execution_count": 2,
   "id": "ee1a0ebf-c0bb-43d6-94ff-d538025f6f96",
   "metadata": {},
   "outputs": [
    {
     "ename": "SyntaxError",
     "evalue": "invalid syntax. Perhaps you forgot a comma? (3449611317.py, line 1)",
     "output_type": "error",
     "traceback": [
      "\u001b[1;36m  Cell \u001b[1;32mIn[2], line 1\u001b[1;36m\u001b[0m\n\u001b[1;33m    print(Hello world)\u001b[0m\n\u001b[1;37m          ^\u001b[0m\n\u001b[1;31mSyntaxError\u001b[0m\u001b[1;31m:\u001b[0m invalid syntax. Perhaps you forgot a comma?\n"
     ]
    }
   ],
   "source": [
    "print(Hello world)"
   ]
  },
  {
   "cell_type": "code",
   "execution_count": 16,
   "id": "24b175bd-683e-47de-a4c9-076195ac160b",
   "metadata": {},
   "outputs": [
    {
     "name": "stdout",
     "output_type": "stream",
     "text": [
      "Hello world\n",
      "Good Afternoon\n",
      "45\n",
      "45\n",
      "100\n",
      "2161651651\n",
      "45.0\n",
      "100.56\n",
      "True\n",
      "False\n"
     ]
    }
   ],
   "source": [
    "# string   # List # Tuple # Dict # Set\n",
    "\n",
    "print('Hello world')\n",
    "print('Good Afternoon')\n",
    "print('45')\n",
    "\n",
    "# Integer\n",
    "print(45)\n",
    "print(100)\n",
    "print(2161651651)\n",
    "\n",
    "\n",
    "# float\n",
    "print(45.0)\n",
    "print(100.56)\n",
    "\n",
    "# Boolean\n",
    "\n",
    "print(True)  # 1\n",
    "print(False)  # 0\n"
   ]
  },
  {
   "cell_type": "code",
   "execution_count": null,
   "id": "35176321-6fa7-4414-a555-7418c71c040d",
   "metadata": {},
   "outputs": [],
   "source": [
    "# string   # List # Tuple # Dict # Set\n",
    "\n",
    "print('Hello world')\n",
    "print('Good Afternoon')\n",
    "print('45')\n",
    "\n",
    "# Integer\n",
    "print(45)\n",
    "print(100)\n",
    "print(2161651651)\n",
    "\n",
    "\n",
    "# float\n",
    "print(45.0)\n",
    "print(100.56)\n",
    "\n",
    "# Boolean\n",
    "\n",
    "print(True)  # 1\n",
    "print(False)  # 0"
   ]
  },
  {
   "cell_type": "code",
   "execution_count": 21,
   "id": "f394944a-0f8e-404d-87bb-5b4031428407",
   "metadata": {},
   "outputs": [
    {
     "name": "stdout",
     "output_type": "stream",
     "text": [
      "<class 'str'>\n",
      "<class 'int'>\n",
      "<class 'float'>\n",
      "<class 'bool'>\n"
     ]
    }
   ],
   "source": [
    "print(type('Hello world'))\n",
    "\n",
    "# integer\n",
    "print(type(100))\n",
    "\n",
    "\n",
    "# float\n",
    "print(type(100.23))\n",
    "\n",
    "# bool\n",
    "print(type(True))"
   ]
  },
  {
   "cell_type": "code",
   "execution_count": 22,
   "id": "2a552e3e-cec8-4a85-95f1-0a66c7e94675",
   "metadata": {},
   "outputs": [
    {
     "name": "stdout",
     "output_type": "stream",
     "text": [
      "@ ! #\n"
     ]
    }
   ],
   "source": [
    "# symbol\n",
    "\n",
    "print('@ ! #')"
   ]
  },
  {
   "cell_type": "code",
   "execution_count": 23,
   "id": "03ca831b-5921-4e42-920d-4b89025ec0f8",
   "metadata": {},
   "outputs": [
    {
     "name": "stdout",
     "output_type": "stream",
     "text": [
      "<class 'str'>\n"
     ]
    }
   ],
   "source": [
    "print(type('@ ! #'))"
   ]
  },
  {
   "cell_type": "markdown",
   "id": "3dca370b-d67e-45b3-b484-cb3699ef5547",
   "metadata": {},
   "source": [
    "# Data conversion\n",
    "# Data typecasting"
   ]
  },
  {
   "cell_type": "code",
   "execution_count": 26,
   "id": "297f7bca-2fcf-4f28-b3c8-fcc641b37aed",
   "metadata": {},
   "outputs": [
    {
     "name": "stdout",
     "output_type": "stream",
     "text": [
      "6\n",
      "<class 'int'>\n"
     ]
    }
   ],
   "source": [
    "number=6\n",
    "print(number)\n",
    "print(type(number))"
   ]
  },
  {
   "cell_type": "code",
   "execution_count": 28,
   "id": "6d2a5e27-afc7-4a46-8ed5-69ccb84bc3a3",
   "metadata": {},
   "outputs": [
    {
     "name": "stdout",
     "output_type": "stream",
     "text": [
      "6\n",
      "6.0\n"
     ]
    }
   ],
   "source": [
    "print(number)\n",
    "print(float(number))"
   ]
  },
  {
   "cell_type": "code",
   "execution_count": 32,
   "id": "9c6b61ae-a68d-4f81-b1f0-a44462a3e507",
   "metadata": {},
   "outputs": [
    {
     "name": "stdout",
     "output_type": "stream",
     "text": [
      "3.14\n",
      "<class 'float'>\n",
      "3\n",
      "<class 'int'>\n"
     ]
    }
   ],
   "source": [
    "num=3.14\n",
    "print(num)\n",
    "print(type(num))\n",
    "\n",
    "print(int(num))\n",
    "print(type(int(num)))"
   ]
  },
  {
   "cell_type": "code",
   "execution_count": null,
   "id": "bfcaec5b-4d42-4579-aa52-38ddc1a8e98e",
   "metadata": {},
   "outputs": [],
   "source": [
    "bool=True\n",
    "\n"
   ]
  },
  {
   "cell_type": "code",
   "execution_count": 33,
   "id": "41aca61b-8bf3-488d-81ed-06c35c1a683c",
   "metadata": {},
   "outputs": [
    {
     "name": "stdout",
     "output_type": "stream",
     "text": [
      "\n"
     ]
    },
    {
     "ename": "TypeError",
     "evalue": "type() takes 1 or 3 arguments",
     "output_type": "error",
     "traceback": [
      "\u001b[1;31m---------------------------------------------------------------------------\u001b[0m",
      "\u001b[1;31mTypeError\u001b[0m                                 Traceback (most recent call last)",
      "Cell \u001b[1;32mIn[33], line 2\u001b[0m\n\u001b[0;32m      1\u001b[0m \u001b[38;5;28mprint\u001b[39m()\n\u001b[1;32m----> 2\u001b[0m \u001b[38;5;28;43mtype\u001b[39;49m\u001b[43m(\u001b[49m\u001b[43m)\u001b[49m\n",
      "\u001b[1;31mTypeError\u001b[0m: type() takes 1 or 3 arguments"
     ]
    }
   ],
   "source": [
    "print()\n",
    "type()\n"
   ]
  },
  {
   "cell_type": "code",
   "execution_count": 34,
   "id": "53d25d1d-bd00-4023-a0c5-2cd917b787ea",
   "metadata": {},
   "outputs": [],
   "source": [
    "x=False  # int=0 # float=0.0  # str=False"
   ]
  },
  {
   "cell_type": "markdown",
   "id": "d074d28b-d953-45c1-9935-2c0acc63afb1",
   "metadata": {},
   "source": [
    "# Expression and variables"
   ]
  },
  {
   "cell_type": "code",
   "execution_count": 35,
   "id": "d7186c00-6486-4144-9ef0-339bf5ec3991",
   "metadata": {},
   "outputs": [
    {
     "data": {
      "text/plain": [
       "-3370"
      ]
     },
     "execution_count": 35,
     "metadata": {},
     "output_type": "execute_result"
    }
   ],
   "source": [
    "x=56+78+95-45*78-89\n",
    "x"
   ]
  },
  {
   "cell_type": "code",
   "execution_count": 36,
   "id": "9a42efc8-5517-40b1-b829-35ba0bf53cee",
   "metadata": {},
   "outputs": [
    {
     "data": {
      "text/plain": [
       "176"
      ]
     },
     "execution_count": 36,
     "metadata": {},
     "output_type": "execute_result"
    }
   ],
   "source": [
    "# Addition +\n",
    "\n",
    "x=78+98\n",
    "x"
   ]
  },
  {
   "cell_type": "code",
   "execution_count": 37,
   "id": "dd7a6202-b5e2-4116-aae7-9ba7ceeb3e46",
   "metadata": {},
   "outputs": [
    {
     "data": {
      "text/plain": [
       "18"
      ]
     },
     "execution_count": 37,
     "metadata": {},
     "output_type": "execute_result"
    }
   ],
   "source": [
    "# substration\n",
    "\n",
    "x = 78-60\n",
    "x"
   ]
  },
  {
   "cell_type": "code",
   "execution_count": 38,
   "id": "e13fb453-d91a-4aaa-b64d-0eaa7e35ca09",
   "metadata": {},
   "outputs": [
    {
     "data": {
      "text/plain": [
       "2025"
      ]
     },
     "execution_count": 38,
     "metadata": {},
     "output_type": "execute_result"
    }
   ],
   "source": [
    "# Multiplication\n",
    "\n",
    "x=45*45\n",
    "x"
   ]
  },
  {
   "cell_type": "code",
   "execution_count": 40,
   "id": "ef57028e-16f4-454a-953e-ae9649136866",
   "metadata": {},
   "outputs": [
    {
     "data": {
      "text/plain": [
       "1.5"
      ]
     },
     "execution_count": 40,
     "metadata": {},
     "output_type": "execute_result"
    }
   ],
   "source": [
    "# Division\n",
    "\n",
    "x=3/2   # float division\n",
    "x"
   ]
  },
  {
   "cell_type": "code",
   "execution_count": 41,
   "id": "24b9953b-dcaa-4920-962a-dd5b545ff7e4",
   "metadata": {},
   "outputs": [
    {
     "data": {
      "text/plain": [
       "1"
      ]
     },
     "execution_count": 41,
     "metadata": {},
     "output_type": "execute_result"
    }
   ],
   "source": [
    "# Division\n",
    "\n",
    "x=3//2   # floor division\n",
    "x"
   ]
  },
  {
   "cell_type": "code",
   "execution_count": 42,
   "id": "3e5eff60-8750-4244-a07d-f09b521707dc",
   "metadata": {},
   "outputs": [
    {
     "data": {
      "text/plain": [
       "1"
      ]
     },
     "execution_count": 42,
     "metadata": {},
     "output_type": "execute_result"
    }
   ],
   "source": [
    "# modulus\n",
    "\n",
    "3%2"
   ]
  },
  {
   "cell_type": "code",
   "execution_count": 43,
   "id": "cb689779-937f-461d-8c64-9b9bb75e5ce9",
   "metadata": {},
   "outputs": [
    {
     "data": {
      "text/plain": [
       "2"
      ]
     },
     "execution_count": 43,
     "metadata": {},
     "output_type": "execute_result"
    }
   ],
   "source": [
    "5%3"
   ]
  },
  {
   "cell_type": "code",
   "execution_count": 45,
   "id": "87f3819f-dcc2-41eb-a716-3dd40ede7fa7",
   "metadata": {},
   "outputs": [
    {
     "name": "stdout",
     "output_type": "stream",
     "text": [
      "16\n"
     ]
    }
   ],
   "source": [
    "# Exponent\n",
    "print(4**2)"
   ]
  },
  {
   "cell_type": "code",
   "execution_count": 46,
   "id": "46b04360-af35-471a-b46b-72102b6c7ad5",
   "metadata": {},
   "outputs": [
    {
     "data": {
      "text/plain": [
       "16777216"
      ]
     },
     "execution_count": 46,
     "metadata": {},
     "output_type": "execute_result"
    }
   ],
   "source": [
    "8**8"
   ]
  },
  {
   "cell_type": "code",
   "execution_count": 49,
   "id": "f49840aa-be72-47e2-8f50-8a6a4653e840",
   "metadata": {},
   "outputs": [
    {
     "name": "stdout",
     "output_type": "stream",
     "text": [
      "Minutes: 1200\n"
     ]
    }
   ],
   "source": [
    "one_hrs= 60 # min\n",
    "hrs=20  # hrs\n",
    "minutes= one_hrs*hrs\n",
    "print('Minutes:',minutes)"
   ]
  },
  {
   "cell_type": "code",
   "execution_count": 53,
   "id": "e88ca60b-f180-4e66-b8e9-140281449e14",
   "metadata": {},
   "outputs": [
    {
     "name": "stdout",
     "output_type": "stream",
     "text": [
      "9.666666666666666 Hours\n"
     ]
    }
   ],
   "source": [
    "one_hrs=60\n",
    "minutes=580\n",
    "\n",
    "hours=minutes/one_hrs\n",
    "print(hours,'Hours')"
   ]
  },
  {
   "cell_type": "code",
   "execution_count": null,
   "id": "a8392c38-085b-4f01-9bce-ddd2ee322245",
   "metadata": {},
   "outputs": [],
   "source": []
  }
 ],
 "metadata": {
  "kernelspec": {
   "display_name": "Python 3 (ipykernel)",
   "language": "python",
   "name": "python3"
  },
  "language_info": {
   "codemirror_mode": {
    "name": "ipython",
    "version": 3
   },
   "file_extension": ".py",
   "mimetype": "text/x-python",
   "name": "python",
   "nbconvert_exporter": "python",
   "pygments_lexer": "ipython3",
   "version": "3.11.4"
  }
 },
 "nbformat": 4,
 "nbformat_minor": 5
}
