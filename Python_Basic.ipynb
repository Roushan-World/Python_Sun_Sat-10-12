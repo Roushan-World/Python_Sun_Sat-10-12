{
 "cells": [
  {
   "cell_type": "code",
   "execution_count": 3,
   "id": "df36ebd2-f68b-4f14-8114-b18c5e9c921e",
   "metadata": {},
   "outputs": [
    {
     "name": "stdout",
     "output_type": "stream",
     "text": [
      "Hello world\n"
     ]
    }
   ],
   "source": [
    "print(\"Hello world\")"
   ]
  },
  {
   "cell_type": "code",
   "execution_count": 5,
   "id": "aa615b87-2315-46ae-9487-ade982c8c45a",
   "metadata": {},
   "outputs": [
    {
     "name": "stdout",
     "output_type": "stream",
     "text": [
      "Hello world\n"
     ]
    }
   ],
   "source": [
    "print(\"Hello world\")"
   ]
  },
  {
   "cell_type": "markdown",
   "id": "e41ffc1f-849f-49bd-bb12-6ee17aac86f4",
   "metadata": {},
   "source": [
    "# Python Baisc"
   ]
  },
  {
   "cell_type": "code",
   "execution_count": 8,
   "id": "f27b5505-fac4-426e-8828-3009d9ec8fd8",
   "metadata": {},
   "outputs": [
    {
     "data": {
      "text/plain": [
       "'Hello World'"
      ]
     },
     "execution_count": 8,
     "metadata": {},
     "output_type": "execute_result"
    }
   ],
   "source": [
    "\"Hello World\""
   ]
  },
  {
   "cell_type": "code",
   "execution_count": 9,
   "id": "e4cb855d-5849-4774-8093-dd4227516233",
   "metadata": {},
   "outputs": [
    {
     "data": {
      "text/plain": [
       "'Hello world'"
      ]
     },
     "execution_count": 9,
     "metadata": {},
     "output_type": "execute_result"
    }
   ],
   "source": [
    "'Hello world'"
   ]
  },
  {
   "cell_type": "code",
   "execution_count": 10,
   "id": "6971661e-6fac-4aea-b118-f8e1798d8965",
   "metadata": {},
   "outputs": [
    {
     "data": {
      "text/plain": [
       "'Hello world'"
      ]
     },
     "execution_count": 10,
     "metadata": {},
     "output_type": "execute_result"
    }
   ],
   "source": [
    "'''Hello world'''"
   ]
  },
  {
   "cell_type": "code",
   "execution_count": 11,
   "id": "d3a76ff0-00fe-4b5b-adaf-0f3aef546d80",
   "metadata": {},
   "outputs": [
    {
     "data": {
      "text/plain": [
       "'Hello world'"
      ]
     },
     "execution_count": 11,
     "metadata": {},
     "output_type": "execute_result"
    }
   ],
   "source": [
    "\"\"\"Hello world\"\"\""
   ]
  },
  {
   "cell_type": "code",
   "execution_count": 12,
   "id": "cae6dfa6-0ba6-47d2-8754-a9315f1ea20f",
   "metadata": {},
   "outputs": [
    {
     "ename": "SyntaxError",
     "evalue": "invalid syntax (71609450.py, line 1)",
     "output_type": "error",
     "traceback": [
      "\u001b[1;36m  Cell \u001b[1;32mIn[12], line 1\u001b[1;36m\u001b[0m\n\u001b[1;33m    Hello world\u001b[0m\n\u001b[1;37m          ^\u001b[0m\n\u001b[1;31mSyntaxError\u001b[0m\u001b[1;31m:\u001b[0m invalid syntax\n"
     ]
    }
   ],
   "source": [
    "Hello world\n"
   ]
  },
  {
   "cell_type": "code",
   "execution_count": 14,
   "id": "36da7f0d-ac90-4485-b075-3b66a851b855",
   "metadata": {},
   "outputs": [],
   "source": [
    "# Python version check\n",
    "import sys\n"
   ]
  },
  {
   "cell_type": "code",
   "execution_count": 15,
   "id": "3ce6aea7-2a15-4def-adfc-abcc3ad8e826",
   "metadata": {},
   "outputs": [
    {
     "name": "stdout",
     "output_type": "stream",
     "text": [
      "3.11.4 (tags/v3.11.4:d2340ef, Jun  7 2023, 05:45:37) [MSC v.1934 64 bit (AMD64)]\n"
     ]
    }
   ],
   "source": [
    "print(sys.version)"
   ]
  },
  {
   "cell_type": "code",
   "execution_count": 16,
   "id": "d47d13c5-2832-47e6-8b25-7bc54d969b4c",
   "metadata": {},
   "outputs": [
    {
     "name": "stdout",
     "output_type": "stream",
     "text": [
      "Help on built-in module sys:\n",
      "\n",
      "NAME\n",
      "    sys\n",
      "\n",
      "MODULE REFERENCE\n",
      "    https://docs.python.org/3.11/library/sys.html\n",
      "    \n",
      "    The following documentation is automatically generated from the Python\n",
      "    source files.  It may be incomplete, incorrect or include features that\n",
      "    are considered implementation detail and may vary between Python\n",
      "    implementations.  When in doubt, consult the module reference at the\n",
      "    location listed above.\n",
      "\n",
      "DESCRIPTION\n",
      "    This module provides access to some objects used or maintained by the\n",
      "    interpreter and to functions that interact strongly with the interpreter.\n",
      "    \n",
      "    Dynamic objects:\n",
      "    \n",
      "    argv -- command line arguments; argv[0] is the script pathname if known\n",
      "    path -- module search path; path[0] is the script directory, else ''\n",
      "    modules -- dictionary of loaded modules\n",
      "    \n",
      "    displayhook -- called to show results in an interactive session\n",
      "    excepthook -- called to handle any uncaught exception other than SystemExit\n",
      "      To customize printing in an interactive session or to install a custom\n",
      "      top-level exception handler, assign other functions to replace these.\n",
      "    \n",
      "    stdin -- standard input file object; used by input()\n",
      "    stdout -- standard output file object; used by print()\n",
      "    stderr -- standard error object; used for error messages\n",
      "      By assigning other file objects (or objects that behave like files)\n",
      "      to these, it is possible to redirect all of the interpreter's I/O.\n",
      "    \n",
      "    last_type -- type of last uncaught exception\n",
      "    last_value -- value of last uncaught exception\n",
      "    last_traceback -- traceback of last uncaught exception\n",
      "      These three are only available in an interactive session after a\n",
      "      traceback has been printed.\n",
      "    \n",
      "    Static objects:\n",
      "    \n",
      "    builtin_module_names -- tuple of module names built into this interpreter\n",
      "    copyright -- copyright notice pertaining to this interpreter\n",
      "    exec_prefix -- prefix used to find the machine-specific Python library\n",
      "    executable -- absolute path of the executable binary of the Python interpreter\n",
      "    float_info -- a named tuple with information about the float implementation.\n",
      "    float_repr_style -- string indicating the style of repr() output for floats\n",
      "    hash_info -- a named tuple with information about the hash algorithm.\n",
      "    hexversion -- version information encoded as a single integer\n",
      "    implementation -- Python implementation information.\n",
      "    int_info -- a named tuple with information about the int implementation.\n",
      "    maxsize -- the largest supported length of containers.\n",
      "    maxunicode -- the value of the largest Unicode code point\n",
      "    platform -- platform identifier\n",
      "    prefix -- prefix used to find the Python library\n",
      "    thread_info -- a named tuple with information about the thread implementation.\n",
      "    version -- the version of this interpreter as a string\n",
      "    version_info -- version information as a named tuple\n",
      "    dllhandle -- [Windows only] integer handle of the Python DLL\n",
      "    winver -- [Windows only] version number of the Python DLL\n",
      "    _enablelegacywindowsfsencoding -- [Windows only]\n",
      "    __stdin__ -- the original stdin; don't touch!\n",
      "    __stdout__ -- the original stdout; don't touch!\n",
      "    __stderr__ -- the original stderr; don't touch!\n",
      "    __displayhook__ -- the original displayhook; don't touch!\n",
      "    __excepthook__ -- the original excepthook; don't touch!\n",
      "    \n",
      "    Functions:\n",
      "    \n",
      "    displayhook() -- print an object to the screen, and save it in builtins._\n",
      "    excepthook() -- print an exception and its traceback to sys.stderr\n",
      "    exception() -- return the current thread's active exception\n",
      "    exc_info() -- return information about the current thread's active exception\n",
      "    exit() -- exit the interpreter by raising SystemExit\n",
      "    getdlopenflags() -- returns flags to be used for dlopen() calls\n",
      "    getprofile() -- get the global profiling function\n",
      "    getrefcount() -- return the reference count for an object (plus one :-)\n",
      "    getrecursionlimit() -- return the max recursion depth for the interpreter\n",
      "    getsizeof() -- return the size of an object in bytes\n",
      "    gettrace() -- get the global debug tracing function\n",
      "    setdlopenflags() -- set the flags to be used for dlopen() calls\n",
      "    setprofile() -- set the global profiling function\n",
      "    setrecursionlimit() -- set the max recursion depth for the interpreter\n",
      "    settrace() -- set the global debug tracing function\n",
      "\n",
      "FUNCTIONS\n",
      "    __breakpointhook__ = breakpointhook(...)\n",
      "        breakpointhook(*args, **kws)\n",
      "        \n",
      "        This hook function is called by built-in breakpoint().\n",
      "    \n",
      "    __displayhook__ = displayhook(object, /)\n",
      "        Print an object to sys.stdout and also save it in builtins._\n",
      "    \n",
      "    __excepthook__ = excepthook(exctype, value, traceback, /)\n",
      "        Handle an exception by displaying it with a traceback on sys.stderr.\n",
      "    \n",
      "    __unraisablehook__ = unraisablehook(unraisable, /)\n",
      "        Handle an unraisable exception.\n",
      "        \n",
      "        The unraisable argument has the following attributes:\n",
      "        \n",
      "        * exc_type: Exception type.\n",
      "        * exc_value: Exception value, can be None.\n",
      "        * exc_traceback: Exception traceback, can be None.\n",
      "        * err_msg: Error message, can be None.\n",
      "        * object: Object causing the exception, can be None.\n",
      "    \n",
      "    addaudithook(hook)\n",
      "        Adds a new audit hook callback.\n",
      "    \n",
      "    audit(...)\n",
      "        audit(event, *args)\n",
      "        \n",
      "        Passes the event to any audit hooks that are attached.\n",
      "    \n",
      "    call_tracing(func, args, /)\n",
      "        Call func(*args), while tracing is enabled.\n",
      "        \n",
      "        The tracing state is saved, and restored afterwards.  This is intended\n",
      "        to be called from a debugger from a checkpoint, to recursively debug\n",
      "        some other code.\n",
      "    \n",
      "    exc_info()\n",
      "        Return current exception information: (type, value, traceback).\n",
      "        \n",
      "        Return information about the most recent exception caught by an except\n",
      "        clause in the current stack frame or in an older stack frame.\n",
      "    \n",
      "    exception()\n",
      "        Return the current exception.\n",
      "        \n",
      "        Return the most recent exception caught by an except clause\n",
      "        in the current stack frame or in an older stack frame, or None\n",
      "        if no such exception exists.\n",
      "    \n",
      "    exit(status=None, /)\n",
      "        Exit the interpreter by raising SystemExit(status).\n",
      "        \n",
      "        If the status is omitted or None, it defaults to zero (i.e., success).\n",
      "        If the status is an integer, it will be used as the system exit status.\n",
      "        If it is another kind of object, it will be printed and the system\n",
      "        exit status will be one (i.e., failure).\n",
      "    \n",
      "    get_asyncgen_hooks()\n",
      "        Return the installed asynchronous generators hooks.\n",
      "        \n",
      "        This returns a namedtuple of the form (firstiter, finalizer).\n",
      "    \n",
      "    get_coroutine_origin_tracking_depth()\n",
      "        Check status of origin tracking for coroutine objects in this thread.\n",
      "    \n",
      "    get_int_max_str_digits()\n",
      "        Return the maximum string digits limit for non-binary int<->str conversions.\n",
      "    \n",
      "    getallocatedblocks()\n",
      "        Return the number of memory blocks currently allocated.\n",
      "    \n",
      "    getdefaultencoding()\n",
      "        Return the current default encoding used by the Unicode implementation.\n",
      "    \n",
      "    getfilesystemencodeerrors()\n",
      "        Return the error mode used Unicode to OS filename conversion.\n",
      "    \n",
      "    getfilesystemencoding()\n",
      "        Return the encoding used to convert Unicode filenames to OS filenames.\n",
      "    \n",
      "    getprofile()\n",
      "        Return the profiling function set with sys.setprofile.\n",
      "        \n",
      "        See the profiler chapter in the library manual.\n",
      "    \n",
      "    getrecursionlimit()\n",
      "        Return the current value of the recursion limit.\n",
      "        \n",
      "        The recursion limit is the maximum depth of the Python interpreter\n",
      "        stack.  This limit prevents infinite recursion from causing an overflow\n",
      "        of the C stack and crashing Python.\n",
      "    \n",
      "    getrefcount(object, /)\n",
      "        Return the reference count of object.\n",
      "        \n",
      "        The count returned is generally one higher than you might expect,\n",
      "        because it includes the (temporary) reference as an argument to\n",
      "        getrefcount().\n",
      "    \n",
      "    getsizeof(...)\n",
      "        getsizeof(object [, default]) -> int\n",
      "        \n",
      "        Return the size of object in bytes.\n",
      "    \n",
      "    getswitchinterval()\n",
      "        Return the current thread switch interval; see sys.setswitchinterval().\n",
      "    \n",
      "    gettrace()\n",
      "        Return the global debug tracing function set with sys.settrace.\n",
      "        \n",
      "        See the debugger chapter in the library manual.\n",
      "    \n",
      "    getwindowsversion()\n",
      "        Return info about the running version of Windows as a named tuple.\n",
      "        \n",
      "        The members are named: major, minor, build, platform, service_pack,\n",
      "        service_pack_major, service_pack_minor, suite_mask, product_type and\n",
      "        platform_version. For backward compatibility, only the first 5 items\n",
      "        are available by indexing. All elements are numbers, except\n",
      "        service_pack and platform_type which are strings, and platform_version\n",
      "        which is a 3-tuple. Platform is always 2. Product_type may be 1 for a\n",
      "        workstation, 2 for a domain controller, 3 for a server.\n",
      "        Platform_version is a 3-tuple containing a version number that is\n",
      "        intended for identifying the OS rather than feature detection.\n",
      "    \n",
      "    intern(string, /)\n",
      "        ``Intern'' the given string.\n",
      "        \n",
      "        This enters the string in the (global) table of interned strings whose\n",
      "        purpose is to speed up dictionary lookups. Return the string itself or\n",
      "        the previously interned string object with the same value.\n",
      "    \n",
      "    is_finalizing()\n",
      "        Return True if Python is exiting.\n",
      "    \n",
      "    set_asyncgen_hooks(...)\n",
      "        set_asyncgen_hooks(* [, firstiter] [, finalizer])\n",
      "        \n",
      "        Set a finalizer for async generators objects.\n",
      "    \n",
      "    set_coroutine_origin_tracking_depth(depth)\n",
      "        Enable or disable origin tracking for coroutine objects in this thread.\n",
      "        \n",
      "        Coroutine objects will track 'depth' frames of traceback information\n",
      "        about where they came from, available in their cr_origin attribute.\n",
      "        \n",
      "        Set a depth of 0 to disable.\n",
      "    \n",
      "    set_int_max_str_digits(maxdigits)\n",
      "        Set the maximum string digits limit for non-binary int<->str conversions.\n",
      "    \n",
      "    setprofile(...)\n",
      "        setprofile(function)\n",
      "        \n",
      "        Set the profiling function.  It will be called on each function call\n",
      "        and return.  See the profiler chapter in the library manual.\n",
      "    \n",
      "    setrecursionlimit(limit, /)\n",
      "        Set the maximum depth of the Python interpreter stack to n.\n",
      "        \n",
      "        This limit prevents infinite recursion from causing an overflow of the C\n",
      "        stack and crashing Python.  The highest possible limit is platform-\n",
      "        dependent.\n",
      "    \n",
      "    setswitchinterval(interval, /)\n",
      "        Set the ideal thread switching delay inside the Python interpreter.\n",
      "        \n",
      "        The actual frequency of switching threads can be lower if the\n",
      "        interpreter executes long sequences of uninterruptible code\n",
      "        (this is implementation-specific and workload-dependent).\n",
      "        \n",
      "        The parameter must represent the desired switching delay in seconds\n",
      "        A typical value is 0.005 (5 milliseconds).\n",
      "    \n",
      "    settrace(...)\n",
      "        settrace(function)\n",
      "        \n",
      "        Set the global debug tracing function.  It will be called on each\n",
      "        function call.  See the debugger chapter in the library manual.\n",
      "    \n",
      "    unraisablehook(unraisable, /)\n",
      "        Handle an unraisable exception.\n",
      "        \n",
      "        The unraisable argument has the following attributes:\n",
      "        \n",
      "        * exc_type: Exception type.\n",
      "        * exc_value: Exception value, can be None.\n",
      "        * exc_traceback: Exception traceback, can be None.\n",
      "        * err_msg: Error message, can be None.\n",
      "        * object: Object causing the exception, can be None.\n",
      "\n",
      "DATA\n",
      "    __stderr__ = <_io.TextIOWrapper name='<stderr>' mode='w' encoding='utf...\n",
      "    __stdin__ = <_io.TextIOWrapper name='<stdin>' mode='r' encoding='cp125...\n",
      "    __stdout__ = <_io.TextIOWrapper name='<stdout>' mode='w' encoding='utf...\n",
      "    api_version = 1013\n",
      "    argv = [r'C:\\Python311\\Lib\\site-packages\\ipykernel_launcher.py', '-f',...\n",
      "    base_exec_prefix = r'C:\\Python311'\n",
      "    base_prefix = r'C:\\Python311'\n",
      "    builtin_module_names = ('_abc', '_ast', '_bisect', '_blake2', '_codecs...\n",
      "    byteorder = 'little'\n",
      "    copyright = 'Copyright (c) 2001-2023 Python Software Foundati...ematis...\n",
      "    displayhook = <ipykernel.displayhook.ZMQShellDisplayHook object>\n",
      "    dllhandle = 140730140721152\n",
      "    dont_write_bytecode = False\n",
      "    exec_prefix = r'C:\\Python311'\n",
      "    executable = r'C:\\Python311\\python.exe'\n",
      "    flags = sys.flags(debug=0, inspect=0, interactive=0, opt...coding=0, s...\n",
      "    float_info = sys.float_info(max=1.7976931348623157e+308, max_...epsilo...\n",
      "    float_repr_style = 'short'\n",
      "    hash_info = sys.hash_info(width=64, modulus=2305843009213693...iphash1...\n",
      "    hexversion = 51053808\n",
      "    implementation = namespace(name='cpython', cache_tag='cpython-311...as...\n",
      "    int_info = sys.int_info(bits_per_digit=30, sizeof_digit=4, ..._str_dig...\n",
      "    last_value = SyntaxError('invalid syntax', ('C:\\\\Users\\\\Admin...100\\\\7...\n",
      "    maxsize = 9223372036854775807\n",
      "    maxunicode = 1114111\n",
      "    meta_path = [<_distutils_hack.DistutilsMetaFinder object>, <class '_fr...\n",
      "    modules = {'IPython': <module 'IPython' from 'C:\\\\Python311\\\\Lib\\\\site...\n",
      "    orig_argv = [r'C:\\Python311\\python.exe', '-m', 'ipykernel_launcher', '...\n",
      "    path = [r'D:\\Python_Batch_Sun_To_Sat', r'C:\\Python311\\python311.zip', ...\n",
      "    path_hooks = [<class 'zipimport.zipimporter'>, <function FileFinder.pa...\n",
      "    path_importer_cache = {r'C:\\Python311': FileFinder('C:\\\\Python311'), r...\n",
      "    platform = 'win32'\n",
      "    platlibdir = 'DLLs'\n",
      "    prefix = r'C:\\Python311'\n",
      "    ps1 = 'In : '\n",
      "    ps2 = '...: '\n",
      "    ps3 = 'Out: '\n",
      "    pycache_prefix = None\n",
      "    stderr = <ipykernel.iostream.OutStream object>\n",
      "    stdin = <_io.TextIOWrapper name='<stdin>' mode='r' encoding='cp1252'>\n",
      "    stdlib_module_names = frozenset({'__future__', '_abc', '_aix_support',...\n",
      "    stdout = <ipykernel.iostream.OutStream object>\n",
      "    thread_info = sys.thread_info(name='nt', lock=None, version=None)\n",
      "    version = '3.11.4 (tags/v3.11.4:d2340ef, Jun  7 2023, 05:45:37) [MSC v...\n",
      "    version_info = sys.version_info(major=3, minor=11, micro=4, releaselev...\n",
      "    warnoptions = []\n",
      "    winver = '3.11'\n",
      "\n",
      "FILE\n",
      "    (built-in)\n",
      "\n",
      "\n"
     ]
    }
   ],
   "source": [
    "help(sys)"
   ]
  },
  {
   "cell_type": "code",
   "execution_count": 18,
   "id": "ab49ad9b-f170-47ae-8f50-5f392935e1dd",
   "metadata": {},
   "outputs": [
    {
     "name": "stdout",
     "output_type": "stream",
     "text": [
      "Hello world\n",
      "123\n"
     ]
    }
   ],
   "source": [
    "print('Hello world')\n",
    "print(\"123\")"
   ]
  },
  {
   "cell_type": "code",
   "execution_count": 19,
   "id": "2e5165d4-bd58-414c-a7c4-657e09c9bf51",
   "metadata": {},
   "outputs": [
    {
     "data": {
      "text/plain": [
       "'123123'"
      ]
     },
     "execution_count": 19,
     "metadata": {},
     "output_type": "execute_result"
    }
   ],
   "source": [
    "'123'+'123'"
   ]
  },
  {
   "cell_type": "code",
   "execution_count": 20,
   "id": "6df21b98-8621-4a7a-8157-8fd4047b13fb",
   "metadata": {},
   "outputs": [
    {
     "data": {
      "text/plain": [
       "246"
      ]
     },
     "execution_count": 20,
     "metadata": {},
     "output_type": "execute_result"
    }
   ],
   "source": [
    "123+123"
   ]
  },
  {
   "cell_type": "code",
   "execution_count": 21,
   "id": "bc9d9f0d-799b-4064-84ef-0c0144757b2a",
   "metadata": {},
   "outputs": [
    {
     "ename": "TypeError",
     "evalue": "can only concatenate str (not \"int\") to str",
     "output_type": "error",
     "traceback": [
      "\u001b[1;31m---------------------------------------------------------------------------\u001b[0m",
      "\u001b[1;31mTypeError\u001b[0m                                 Traceback (most recent call last)",
      "Cell \u001b[1;32mIn[21], line 1\u001b[0m\n\u001b[1;32m----> 1\u001b[0m \u001b[38;5;124;43m'\u001b[39;49m\u001b[38;5;124;43m123\u001b[39;49m\u001b[38;5;124;43m'\u001b[39;49m\u001b[38;5;241;43m+\u001b[39;49m\u001b[38;5;241;43m123\u001b[39;49m\n",
      "\u001b[1;31mTypeError\u001b[0m: can only concatenate str (not \"int\") to str"
     ]
    }
   ],
   "source": [
    "'123'+123"
   ]
  },
  {
   "cell_type": "code",
   "execution_count": 25,
   "id": "51b59798-e688-46a4-90f8-d27f915c99b4",
   "metadata": {},
   "outputs": [
    {
     "name": "stdout",
     "output_type": "stream",
     "text": [
      "Hello world\n",
      "Sainath\n"
     ]
    },
    {
     "ename": "NameError",
     "evalue": "name 'frint' is not defined",
     "output_type": "error",
     "traceback": [
      "\u001b[1;31m---------------------------------------------------------------------------\u001b[0m",
      "\u001b[1;31mNameError\u001b[0m                                 Traceback (most recent call last)",
      "Cell \u001b[1;32mIn[25], line 5\u001b[0m\n\u001b[0;32m      1\u001b[0m \u001b[38;5;28mprint\u001b[39m(\u001b[38;5;124m'\u001b[39m\u001b[38;5;124mHello world\u001b[39m\u001b[38;5;124m'\u001b[39m)\n\u001b[0;32m      3\u001b[0m \u001b[38;5;28mprint\u001b[39m(\u001b[38;5;124m'\u001b[39m\u001b[38;5;124mSainath\u001b[39m\u001b[38;5;124m'\u001b[39m)\n\u001b[1;32m----> 5\u001b[0m \u001b[43mfrint\u001b[49m(\u001b[38;5;124m'\u001b[39m\u001b[38;5;124mHello Python\u001b[39m\u001b[38;5;124m'\u001b[39m)\n",
      "\u001b[1;31mNameError\u001b[0m: name 'frint' is not defined"
     ]
    }
   ],
   "source": [
    "print('Hello world')\n",
    "\n",
    "print('Sainath')\n",
    "\n",
    "frint('Hello Python')"
   ]
  },
  {
   "cell_type": "code",
   "execution_count": 28,
   "id": "93400833-f8a7-4078-aabe-b7c3079f2b8e",
   "metadata": {},
   "outputs": [
    {
     "name": "stdout",
     "output_type": "stream",
     "text": [
      "Hello world\n",
      "sainath\n"
     ]
    }
   ],
   "source": [
    "print('Hello world')\n",
    "\n",
    "print('sainath')"
   ]
  },
  {
   "cell_type": "code",
   "execution_count": 29,
   "id": "d5d5a323-757c-4d3d-9059-ab44bc2bcf3d",
   "metadata": {},
   "outputs": [
    {
     "data": {
      "text/plain": [
       "'Hi Python'"
      ]
     },
     "execution_count": 29,
     "metadata": {},
     "output_type": "execute_result"
    }
   ],
   "source": [
    "'Hi Python'"
   ]
  },
  {
   "cell_type": "code",
   "execution_count": 1,
   "id": "5065911d-37a9-43c6-b748-dd02e350c2d1",
   "metadata": {},
   "outputs": [],
   "source": [
    "import sys"
   ]
  },
  {
   "cell_type": "code",
   "execution_count": 2,
   "id": "49af8d0a-f226-4118-a123-55d63797c7c2",
   "metadata": {},
   "outputs": [
    {
     "name": "stdout",
     "output_type": "stream",
     "text": [
      "3.11.4 (tags/v3.11.4:d2340ef, Jun  7 2023, 05:45:37) [MSC v.1934 64 bit (AMD64)]\n"
     ]
    }
   ],
   "source": [
    "print(sys.version)"
   ]
  },
  {
   "cell_type": "markdown",
   "id": "105e2191-ed91-42b6-91b3-8129a4c55dba",
   "metadata": {},
   "source": [
    "# Expression and Variables."
   ]
  },
  {
   "cell_type": "code",
   "execution_count": 4,
   "id": "a42d3aa1-e04c-486c-b0ad-fcfcb23246fb",
   "metadata": {},
   "outputs": [
    {
     "name": "stdout",
     "output_type": "stream",
     "text": [
      "397\n",
      "<class 'int'>\n"
     ]
    }
   ],
   "source": [
    "# Addition\n",
    "\n",
    "x= 56+89+105+45+102\n",
    "print(x)\n",
    "print(type(x))"
   ]
  },
  {
   "cell_type": "code",
   "execution_count": 5,
   "id": "cd75f83b-8cd1-4f65-abe6-2f14be4a3ebd",
   "metadata": {},
   "outputs": [
    {
     "name": "stdout",
     "output_type": "stream",
     "text": [
      "-128\n"
     ]
    }
   ],
   "source": [
    "#Substraction\n",
    "\n",
    "x1=85-45-66-102\n",
    "print(x1)"
   ]
  },
  {
   "cell_type": "code",
   "execution_count": 6,
   "id": "c4eba479-9606-4df0-b08b-455a42e6b107",
   "metadata": {},
   "outputs": [
    {
     "data": {
      "text/plain": [
       "7225"
      ]
     },
     "execution_count": 6,
     "metadata": {},
     "output_type": "execute_result"
    }
   ],
   "source": [
    "# Multiplication\n",
    "\n",
    "x2=85*85\n",
    "x2"
   ]
  },
  {
   "cell_type": "code",
   "execution_count": 7,
   "id": "22a088a2-8572-48da-b767-08187d740ff1",
   "metadata": {},
   "outputs": [
    {
     "name": "stdout",
     "output_type": "stream",
     "text": [
      "5\n"
     ]
    }
   ],
   "source": [
    "# Divison\n",
    "x3=125//24\n",
    "print(x3)"
   ]
  },
  {
   "cell_type": "code",
   "execution_count": 8,
   "id": "37c3d935-ceac-43a6-a489-27c22a1f7dd0",
   "metadata": {},
   "outputs": [
    {
     "data": {
      "text/plain": [
       "5.208333333333333"
      ]
     },
     "execution_count": 8,
     "metadata": {},
     "output_type": "execute_result"
    }
   ],
   "source": [
    "# Divison\n",
    "x4=125/24\n",
    "x4"
   ]
  },
  {
   "cell_type": "code",
   "execution_count": 10,
   "id": "d2a7278c-ac78-4662-bfbf-5dc73f720866",
   "metadata": {},
   "outputs": [
    {
     "data": {
      "text/plain": [
       "5"
      ]
     },
     "execution_count": 10,
     "metadata": {},
     "output_type": "execute_result"
    }
   ],
   "source": [
    "# modulus\n",
    "\n",
    "x5=125%24\n",
    "x5"
   ]
  },
  {
   "cell_type": "code",
   "execution_count": 11,
   "id": "e0a441a6-f1ee-42c7-99fc-250da9902981",
   "metadata": {},
   "outputs": [
    {
     "data": {
      "text/plain": [
       "1"
      ]
     },
     "execution_count": 11,
     "metadata": {},
     "output_type": "execute_result"
    }
   ],
   "source": [
    "x6=4%3\n",
    "x6"
   ]
  },
  {
   "cell_type": "code",
   "execution_count": 13,
   "id": "bafd9183-2920-4c04-988f-64cb5565d332",
   "metadata": {},
   "outputs": [
    {
     "data": {
      "text/plain": [
       "0"
      ]
     },
     "execution_count": 13,
     "metadata": {},
     "output_type": "execute_result"
    }
   ],
   "source": [
    "x7=125%5\n",
    "x7"
   ]
  },
  {
   "cell_type": "code",
   "execution_count": 14,
   "id": "b5edc1a9-4693-4bc2-bfe5-3f08f90d8e0b",
   "metadata": {},
   "outputs": [
    {
     "data": {
      "text/plain": [
       "8"
      ]
     },
     "execution_count": 14,
     "metadata": {},
     "output_type": "execute_result"
    }
   ],
   "source": [
    "# Exponent\n",
    "\n",
    "x= 2**3\n",
    "x"
   ]
  },
  {
   "cell_type": "code",
   "execution_count": 15,
   "id": "d22adcd2-77fc-4d1a-97aa-96268dfc84b7",
   "metadata": {},
   "outputs": [
    {
     "data": {
      "text/plain": [
       "18"
      ]
     },
     "execution_count": 15,
     "metadata": {},
     "output_type": "execute_result"
    }
   ],
   "source": [
    "x= 2*3**2\n",
    "x"
   ]
  },
  {
   "cell_type": "code",
   "execution_count": 17,
   "id": "fac825f9-66ff-4ced-8e2d-523158ace3e5",
   "metadata": {},
   "outputs": [
    {
     "data": {
      "text/plain": [
       "189517289698684001506169750296591271390775586827581949633470349789965232532245659152678127282129066946428491276945663881891554378154210037610699630490585754223762430084139434521976841689243782185351281909388233352405341022108095846464080043937738132518620508937074256702568367684057726133643849194595019078241297810558113676246899534218764213673912435116171063849866222248589015303216965879663777688134822196031473787391893249233925719007255478027556609308564666608492698955971154739568230223190605968328857020006581307491435622328327941241996678556292975314539658016110470212860003966371936352102818646696910718471513531946516820251811117545934486600051848196141971324784781493768953620531191777889357545657729166878627981814079626274760817140317491869012234679260280319110961601033138748606436541458117177931800813539647198621719220307778496461629669245706515280400538900495613102788737945595759566699567565842595939809906258844634180727420527248956549340674027952379447200584673415080595198687505204456960655649274097301339806458433660740691625284337627093434670319041"
      ]
     },
     "execution_count": 17,
     "metadata": {},
     "output_type": "execute_result"
    }
   ],
   "source": [
    "x=321**427\n",
    "x"
   ]
  },
  {
   "cell_type": "markdown",
   "id": "ebf235ba-19c2-4baa-bfab-cc8ee594ee76",
   "metadata": {},
   "source": [
    "# String"
   ]
  },
  {
   "cell_type": "code",
   "execution_count": 1,
   "id": "9f8f00ae-7602-4376-a3a0-2470effe82d7",
   "metadata": {},
   "outputs": [
    {
     "data": {
      "text/plain": [
       "'Hello World'"
      ]
     },
     "execution_count": 1,
     "metadata": {},
     "output_type": "execute_result"
    }
   ],
   "source": [
    "x2=\"Hello World\"\n",
    "x2"
   ]
  },
  {
   "cell_type": "code",
   "execution_count": 2,
   "id": "37a073a9-1810-4760-aa95-b76e2e2714fa",
   "metadata": {},
   "outputs": [
    {
     "data": {
      "text/plain": [
       "'Hello world'"
      ]
     },
     "execution_count": 2,
     "metadata": {},
     "output_type": "execute_result"
    }
   ],
   "source": [
    "x3='Hello world'\n",
    "x3"
   ]
  },
  {
   "cell_type": "code",
   "execution_count": 4,
   "id": "34a805f6-712d-404e-a87b-7ccaa26e17a6",
   "metadata": {},
   "outputs": [
    {
     "data": {
      "text/plain": [
       "'@#%^&'"
      ]
     },
     "execution_count": 4,
     "metadata": {},
     "output_type": "execute_result"
    }
   ],
   "source": [
    "x4='@#%^&'\n",
    "x4"
   ]
  },
  {
   "cell_type": "code",
   "execution_count": 5,
   "id": "7f267c72-ccc3-4381-af0f-ef12115300cc",
   "metadata": {},
   "outputs": [
    {
     "data": {
      "text/plain": [
       "'123456789'"
      ]
     },
     "execution_count": 5,
     "metadata": {},
     "output_type": "execute_result"
    }
   ],
   "source": [
    "x5='123456789'\n",
    "x5"
   ]
  },
  {
   "cell_type": "code",
   "execution_count": 6,
   "id": "f96046b0-31f2-4f49-a026-1d80644855e7",
   "metadata": {},
   "outputs": [
    {
     "data": {
      "text/plain": [
       "'Hello world'"
      ]
     },
     "execution_count": 6,
     "metadata": {},
     "output_type": "execute_result"
    }
   ],
   "source": [
    "x5=\"Hello world\"\n",
    "x5"
   ]
  },
  {
   "cell_type": "code",
   "execution_count": 9,
   "id": "6e95fb47-ac72-4fd4-b35b-249fb2d65b45",
   "metadata": {},
   "outputs": [
    {
     "name": "stdout",
     "output_type": "stream",
     "text": [
      "H\n",
      "e\n",
      "l\n"
     ]
    }
   ],
   "source": [
    "# positive indexing\n",
    "print(x5[0])\n",
    "print(x5[1])\n",
    "print(x5[2])"
   ]
  },
  {
   "cell_type": "code",
   "execution_count": 13,
   "id": "f879fae5-56e2-4d97-9b16-1eeafad80f1d",
   "metadata": {},
   "outputs": [
    {
     "name": "stdout",
     "output_type": "stream",
     "text": [
      "d\n",
      "l\n",
      "H\n"
     ]
    }
   ],
   "source": [
    "# Negative indexing\n",
    "\n",
    "print(x5[-1])\n",
    "print(x5[-2])\n",
    "print(x5[-11])"
   ]
  },
  {
   "cell_type": "markdown",
   "id": "d127fba6-e654-4b44-ae7b-94ced5448a13",
   "metadata": {},
   "source": [
    "# Slicing of a string"
   ]
  },
  {
   "cell_type": "code",
   "execution_count": 14,
   "id": "7938ed08-0806-4bfa-a9d5-5a1a6e8b387c",
   "metadata": {},
   "outputs": [
    {
     "data": {
      "text/plain": [
       "'Hello world'"
      ]
     },
     "execution_count": 14,
     "metadata": {},
     "output_type": "execute_result"
    }
   ],
   "source": [
    "x=\"Hello world\"\n",
    "x"
   ]
  },
  {
   "cell_type": "code",
   "execution_count": 15,
   "id": "1fdf29d8-602b-4a82-ad8e-43ea50049ff9",
   "metadata": {},
   "outputs": [
    {
     "data": {
      "text/plain": [
       "'Hello'"
      ]
     },
     "execution_count": 15,
     "metadata": {},
     "output_type": "execute_result"
    }
   ],
   "source": [
    "x[0:5]"
   ]
  },
  {
   "cell_type": "code",
   "execution_count": 17,
   "id": "4cb691f0-14b7-4a20-a526-14be30e57984",
   "metadata": {},
   "outputs": [
    {
     "data": {
      "text/plain": [
       "'world'"
      ]
     },
     "execution_count": 17,
     "metadata": {},
     "output_type": "execute_result"
    }
   ],
   "source": [
    "x[6:11]"
   ]
  },
  {
   "cell_type": "code",
   "execution_count": 18,
   "id": "3c8cd1f9-8388-4eab-b08f-784b8feac9cc",
   "metadata": {},
   "outputs": [
    {
     "data": {
      "text/plain": [
       "'ll'"
      ]
     },
     "execution_count": 18,
     "metadata": {},
     "output_type": "execute_result"
    }
   ],
   "source": [
    "x[2:4]"
   ]
  },
  {
   "cell_type": "code",
   "execution_count": 19,
   "id": "2d6767e0-f986-44c1-bd72-82f35b401062",
   "metadata": {},
   "outputs": [
    {
     "data": {
      "text/plain": [
       "'Hello world'"
      ]
     },
     "execution_count": 19,
     "metadata": {},
     "output_type": "execute_result"
    }
   ],
   "source": [
    "x"
   ]
  },
  {
   "cell_type": "code",
   "execution_count": 23,
   "id": "a0e43e57-35da-4fea-b440-2b443355d847",
   "metadata": {},
   "outputs": [
    {
     "data": {
      "text/plain": [
       "'Hlwl'"
      ]
     },
     "execution_count": 23,
     "metadata": {},
     "output_type": "execute_result"
    }
   ],
   "source": [
    "x[::3]"
   ]
  },
  {
   "cell_type": "code",
   "execution_count": 25,
   "id": "f78a4952-6a34-44e2-a28e-ee4f54754920",
   "metadata": {},
   "outputs": [
    {
     "data": {
      "text/plain": [
       "'Hlo'"
      ]
     },
     "execution_count": 25,
     "metadata": {},
     "output_type": "execute_result"
    }
   ],
   "source": [
    "x[0:5:2]"
   ]
  },
  {
   "cell_type": "code",
   "execution_count": 47,
   "id": "2ec599e1-0bb5-40af-b159-fcfecdebeb1d",
   "metadata": {},
   "outputs": [],
   "source": [
    "msg=\"Hello world\\nHow many people are living on the world?\"   #\\n new line\n",
    "\n"
   ]
  },
  {
   "cell_type": "code",
   "execution_count": 48,
   "id": "32b425d9-35ea-48e6-bda0-a8bf374e8790",
   "metadata": {},
   "outputs": [
    {
     "data": {
      "text/plain": [
       "'Hello world\\nHow many people are living on the world?'"
      ]
     },
     "execution_count": 48,
     "metadata": {},
     "output_type": "execute_result"
    }
   ],
   "source": [
    "msg"
   ]
  },
  {
   "cell_type": "markdown",
   "id": "5b000801-69d9-4e7c-a765-33d9f65c68f0",
   "metadata": {},
   "source": [
    "# Escape Sequence "
   ]
  },
  {
   "cell_type": "code",
   "execution_count": 35,
   "id": "a9e02f18-e104-41d1-8948-0e93553a0658",
   "metadata": {},
   "outputs": [
    {
     "data": {
      "text/plain": [
       "'Hello world How many people are living on the world?'"
      ]
     },
     "execution_count": 35,
     "metadata": {},
     "output_type": "execute_result"
    }
   ],
   "source": [
    "statement"
   ]
  },
  {
   "cell_type": "code",
   "execution_count": 36,
   "id": "f6f96dc6-c325-4b94-b51b-166b2d5ca461",
   "metadata": {},
   "outputs": [
    {
     "name": "stdout",
     "output_type": "stream",
     "text": [
      "Hello world\n",
      "How many people are living on the world?\n"
     ]
    }
   ],
   "source": [
    "print('Hello world')\n",
    "print('How many people are living on the world?')"
   ]
  },
  {
   "cell_type": "code",
   "execution_count": 51,
   "id": "1689b9fe-6468-4abc-ab72-ca191fabd9e9",
   "metadata": {},
   "outputs": [
    {
     "name": "stdout",
     "output_type": "stream",
     "text": [
      "Hello world\tHow many people are living on the world\n"
     ]
    }
   ],
   "source": [
    "print('Hello world\\tHow many people are living on the world')"
   ]
  },
  {
   "cell_type": "markdown",
   "id": "9cbbed62-4a87-4816-9e28-cee3936108ff",
   "metadata": {},
   "source": [
    "# String operations"
   ]
  },
  {
   "cell_type": "code",
   "execution_count": 59,
   "id": "903d9127-dff3-4dbd-8b43-216c30a5fbfb",
   "metadata": {},
   "outputs": [
    {
     "name": "stdout",
     "output_type": "stream",
     "text": [
      "After upper case: PYTHON IS A HIGH-LEVEL, GENERAL-PURPOSE PROGRAMMING LANGUAGE. ITS DESIGN PHILOSOPHY EMPHASIZES CODE READABILITY WITH THE USE OF SIGNIFICANT INDENTATION. PYTHON IS DYNAMICALLY TYPED AND GARBAGE-COLLECTED. IT SUPPORTS MULTIPLE PROGRAMMING PARADIGMS, INCLUDING STRUCTURED, OBJECT-ORIENTED AND FUNCTIONAL PROGRAMMING.\n",
      "After title: Python Is A High-Level, General-Purpose Programming Language. Its Design Philosophy Emphasizes Code Readability With The Use Of Significant Indentation. Python Is Dynamically Typed And Garbage-Collected. It Supports Multiple Programming Paradigms, Including Structured, Object-Oriented And Functional Programming.\n",
      "After capitalize: Python is a high-level, general-purpose programming language. its design philosophy emphasizes code readability with the use of significant indentation. python is dynamically typed and garbage-collected. it supports multiple programming paradigms, including structured, object-oriented and functional programming.\n",
      "After lower: python is a high-level, general-purpose programming language. its design philosophy emphasizes code readability with the use of significant indentation. python is dynamically typed and garbage-collected. it supports multiple programming paradigms, including structured, object-oriented and functional programming.\n"
     ]
    }
   ],
   "source": [
    "message=\"python is a high-level, general-purpose programming language. Its design philosophy emphasizes code readability with the use of significant indentation. Python is dynamically typed and garbage-collected. It supports multiple programming paradigms, including structured, object-oriented and functional programming.\"\n",
    "\n",
    "# upper case\n",
    "\n",
    "message_upper=message.upper()\n",
    "print('After upper case:',message_upper)\n",
    "\n",
    "msg_title=message.title()\n",
    "print('After title:',msg_title)\n",
    "\n",
    "# capitalize\n",
    "msg_capital=message.capitalize()\n",
    "print('After capitalize:',msg_capital)\n",
    "\n",
    "# lower\n",
    "\n",
    "msg_lower=message.lower()\n",
    "print('After lower:',msg_lower)\n"
   ]
  },
  {
   "cell_type": "markdown",
   "id": "9be2db6d-e643-4882-839d-443f29519400",
   "metadata": {},
   "source": [
    "# Python String method"
   ]
  },
  {
   "cell_type": "code",
   "execution_count": 60,
   "id": "7462fb8a-c77d-42e9-b239-f5478ab525dd",
   "metadata": {},
   "outputs": [],
   "source": [
    "x=\"Hello World\""
   ]
  },
  {
   "cell_type": "code",
   "execution_count": 61,
   "id": "138978e9-1358-4d78-9ad9-ebd047fd3fa8",
   "metadata": {},
   "outputs": [
    {
     "data": {
      "text/plain": [
       "'Hello World'"
      ]
     },
     "execution_count": 61,
     "metadata": {},
     "output_type": "execute_result"
    }
   ],
   "source": [
    "x"
   ]
  },
  {
   "cell_type": "code",
   "execution_count": 65,
   "id": "9d62941c-9cc9-46d2-a386-45b2af742e06",
   "metadata": {},
   "outputs": [
    {
     "data": {
      "text/plain": [
       "1"
      ]
     },
     "execution_count": 65,
     "metadata": {},
     "output_type": "execute_result"
    }
   ],
   "source": [
    "x1=x.count(\"H\")\n",
    "x1"
   ]
  },
  {
   "cell_type": "code",
   "execution_count": 71,
   "id": "daae4d84-d482-4e68-839b-11bbfa3d1bd1",
   "metadata": {},
   "outputs": [
    {
     "data": {
      "text/plain": [
       "8"
      ]
     },
     "execution_count": 71,
     "metadata": {},
     "output_type": "execute_result"
    }
   ],
   "source": [
    "x2=x.find('r')\n",
    "x2"
   ]
  },
  {
   "cell_type": "code",
   "execution_count": 72,
   "id": "a60d860d-e090-4dbc-9b73-2f15568a6db0",
   "metadata": {},
   "outputs": [
    {
     "data": {
      "text/plain": [
       "'26/11/2023'"
      ]
     },
     "execution_count": 72,
     "metadata": {},
     "output_type": "execute_result"
    }
   ],
   "source": [
    "x2='26/11/2023'\n",
    "x2"
   ]
  },
  {
   "cell_type": "code",
   "execution_count": 77,
   "id": "4a227d6f-5392-421f-acd6-00d4622121c4",
   "metadata": {},
   "outputs": [
    {
     "data": {
      "text/plain": [
       "'26-11-2023'"
      ]
     },
     "execution_count": 77,
     "metadata": {},
     "output_type": "execute_result"
    }
   ],
   "source": [
    "# replace\n",
    "x3=x2.replace('/','-')\n",
    "x3"
   ]
  },
  {
   "cell_type": "code",
   "execution_count": 78,
   "id": "146bf14b-f4ae-4524-a83e-43a29f1cb3d6",
   "metadata": {},
   "outputs": [
    {
     "data": {
      "text/plain": [
       "'26/11/2023'"
      ]
     },
     "execution_count": 78,
     "metadata": {},
     "output_type": "execute_result"
    }
   ],
   "source": [
    "x2"
   ]
  },
  {
   "cell_type": "code",
   "execution_count": 80,
   "id": "79eac70d-53f6-4ca7-9629-f2e46ec9f94e",
   "metadata": {},
   "outputs": [
    {
     "data": {
      "text/plain": [
       "['26', '11', '2023']"
      ]
     },
     "execution_count": 80,
     "metadata": {},
     "output_type": "execute_result"
    }
   ],
   "source": [
    "# split\n",
    "\n",
    "x4=x2.split('/')\n",
    "x4"
   ]
  },
  {
   "cell_type": "code",
   "execution_count": 81,
   "id": "8d88da14-6c8d-4d27-b140-58f18c22e798",
   "metadata": {},
   "outputs": [
    {
     "data": {
      "text/plain": [
       "list"
      ]
     },
     "execution_count": 81,
     "metadata": {},
     "output_type": "execute_result"
    }
   ],
   "source": [
    "type(x4)"
   ]
  },
  {
   "cell_type": "code",
   "execution_count": 82,
   "id": "f0cd0a9d-c729-48e7-80e7-b2a504cc5d18",
   "metadata": {},
   "outputs": [
    {
     "data": {
      "text/plain": [
       "str"
      ]
     },
     "execution_count": 82,
     "metadata": {},
     "output_type": "execute_result"
    }
   ],
   "source": [
    "type(x2)"
   ]
  },
  {
   "cell_type": "code",
   "execution_count": 88,
   "id": "4ebbc8e7-a3e3-447f-865e-6bae565df145",
   "metadata": {},
   "outputs": [
    {
     "data": {
      "text/plain": [
       "'11'"
      ]
     },
     "execution_count": 88,
     "metadata": {},
     "output_type": "execute_result"
    }
   ],
   "source": [
    "x4[1]"
   ]
  },
  {
   "cell_type": "code",
   "execution_count": 94,
   "id": "022abc35-b4c3-4aa2-a220-1a130820d41a",
   "metadata": {},
   "outputs": [
    {
     "data": {
      "text/plain": [
       "True"
      ]
     },
     "execution_count": 94,
     "metadata": {},
     "output_type": "execute_result"
    }
   ],
   "source": [
    "x='abc123'\n",
    "x.isalnum()"
   ]
  },
  {
   "cell_type": "code",
   "execution_count": 96,
   "id": "bec97aff-3247-46be-8c11-af1c38424086",
   "metadata": {},
   "outputs": [
    {
     "data": {
      "text/plain": [
       "False"
      ]
     },
     "execution_count": 96,
     "metadata": {},
     "output_type": "execute_result"
    }
   ],
   "source": [
    "x2='hello world'\n",
    "x2.isupper()\n"
   ]
  },
  {
   "cell_type": "code",
   "execution_count": 99,
   "id": "0f57f268-2ac7-4ef8-b385-b1a643b9ffb3",
   "metadata": {},
   "outputs": [
    {
     "data": {
      "text/plain": [
       "False"
      ]
     },
     "execution_count": 99,
     "metadata": {},
     "output_type": "execute_result"
    }
   ],
   "source": [
    "x='ac123456789'\n",
    "x.isnumeric()"
   ]
  },
  {
   "cell_type": "code",
   "execution_count": 101,
   "id": "68a23336-8a81-4831-ac85-1c0fe32f1186",
   "metadata": {},
   "outputs": [
    {
     "name": "stdout",
     "output_type": "stream",
     "text": [
      "Hello Mukul\n"
     ]
    }
   ],
   "source": [
    "# format\n",
    "\n",
    "txt='Hello {word}'\n",
    "\n",
    "print(txt.format(word=\"Mukul\"))"
   ]
  },
  {
   "cell_type": "code",
   "execution_count": 106,
   "id": "6ff66c9f-87eb-4e9f-b81b-eeaababa61ee",
   "metadata": {},
   "outputs": [
    {
     "name": "stdout",
     "output_type": "stream",
     "text": [
      "Hi, My name is Mukul and I am 20 years old.\n"
     ]
    }
   ],
   "source": [
    "msg1=\"Hi, My name is {name} and I am {age} years old.\"\n",
    "\n",
    "print(msg1.format(name=\"Mukul\",age=20))"
   ]
  },
  {
   "cell_type": "code",
   "execution_count": null,
   "id": "594e0c02-4f2e-4dee-a120-25d55a683326",
   "metadata": {},
   "outputs": [],
   "source": []
  }
 ],
 "metadata": {
  "kernelspec": {
   "display_name": "Python 3 (ipykernel)",
   "language": "python",
   "name": "python3"
  },
  "language_info": {
   "codemirror_mode": {
    "name": "ipython",
    "version": 3
   },
   "file_extension": ".py",
   "mimetype": "text/x-python",
   "name": "python",
   "nbconvert_exporter": "python",
   "pygments_lexer": "ipython3",
   "version": "3.11.4"
  }
 },
 "nbformat": 4,
 "nbformat_minor": 5
}
